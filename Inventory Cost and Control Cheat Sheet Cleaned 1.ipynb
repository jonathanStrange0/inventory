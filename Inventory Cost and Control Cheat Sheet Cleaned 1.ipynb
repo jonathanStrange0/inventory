{
 "cells": [
  {
   "cell_type": "markdown",
   "metadata": {},
   "source": [
    "# Section 1, Problem Statement, and Overview of Results"
   ]
  },
  {
   "cell_type": "markdown",
   "metadata": {},
   "source": [
    "### First, we must import our libraries"
   ]
  },
  {
   "cell_type": "code",
   "execution_count": 22,
   "metadata": {},
   "outputs": [],
   "source": [
    "import pandas as pd\n",
    "from pandas.io.json import json_normalize #this is a crutial, and awesome library. if you work with json, you need this in your life\n",
    "import numpy as np \n",
    "import matplotlib.pyplot as plt\n",
    "import json, re, os\n",
    "%matplotlib inline\n",
    "plt.rcParams['figure.figsize'] = 15,15\n",
    "from datetime import datetime, timedelta\n",
    "from pprint import pprint\n",
    "\n",
    "# These two modules are a collection of custom functions built to connect\n",
    "# and gather information from unleashed software via it's api.\n",
    "from ulConnect import getULData, convertDateToDate\n",
    "from WatchDog import getAllSOH, getSOH\n"
   ]
  },
  {
   "cell_type": "markdown",
   "metadata": {},
   "source": [
    "### Here we will just make some adjustments to the default way pandas displays dataframes. I like to be able to see all the columns"
   ]
  },
  {
   "cell_type": "code",
   "execution_count": 23,
   "metadata": {},
   "outputs": [],
   "source": [
    "pd.set_option('display.max_rows', 500)\n",
    "pd.set_option('display.max_columns', 500)\n",
    "pd.set_option('display.width', 1000)"
   ]
  },
  {
   "cell_type": "markdown",
   "metadata": {},
   "source": [
    "### Now we are going to define a function to extract the stock on hand from unleashed based on a particular date.\n",
    "\n",
    "This will show us the quantities of everything we have for each day. From there we have the base of our analytics"
   ]
  },
  {
   "cell_type": "code",
   "execution_count": 24,
   "metadata": {},
   "outputs": [],
   "source": [
    "def get_soh_as_of_date(date_string=None):\n",
    "    r = getULData('StockOnHand/','pageSize=1000') # create a requests with the maximum size\n",
    "    pages = r.json()['Pagination']['NumberOfPages'] # determine the number of pages that go with this request\n",
    "    if not date_string: # we should define a default date string\n",
    "        date_string = str(datetime.now().year)+'-'+str(datetime.now().month)+'-'+str(datetime.now().day)\n",
    "    # Get a request list of Sales Orders by\n",
    "    # looping through pages and get all POs\n",
    "    soh = []\n",
    "    for i in range(1,pages+1):\n",
    "        # Make a request for the specific page we want\n",
    "        r = getULData('StockOnHand/'+str(i), 'pageSize=1000&asAtDate='+date_string)\n",
    "        # append the json objects in the object called \"Items\" to the list of stock on hand material\n",
    "        for item in r.json()['Items']:\n",
    "            if item not in soh:\n",
    "                soh.append(item)\n",
    "#     Write this object to a file for future great ideas\n",
    "    if os.path.isfile('stockOnHand_'+date_string+'.json'):\n",
    "        os.remove('stockOnHand_'+date_string+'.json')\n",
    "    with open('stockOnHand_'+date_string+'.json', 'w') as outfile:\n",
    "        json.dump(soh, outfile)\n",
    "#  Also return the soh list of json objects.\n",
    "    return(soh)"
   ]
  },
  {
   "cell_type": "markdown",
   "metadata": {},
   "source": [
    "## Show that all the files of stock on hand have been previously downloaded.\n",
    "\n",
    "Here you can see, I have already downloaded the stock on hand from the beginning of 2019 to recently"
   ]
  },
  {
   "cell_type": "code",
   "execution_count": 25,
   "metadata": {
    "scrolled": true
   },
   "outputs": [
    {
     "name": "stdout",
     "output_type": "stream",
     "text": [
      "stockOnHand_2019-2-28.json\r\n",
      "stockOnHand_2019-9-13.json\r\n"
     ]
    }
   ],
   "source": [
    "! ls | grep stockOnHand_"
   ]
  },
  {
   "cell_type": "markdown",
   "metadata": {},
   "source": [
    "### Similar to getting the stock on hand, we are going to grab all the products in our product catalogue. \n",
    "\n",
    "This will be handy when we are trying to compare what has happened to our inventory values of stocking vs non-stocking products.\n",
    "\n",
    "I am going to cheat here and just copy in the function, it is very similar to the stock on hand function above."
   ]
  },
  {
   "cell_type": "code",
   "execution_count": 26,
   "metadata": {},
   "outputs": [],
   "source": [
    "def get_all_products():\n",
    "    r = getULData('Products/','pageSize=1000')\n",
    "    pages = r.json()['Pagination']['NumberOfPages']\n",
    "    # Get a request list of products by\n",
    "    # looping through pages and get all listed products\n",
    "    products = []\n",
    "    for i in range(1,pages+1):\n",
    "        # print(i)\n",
    "        r = getULData('Products/'+str(i), 'pageSize=1000')\n",
    "        for item in r.json()['Items']:\n",
    "            if item not in products:\n",
    "                products.append(item)\n",
    "    if os.path.isfile('products.json'):\n",
    "        os.remove('products.json')\n",
    "    with open('products.json', 'w') as outfile:\n",
    "        json.dump(products, outfile)\n",
    "\n",
    "    return(products)"
   ]
  },
  {
   "cell_type": "markdown",
   "metadata": {},
   "source": [
    "# Grab the initial inventory at the beginning of the project (feb, 28(ish), 2019)\n",
    "\n",
    "Here we want to compare the inventory values broken up into product groups at the beginning of this project to the most recent inventory values."
   ]
  },
  {
   "cell_type": "code",
   "execution_count": 27,
   "metadata": {},
   "outputs": [],
   "source": [
    "initial_stock_df = pd.read_json('stockOnHand_2019-2-28.json')"
   ]
  },
  {
   "cell_type": "markdown",
   "metadata": {},
   "source": [
    "# Download the inventory values of today:"
   ]
  },
  {
   "cell_type": "code",
   "execution_count": 28,
   "metadata": {},
   "outputs": [],
   "source": [
    "_ = get_soh_as_of_date(date_string='%s-%s-%s' % (datetime.now().year, datetime.now().month, datetime.now().day))"
   ]
  },
  {
   "cell_type": "code",
   "execution_count": 40,
   "metadata": {},
   "outputs": [],
   "source": [
    "current_inventory_df = pd.read_json('stockOnHand_%s-%s-%s.json'% (datetime.now().year, datetime.now().month, datetime.now().day))"
   ]
  },
  {
   "cell_type": "markdown",
   "metadata": {},
   "source": [
    "# Examine the resulting dataframe:"
   ]
  },
  {
   "cell_type": "code",
   "execution_count": 41,
   "metadata": {},
   "outputs": [
    {
     "data": {
      "text/html": [
       "<div>\n",
       "<style scoped>\n",
       "    .dataframe tbody tr th:only-of-type {\n",
       "        vertical-align: middle;\n",
       "    }\n",
       "\n",
       "    .dataframe tbody tr th {\n",
       "        vertical-align: top;\n",
       "    }\n",
       "\n",
       "    .dataframe thead th {\n",
       "        text-align: right;\n",
       "    }\n",
       "</style>\n",
       "<table border=\"1\" class=\"dataframe\">\n",
       "  <thead>\n",
       "    <tr style=\"text-align: right;\">\n",
       "      <th></th>\n",
       "      <th>AllocatedQty</th>\n",
       "      <th>AvailableQty</th>\n",
       "      <th>AvgCost</th>\n",
       "      <th>DaysSinceLastSale</th>\n",
       "      <th>Guid</th>\n",
       "      <th>LastModifiedOn</th>\n",
       "      <th>OnPurchase</th>\n",
       "      <th>ProductCode</th>\n",
       "      <th>ProductDescription</th>\n",
       "      <th>ProductGroupName</th>\n",
       "      <th>ProductGuid</th>\n",
       "      <th>ProductSourceId</th>\n",
       "      <th>QtyOnHand</th>\n",
       "      <th>TotalCost</th>\n",
       "      <th>Warehouse</th>\n",
       "      <th>WarehouseCode</th>\n",
       "      <th>WarehouseId</th>\n",
       "    </tr>\n",
       "  </thead>\n",
       "  <tbody>\n",
       "    <tr>\n",
       "      <th>0</th>\n",
       "      <td>0.0</td>\n",
       "      <td>2.0</td>\n",
       "      <td>3.380000</td>\n",
       "      <td>54.0</td>\n",
       "      <td>594091f0-c613-42ff-9433-49337bf7be32</td>\n",
       "      <td>/Date(1564057822394)/</td>\n",
       "      <td>0.0</td>\n",
       "      <td>10' Pad6314</td>\n",
       "      <td>Padco Refill Lambskin 10'</td>\n",
       "      <td>Applicators</td>\n",
       "      <td>594091f0-c613-42ff-9433-49337bf7be32</td>\n",
       "      <td>NaN</td>\n",
       "      <td>2.0</td>\n",
       "      <td>6.760</td>\n",
       "      <td></td>\n",
       "      <td></td>\n",
       "      <td></td>\n",
       "    </tr>\n",
       "    <tr>\n",
       "      <th>1</th>\n",
       "      <td>0.0</td>\n",
       "      <td>9.0</td>\n",
       "      <td>3.840000</td>\n",
       "      <td>64.0</td>\n",
       "      <td>5d6c26aa-f64d-4237-94a8-598449b2a2c0</td>\n",
       "      <td>/Date(1563218821284)/</td>\n",
       "      <td>0.0</td>\n",
       "      <td>12' Pad6316</td>\n",
       "      <td>Padco Refill Lambskin 12'</td>\n",
       "      <td>Applicators</td>\n",
       "      <td>5d6c26aa-f64d-4237-94a8-598449b2a2c0</td>\n",
       "      <td>NaN</td>\n",
       "      <td>9.0</td>\n",
       "      <td>34.560</td>\n",
       "      <td></td>\n",
       "      <td></td>\n",
       "      <td></td>\n",
       "    </tr>\n",
       "    <tr>\n",
       "      <th>2</th>\n",
       "      <td>1.0</td>\n",
       "      <td>12.0</td>\n",
       "      <td>5.250000</td>\n",
       "      <td>292.0</td>\n",
       "      <td>61b7111f-4eb3-469c-a946-14938398b151</td>\n",
       "      <td>/Date(1544736064492)/</td>\n",
       "      <td>0.0</td>\n",
       "      <td>16' Pad6320</td>\n",
       "      <td>Padco Refill Lambskin 16'</td>\n",
       "      <td>Applicators</td>\n",
       "      <td>61b7111f-4eb3-469c-a946-14938398b151</td>\n",
       "      <td>NaN</td>\n",
       "      <td>13.0</td>\n",
       "      <td>68.250</td>\n",
       "      <td></td>\n",
       "      <td></td>\n",
       "      <td></td>\n",
       "    </tr>\n",
       "    <tr>\n",
       "      <th>3</th>\n",
       "      <td>0.0</td>\n",
       "      <td>140.0</td>\n",
       "      <td>5.590000</td>\n",
       "      <td>40.0</td>\n",
       "      <td>b0ad60e3-4322-439f-9bfb-0d5a6f0785a5</td>\n",
       "      <td>/Date(1565290579484)/</td>\n",
       "      <td>0.0</td>\n",
       "      <td>3MBelReg729100</td>\n",
       "      <td>7-7/8'x29-1/2' 100 Grit Regalite belt</td>\n",
       "      <td>Sandpaper</td>\n",
       "      <td>b0ad60e3-4322-439f-9bfb-0d5a6f0785a5</td>\n",
       "      <td>NaN</td>\n",
       "      <td>140.0</td>\n",
       "      <td>782.600</td>\n",
       "      <td></td>\n",
       "      <td></td>\n",
       "      <td></td>\n",
       "    </tr>\n",
       "    <tr>\n",
       "      <th>4</th>\n",
       "      <td>0.0</td>\n",
       "      <td>30.0</td>\n",
       "      <td>5.832833</td>\n",
       "      <td>67.0</td>\n",
       "      <td>56f3791c-55a8-464e-bac5-17b005d71a96</td>\n",
       "      <td>/Date(1562946750077)/</td>\n",
       "      <td>0.0</td>\n",
       "      <td>3mBelReg729120</td>\n",
       "      <td>7-7/8'x29-1/2' 120 Grit Regalite belt</td>\n",
       "      <td>Sandpaper</td>\n",
       "      <td>56f3791c-55a8-464e-bac5-17b005d71a96</td>\n",
       "      <td>NaN</td>\n",
       "      <td>30.0</td>\n",
       "      <td>174.985</td>\n",
       "      <td></td>\n",
       "      <td></td>\n",
       "      <td></td>\n",
       "    </tr>\n",
       "  </tbody>\n",
       "</table>\n",
       "</div>"
      ],
      "text/plain": [
       "   AllocatedQty  AvailableQty   AvgCost  DaysSinceLastSale                                  Guid         LastModifiedOn  OnPurchase     ProductCode                     ProductDescription ProductGroupName                           ProductGuid  ProductSourceId  QtyOnHand  TotalCost Warehouse WarehouseCode WarehouseId\n",
       "0           0.0           2.0  3.380000               54.0  594091f0-c613-42ff-9433-49337bf7be32  /Date(1564057822394)/         0.0     10' Pad6314              Padco Refill Lambskin 10'      Applicators  594091f0-c613-42ff-9433-49337bf7be32              NaN        2.0      6.760                                    \n",
       "1           0.0           9.0  3.840000               64.0  5d6c26aa-f64d-4237-94a8-598449b2a2c0  /Date(1563218821284)/         0.0     12' Pad6316              Padco Refill Lambskin 12'      Applicators  5d6c26aa-f64d-4237-94a8-598449b2a2c0              NaN        9.0     34.560                                    \n",
       "2           1.0          12.0  5.250000              292.0  61b7111f-4eb3-469c-a946-14938398b151  /Date(1544736064492)/         0.0     16' Pad6320              Padco Refill Lambskin 16'      Applicators  61b7111f-4eb3-469c-a946-14938398b151              NaN       13.0     68.250                                    \n",
       "3           0.0         140.0  5.590000               40.0  b0ad60e3-4322-439f-9bfb-0d5a6f0785a5  /Date(1565290579484)/         0.0  3MBelReg729100  7-7/8'x29-1/2' 100 Grit Regalite belt        Sandpaper  b0ad60e3-4322-439f-9bfb-0d5a6f0785a5              NaN      140.0    782.600                                    \n",
       "4           0.0          30.0  5.832833               67.0  56f3791c-55a8-464e-bac5-17b005d71a96  /Date(1562946750077)/         0.0  3mBelReg729120  7-7/8'x29-1/2' 120 Grit Regalite belt        Sandpaper  56f3791c-55a8-464e-bac5-17b005d71a96              NaN       30.0    174.985                                    "
      ]
     },
     "execution_count": 41,
     "metadata": {},
     "output_type": "execute_result"
    }
   ],
   "source": [
    "current_inventory_df.head()"
   ]
  },
  {
   "cell_type": "markdown",
   "metadata": {},
   "source": [
    "# Calculate the initial inventory totals seperated by product group, and summed:"
   ]
  },
  {
   "cell_type": "markdown",
   "metadata": {},
   "source": [
    "The way we will compare the effect on the total inventory value from here on will be by comparing the value of the product groups we hvae them seperated into."
   ]
  },
  {
   "cell_type": "code",
   "execution_count": 42,
   "metadata": {},
   "outputs": [],
   "source": [
    "initial_total_values_df = initial_stock_df[['ProductGroupName', 'TotalCost']].groupby('ProductGroupName').sum()\n",
    "current_total_values_df = current_inventory_df[['ProductGroupName', 'TotalCost']].groupby('ProductGroupName').sum()"
   ]
  },
  {
   "cell_type": "markdown",
   "metadata": {},
   "source": [
    "# Concatinate these two df's so we can compare them better"
   ]
  },
  {
   "cell_type": "code",
   "execution_count": 43,
   "metadata": {},
   "outputs": [
    {
     "name": "stderr",
     "output_type": "stream",
     "text": [
      "/Users/jon/anaconda3/lib/python3.7/site-packages/ipykernel_launcher.py:1: FutureWarning: Sorting because non-concatenation axis is not aligned. A future version\n",
      "of pandas will change to not sort by default.\n",
      "\n",
      "To accept the future behavior, pass 'sort=False'.\n",
      "\n",
      "To retain the current behavior and silence the warning, pass 'sort=True'.\n",
      "\n",
      "  \"\"\"Entry point for launching an IPython kernel.\n"
     ]
    }
   ],
   "source": [
    "change_df = pd.concat([initial_total_values_df,current_total_values_df], axis=1)\n",
    "change_df.columns = ['Initial', 'Final']"
   ]
  },
  {
   "cell_type": "markdown",
   "metadata": {},
   "source": [
    "# Take a peak:"
   ]
  },
  {
   "cell_type": "code",
   "execution_count": 44,
   "metadata": {},
   "outputs": [
    {
     "data": {
      "text/html": [
       "<div>\n",
       "<style scoped>\n",
       "    .dataframe tbody tr th:only-of-type {\n",
       "        vertical-align: middle;\n",
       "    }\n",
       "\n",
       "    .dataframe tbody tr th {\n",
       "        vertical-align: top;\n",
       "    }\n",
       "\n",
       "    .dataframe thead th {\n",
       "        text-align: right;\n",
       "    }\n",
       "</style>\n",
       "<table border=\"1\" class=\"dataframe\">\n",
       "  <thead>\n",
       "    <tr style=\"text-align: right;\">\n",
       "      <th></th>\n",
       "      <th>Initial</th>\n",
       "      <th>Final</th>\n",
       "    </tr>\n",
       "  </thead>\n",
       "  <tbody>\n",
       "    <tr>\n",
       "      <th></th>\n",
       "      <td>8595.823</td>\n",
       "      <td>13227.930</td>\n",
       "    </tr>\n",
       "    <tr>\n",
       "      <th>Adhesives</th>\n",
       "      <td>2601.734</td>\n",
       "      <td>6778.621</td>\n",
       "    </tr>\n",
       "    <tr>\n",
       "      <th>American Cherry Trim</th>\n",
       "      <td>NaN</td>\n",
       "      <td>2259.450</td>\n",
       "    </tr>\n",
       "    <tr>\n",
       "      <th>Applicators</th>\n",
       "      <td>4673.072</td>\n",
       "      <td>3555.865</td>\n",
       "    </tr>\n",
       "    <tr>\n",
       "      <th>Ash Trim</th>\n",
       "      <td>NaN</td>\n",
       "      <td>1148.229</td>\n",
       "    </tr>\n",
       "    <tr>\n",
       "      <th>BC Trim</th>\n",
       "      <td>NaN</td>\n",
       "      <td>1041.694</td>\n",
       "    </tr>\n",
       "    <tr>\n",
       "      <th>Birch Trim</th>\n",
       "      <td>NaN</td>\n",
       "      <td>0.000</td>\n",
       "    </tr>\n",
       "    <tr>\n",
       "      <th>Fasteners</th>\n",
       "      <td>14225.160</td>\n",
       "      <td>14203.653</td>\n",
       "    </tr>\n",
       "    <tr>\n",
       "      <th>Filler</th>\n",
       "      <td>4839.136</td>\n",
       "      <td>3601.530</td>\n",
       "    </tr>\n",
       "    <tr>\n",
       "      <th>Finish</th>\n",
       "      <td>133837.440</td>\n",
       "      <td>85898.499</td>\n",
       "    </tr>\n",
       "    <tr>\n",
       "      <th>Grills</th>\n",
       "      <td>9517.916</td>\n",
       "      <td>10997.992</td>\n",
       "    </tr>\n",
       "    <tr>\n",
       "      <th>Hickory Trim</th>\n",
       "      <td>NaN</td>\n",
       "      <td>1751.677</td>\n",
       "    </tr>\n",
       "    <tr>\n",
       "      <th>Lagler Parts</th>\n",
       "      <td>1837.710</td>\n",
       "      <td>1911.475</td>\n",
       "    </tr>\n",
       "    <tr>\n",
       "      <th>Maple Trim</th>\n",
       "      <td>NaN</td>\n",
       "      <td>2603.468</td>\n",
       "    </tr>\n",
       "    <tr>\n",
       "      <th>Norton Misc.</th>\n",
       "      <td>384.603</td>\n",
       "      <td>584.604</td>\n",
       "    </tr>\n",
       "    <tr>\n",
       "      <th>Numbers</th>\n",
       "      <td>26554.000</td>\n",
       "      <td>20296.606</td>\n",
       "    </tr>\n",
       "    <tr>\n",
       "      <th>Parts</th>\n",
       "      <td>4915.190</td>\n",
       "      <td>6325.194</td>\n",
       "    </tr>\n",
       "    <tr>\n",
       "      <th>Prefinished Flooring</th>\n",
       "      <td>394317.377</td>\n",
       "      <td>342615.686</td>\n",
       "    </tr>\n",
       "    <tr>\n",
       "      <th>Prefinished Trim</th>\n",
       "      <td>9359.976</td>\n",
       "      <td>8406.319</td>\n",
       "    </tr>\n",
       "    <tr>\n",
       "      <th>Red Oak Trim</th>\n",
       "      <td>NaN</td>\n",
       "      <td>3354.114</td>\n",
       "    </tr>\n",
       "  </tbody>\n",
       "</table>\n",
       "</div>"
      ],
      "text/plain": [
       "                         Initial       Final\n",
       "                        8595.823   13227.930\n",
       "Adhesives               2601.734    6778.621\n",
       "American Cherry Trim         NaN    2259.450\n",
       "Applicators             4673.072    3555.865\n",
       "Ash Trim                     NaN    1148.229\n",
       "BC Trim                      NaN    1041.694\n",
       "Birch Trim                   NaN       0.000\n",
       "Fasteners              14225.160   14203.653\n",
       "Filler                  4839.136    3601.530\n",
       "Finish                133837.440   85898.499\n",
       "Grills                  9517.916   10997.992\n",
       "Hickory Trim                 NaN    1751.677\n",
       "Lagler Parts            1837.710    1911.475\n",
       "Maple Trim                   NaN    2603.468\n",
       "Norton Misc.             384.603     584.604\n",
       "Numbers                26554.000   20296.606\n",
       "Parts                   4915.190    6325.194\n",
       "Prefinished Flooring  394317.377  342615.686\n",
       "Prefinished Trim        9359.976    8406.319\n",
       "Red Oak Trim                 NaN    3354.114"
      ]
     },
     "execution_count": 44,
     "metadata": {},
     "output_type": "execute_result"
    }
   ],
   "source": [
    "change_df.head(20)"
   ]
  },
  {
   "cell_type": "markdown",
   "metadata": {},
   "source": [
    "# Plot these graphs "
   ]
  },
  {
   "cell_type": "markdown",
   "metadata": {},
   "source": [
    "Comparing data in tables is not nearly as effective as having a look at a plot of the same information"
   ]
  },
  {
   "cell_type": "code",
   "execution_count": 45,
   "metadata": {},
   "outputs": [
    {
     "data": {
      "image/png": "[encoded data removed]",
      "text/plain": [
       "<Figure size 1440x864 with 1 Axes>"
      ]
     },
     "metadata": {
      "needs_background": "light"
     },
     "output_type": "display_data"
    }
   ],
   "source": [
    "labels = change_df.index\n",
    "initial_values = change_df.Initial\n",
    "final_values= change_df.Final\n",
    "\n",
    "x = np.arange(len(labels))  # the label locations\n",
    "width = 0.45  # the width of the bars\n",
    "\n",
    "fig, ax = plt.subplots(figsize=(20,12))\n",
    "rects1 = ax.barh(x - width/2, initial_values, width, label='Initial Values $' + str(np.round(change_df.Initial.sum(),2)))\n",
    "rects2 = ax.barh(x + width/2, final_values, width, label='Final Values $' + str(np.round(change_df.Final.sum(),2)))\n",
    "\n",
    "pgs = current_total_values_df.index\n",
    "y_pos = np.arange(len(pgs))\n",
    "\n",
    "# Add some text for labels, title and custom x-axis tick labels, etc.\n",
    "ax.set_ylabel('Product Groups')\n",
    "ax.set_title('Value ($USD)')\n",
    "ax.set_yticks(y_pos)\n",
    "ax.set_yticklabels(pgs)\n",
    "ax.invert_yaxis()\n",
    "ax.set_xlabel('USD$')\n",
    "ax.legend()\n",
    "\n",
    "plt.show()"
   ]
  },
  {
   "cell_type": "markdown",
   "metadata": {},
   "source": [
    "# Section 2, Walkthrough of the System"
   ]
  },
  {
   "cell_type": "markdown",
   "metadata": {},
   "source": [
    "# Now we are going to discuss the process by which we lowered these values, and analyze the effect this system has on the overall inventory we carry."
   ]
  },
  {
   "cell_type": "markdown",
   "metadata": {},
   "source": [
    "### First, we suspect that our big customers are ordering product long before they acutally need it, and we are sitting on that materail for a long time, contributing to increased levels of inventory that are typically non-stock:\n",
    "\n",
    "#### Lets look at three customers in particular:"
   ]
  },
  {
   "cell_type": "code",
   "execution_count": 46,
   "metadata": {},
   "outputs": [
    {
     "data": {
      "text/plain": [
       "Timedelta('77 days 18:50:04.203428')"
      ]
     },
     "execution_count": 46,
     "metadata": {},
     "output_type": "execute_result"
    }
   ],
   "source": [
    "r = getULData('SalesOrders/','pageSize=1000&customerId=11f96960-a3e3-4f3d-9883-b707274afef0&startDate=2018-4-9&endDate=2019-3-1&orderStatus=Completed')\n",
    "so_df = pd.read_json(json.dumps(r.json()['Items']))\n",
    "so_df.OrderDate = so_df.OrderDate.apply(convertDateToDate)\n",
    "so_df.CompletedDate = so_df.CompletedDate.apply(convertDateToDate)\n",
    "so_df['Time_To_Complete'] = so_df.CompletedDate - so_df.OrderDate\n",
    "so_df[so_df.Time_To_Complete > timedelta(0)]['Time_To_Complete'].mean()"
   ]
  },
  {
   "cell_type": "code",
   "execution_count": 47,
   "metadata": {},
   "outputs": [
    {
     "data": {
      "text/plain": [
       "Timedelta('62 days 18:58:10.259015')"
      ]
     },
     "execution_count": 47,
     "metadata": {},
     "output_type": "execute_result"
    }
   ],
   "source": [
    "r = getULData('SalesOrders/','pageSize=1000&customerId=2c0d01c7-c492-4385-987b-8ad8cdd34416&startDate=2018-4-9&endDate=2019-3-1&orderStatus=Completed')\n",
    "so_df = pd.read_json(json.dumps(r.json()['Items']))\n",
    "so_df.OrderDate = so_df.OrderDate.apply(convertDateToDate)\n",
    "so_df.CompletedDate = so_df.CompletedDate.apply(convertDateToDate)\n",
    "so_df['Time_To_Complete'] = so_df.CompletedDate - so_df.OrderDate\n",
    "so_df[so_df.Time_To_Complete > timedelta(0)]['Time_To_Complete'].mean()"
   ]
  },
  {
   "cell_type": "code",
   "execution_count": 48,
   "metadata": {},
   "outputs": [
    {
     "data": {
      "text/plain": [
       "Timedelta('29 days 14:12:03.853100')"
      ]
     },
     "execution_count": 48,
     "metadata": {},
     "output_type": "execute_result"
    }
   ],
   "source": [
    "r = getULData('SalesOrders/','pageSize=1000&customerId=f31ae7bd-b182-474e-b429-c91a07b2b567&startDate=2018-4-9&endDate=2018-12-31&orderStatus=Completed')\n",
    "so_df = pd.read_json(json.dumps(r.json()['Items']))\n",
    "so_df.OrderDate = so_df.OrderDate.apply(convertDateToDate)\n",
    "so_df.CompletedDate = so_df.CompletedDate.apply(convertDateToDate)\n",
    "so_df['Time_To_Complete'] = so_df.CompletedDate - so_df.OrderDate\n",
    "so_df[so_df.Time_To_Complete > timedelta(0)]['Time_To_Complete'].mean()"
   ]
  },
  {
   "cell_type": "code",
   "execution_count": 49,
   "metadata": {},
   "outputs": [
    {
     "data": {
      "text/plain": [
       "Timedelta('35 days 23:49:10.124900')"
      ]
     },
     "execution_count": 49,
     "metadata": {},
     "output_type": "execute_result"
    }
   ],
   "source": [
    "r = getULData('SalesOrders/','pageSize=1000&customerId=51448e4e-3470-42fd-a9a9-5dde118e4efb&startDate=2018-4-9&endDate=2019-3-1&orderStatus=Completed')\n",
    "so_df = pd.read_json(json.dumps(r.json()['Items']))\n",
    "so_df.OrderDate = so_df.OrderDate.apply(convertDateToDate)\n",
    "so_df.CompletedDate = so_df.CompletedDate.apply(convertDateToDate)\n",
    "so_df['Time_To_Complete'] = so_df.CompletedDate - so_df.OrderDate\n",
    "so_df[so_df.Time_To_Complete > timedelta(0)]['Time_To_Complete'].mean()"
   ]
  },
  {
   "cell_type": "markdown",
   "metadata": {},
   "source": [
    "### So for decent sized customers (you'll have to trust me on that) we're seeing time between order and delivery of 26 to 77 days.\n",
    "\n",
    "### Let's compare that to the average time to get material delivered from our largest flooring suppliers:"
   ]
  },
  {
   "cell_type": "code",
   "execution_count": 51,
   "metadata": {},
   "outputs": [
    {
     "data": {
      "text/html": [
       "<div>\n",
       "<style scoped>\n",
       "    .dataframe tbody tr th:only-of-type {\n",
       "        vertical-align: middle;\n",
       "    }\n",
       "\n",
       "    .dataframe tbody tr th {\n",
       "        vertical-align: top;\n",
       "    }\n",
       "\n",
       "    .dataframe thead th {\n",
       "        text-align: right;\n",
       "    }\n",
       "</style>\n",
       "<table border=\"1\" class=\"dataframe\">\n",
       "  <thead>\n",
       "    <tr style=\"text-align: right;\">\n",
       "      <th></th>\n",
       "      <th>BCSubTotal</th>\n",
       "      <th>BCTaxTotal</th>\n",
       "      <th>BCTotal</th>\n",
       "      <th>Comments</th>\n",
       "      <th>CompletedDate</th>\n",
       "      <th>CreatedBy</th>\n",
       "      <th>CreatedOn</th>\n",
       "      <th>Currency</th>\n",
       "      <th>DeliveryCity</th>\n",
       "      <th>DeliveryCountry</th>\n",
       "      <th>DeliveryName</th>\n",
       "      <th>DeliveryPostCode</th>\n",
       "      <th>DeliveryRegion</th>\n",
       "      <th>DeliveryStreetAddress</th>\n",
       "      <th>DeliveryStreetAddress2</th>\n",
       "      <th>DeliverySuburb</th>\n",
       "      <th>DiscountRate</th>\n",
       "      <th>ExchangeRate</th>\n",
       "      <th>Guid</th>\n",
       "      <th>LastModifiedBy</th>\n",
       "      <th>LastModifiedOn</th>\n",
       "      <th>OrderDate</th>\n",
       "      <th>OrderNumber</th>\n",
       "      <th>OrderStatus</th>\n",
       "      <th>Printed</th>\n",
       "      <th>PurchaseOrderLines</th>\n",
       "      <th>ReceivedDate</th>\n",
       "      <th>RequiredDate</th>\n",
       "      <th>SalesOrders</th>\n",
       "      <th>SubTotal</th>\n",
       "      <th>Supplier</th>\n",
       "      <th>SupplierInvoiceDate</th>\n",
       "      <th>SupplierRef</th>\n",
       "      <th>Tax</th>\n",
       "      <th>TaxRate</th>\n",
       "      <th>TaxTotal</th>\n",
       "      <th>Total</th>\n",
       "      <th>TotalVolume</th>\n",
       "      <th>TotalWeight</th>\n",
       "      <th>Warehouse</th>\n",
       "      <th>XeroTaxCode</th>\n",
       "    </tr>\n",
       "  </thead>\n",
       "  <tbody>\n",
       "    <tr>\n",
       "      <th>0</th>\n",
       "      <td>8006.86</td>\n",
       "      <td>0</td>\n",
       "      <td>8006.86</td>\n",
       "      <td>None</td>\n",
       "      <td>2018-04-09 19:11:28.862</td>\n",
       "      <td>jon@iwhardwood.com</td>\n",
       "      <td>2018-04-08 13:34:18.314</td>\n",
       "      <td>{'CurrencyCode': 'USD', 'Description': 'United...</td>\n",
       "      <td>Rochester</td>\n",
       "      <td>None</td>\n",
       "      <td>Installers Warehouse, Inc.</td>\n",
       "      <td>14606.0</td>\n",
       "      <td>NY</td>\n",
       "      <td>1677C Lyell Ave.</td>\n",
       "      <td>None</td>\n",
       "      <td>None</td>\n",
       "      <td>0</td>\n",
       "      <td>1</td>\n",
       "      <td>61a227f7-fc66-423f-b0ea-4d5e6fd9c8dc</td>\n",
       "      <td>sue@iwhardwood.com</td>\n",
       "      <td>/Date(1523301194643)/</td>\n",
       "      <td>/Date(1523160000000)/</td>\n",
       "      <td>PO-00000002</td>\n",
       "      <td>Complete</td>\n",
       "      <td>NaN</td>\n",
       "      <td>[{'Guid': '8b33d1c3-6376-49b9-b64a-78b4b6899c0...</td>\n",
       "      <td>/Date(1523300480970)/</td>\n",
       "      <td>/Date(1523160000000)/</td>\n",
       "      <td>[]</td>\n",
       "      <td>8006.86</td>\n",
       "      <td>{'Guid': 'd320ea27-5022-44fe-b03a-7038f3e85d65...</td>\n",
       "      <td>/Date(1523246400000)/</td>\n",
       "      <td>S3319</td>\n",
       "      <td>{'TaxCode': 'NONE', 'Description': None, 'TaxR...</td>\n",
       "      <td>0</td>\n",
       "      <td>0</td>\n",
       "      <td>8006.86</td>\n",
       "      <td>0</td>\n",
       "      <td>0</td>\n",
       "      <td>{'WarehouseCode': 'IW', 'WarehouseName': 'Inst...</td>\n",
       "      <td>NONE</td>\n",
       "    </tr>\n",
       "    <tr>\n",
       "      <th>1</th>\n",
       "      <td>440.00</td>\n",
       "      <td>0</td>\n",
       "      <td>440.00</td>\n",
       "      <td>None</td>\n",
       "      <td>2018-04-09 19:06:01.377</td>\n",
       "      <td>jon@iwhardwood.com</td>\n",
       "      <td>2018-04-08 13:35:52.611</td>\n",
       "      <td>{'CurrencyCode': 'USD', 'Description': 'United...</td>\n",
       "      <td>Rochester</td>\n",
       "      <td>None</td>\n",
       "      <td>Installers Warehouse, Inc.</td>\n",
       "      <td>14606.0</td>\n",
       "      <td>NY</td>\n",
       "      <td>1677C Lyell Ave.</td>\n",
       "      <td>None</td>\n",
       "      <td>None</td>\n",
       "      <td>0</td>\n",
       "      <td>1</td>\n",
       "      <td>0e78b102-4733-4e1f-bcb7-1158c260b666</td>\n",
       "      <td>sue@iwhardwood.com</td>\n",
       "      <td>/Date(1523300761377)/</td>\n",
       "      <td>/Date(1523160000000)/</td>\n",
       "      <td>PO-00000003</td>\n",
       "      <td>Complete</td>\n",
       "      <td>NaN</td>\n",
       "      <td>[{'Guid': '3ea483b9-93bb-4072-ab64-bedad89f3f7...</td>\n",
       "      <td>/Date(1523300759861)/</td>\n",
       "      <td>/Date(1523160000000)/</td>\n",
       "      <td>[]</td>\n",
       "      <td>440.00</td>\n",
       "      <td>{'Guid': 'd320ea27-5022-44fe-b03a-7038f3e85d65...</td>\n",
       "      <td>/Date(1522900800000)/</td>\n",
       "      <td>S3319</td>\n",
       "      <td>{'TaxCode': 'NONE', 'Description': None, 'TaxR...</td>\n",
       "      <td>0</td>\n",
       "      <td>0</td>\n",
       "      <td>440.00</td>\n",
       "      <td>0</td>\n",
       "      <td>0</td>\n",
       "      <td>{'WarehouseCode': 'IW', 'WarehouseName': 'Inst...</td>\n",
       "      <td>NONE</td>\n",
       "    </tr>\n",
       "    <tr>\n",
       "      <th>2</th>\n",
       "      <td>1428.48</td>\n",
       "      <td>0</td>\n",
       "      <td>1428.48</td>\n",
       "      <td>None</td>\n",
       "      <td>2018-04-23 21:00:11.599</td>\n",
       "      <td>sue@iwhardwood.com</td>\n",
       "      <td>2018-04-08 13:46:06.639</td>\n",
       "      <td>{'CurrencyCode': 'USD', 'Description': 'United...</td>\n",
       "      <td>Rochester</td>\n",
       "      <td>None</td>\n",
       "      <td>Installers Warehouse, Inc.</td>\n",
       "      <td>14606.0</td>\n",
       "      <td>NY</td>\n",
       "      <td>1677C Lyell Ave.</td>\n",
       "      <td>None</td>\n",
       "      <td>None</td>\n",
       "      <td>0</td>\n",
       "      <td>1</td>\n",
       "      <td>6765560e-f7b2-4024-b15c-b031c80d3d9c</td>\n",
       "      <td>sue@iwhardwood.com</td>\n",
       "      <td>/Date(1524517211599)/</td>\n",
       "      <td>/Date(1523160000000)/</td>\n",
       "      <td>PO-00000004</td>\n",
       "      <td>Complete</td>\n",
       "      <td>NaN</td>\n",
       "      <td>[{'Guid': '08a73e96-dc69-4f08-bba5-78beb319e20...</td>\n",
       "      <td>/Date(1524517210365)/</td>\n",
       "      <td>/Date(1523160000000)/</td>\n",
       "      <td>[{'Guid': 'd3e0b4f7-0db9-4030-b7bc-702b8897adf...</td>\n",
       "      <td>1428.48</td>\n",
       "      <td>{'Guid': '997d9738-72e7-4d21-a648-32d763dd990e...</td>\n",
       "      <td>/Date(1523419200000)/</td>\n",
       "      <td>189124</td>\n",
       "      <td>{'TaxCode': 'NONE', 'Description': None, 'TaxR...</td>\n",
       "      <td>0</td>\n",
       "      <td>0</td>\n",
       "      <td>1428.48</td>\n",
       "      <td>0</td>\n",
       "      <td>0</td>\n",
       "      <td>{'WarehouseCode': 'IW', 'WarehouseName': 'Inst...</td>\n",
       "      <td>NONE</td>\n",
       "    </tr>\n",
       "    <tr>\n",
       "      <th>3</th>\n",
       "      <td>432.00</td>\n",
       "      <td>0</td>\n",
       "      <td>432.00</td>\n",
       "      <td>None</td>\n",
       "      <td>2018-05-14 14:29:20.108</td>\n",
       "      <td>jon@iwhardwood.com</td>\n",
       "      <td>2018-04-08 13:49:57.109</td>\n",
       "      <td>{'CurrencyCode': 'USD', 'Description': 'United...</td>\n",
       "      <td>Rochester</td>\n",
       "      <td>None</td>\n",
       "      <td>Installers Warehouse, Inc.</td>\n",
       "      <td>14606.0</td>\n",
       "      <td>NY</td>\n",
       "      <td>1677C Lyell Ave.</td>\n",
       "      <td>None</td>\n",
       "      <td>None</td>\n",
       "      <td>0</td>\n",
       "      <td>1</td>\n",
       "      <td>abdd264f-ae10-4359-8609-4d5e1210c9d1</td>\n",
       "      <td>sue@iwhardwood.com</td>\n",
       "      <td>/Date(1526308160108)/</td>\n",
       "      <td>/Date(1523160000000)/</td>\n",
       "      <td>PO-00000005</td>\n",
       "      <td>Complete</td>\n",
       "      <td>NaN</td>\n",
       "      <td>[{'Guid': '3ebd5f4f-cf12-4b76-a276-19b155db764...</td>\n",
       "      <td>/Date(1526308158958)/</td>\n",
       "      <td>/Date(1526270400000)/</td>\n",
       "      <td>[]</td>\n",
       "      <td>432.00</td>\n",
       "      <td>{'Guid': 'd320ea27-5022-44fe-b03a-7038f3e85d65...</td>\n",
       "      <td>/Date(1526011200000)/</td>\n",
       "      <td>S3421</td>\n",
       "      <td>{'TaxCode': 'NONE', 'Description': None, 'TaxR...</td>\n",
       "      <td>0</td>\n",
       "      <td>0</td>\n",
       "      <td>432.00</td>\n",
       "      <td>0</td>\n",
       "      <td>0</td>\n",
       "      <td>{'WarehouseCode': 'IW', 'WarehouseName': 'Inst...</td>\n",
       "      <td>NONE</td>\n",
       "    </tr>\n",
       "    <tr>\n",
       "      <th>4</th>\n",
       "      <td>2201.92</td>\n",
       "      <td>0</td>\n",
       "      <td>2201.92</td>\n",
       "      <td>None</td>\n",
       "      <td>2018-04-25 15:33:59.356</td>\n",
       "      <td>jon@iwhardwood.com</td>\n",
       "      <td>2018-04-08 13:59:12.391</td>\n",
       "      <td>{'CurrencyCode': 'USD', 'Description': 'United...</td>\n",
       "      <td>Rochester</td>\n",
       "      <td>None</td>\n",
       "      <td>Installers Warehouse, Inc.</td>\n",
       "      <td>14606.0</td>\n",
       "      <td>NY</td>\n",
       "      <td>1677C Lyell Ave.</td>\n",
       "      <td>None</td>\n",
       "      <td>None</td>\n",
       "      <td>0</td>\n",
       "      <td>1</td>\n",
       "      <td>4df6d86d-8c8a-4e2d-8d5c-f993a7865107</td>\n",
       "      <td>sue@iwhardwood.com</td>\n",
       "      <td>/Date(1524670439356)/</td>\n",
       "      <td>/Date(1523160000000)/</td>\n",
       "      <td>PO-00000008</td>\n",
       "      <td>Complete</td>\n",
       "      <td>NaN</td>\n",
       "      <td>[{'Guid': '731d4098-e7d1-45ee-9a9d-bf11703eb07...</td>\n",
       "      <td>/Date(1524670437090)/</td>\n",
       "      <td>/Date(1524628800000)/</td>\n",
       "      <td>[]</td>\n",
       "      <td>2201.92</td>\n",
       "      <td>{'Guid': '0871166d-a9b7-439c-afdf-3f67c82ba5c4...</td>\n",
       "      <td>/Date(1523937600000)/</td>\n",
       "      <td>41781</td>\n",
       "      <td>{'TaxCode': 'NONE', 'Description': None, 'TaxR...</td>\n",
       "      <td>0</td>\n",
       "      <td>0</td>\n",
       "      <td>2201.92</td>\n",
       "      <td>0</td>\n",
       "      <td>0</td>\n",
       "      <td>{'WarehouseCode': 'IW', 'WarehouseName': 'Inst...</td>\n",
       "      <td>NONE</td>\n",
       "    </tr>\n",
       "  </tbody>\n",
       "</table>\n",
       "</div>"
      ],
      "text/plain": [
       "   BCSubTotal  BCTaxTotal  BCTotal Comments           CompletedDate           CreatedBy               CreatedOn                                           Currency DeliveryCity DeliveryCountry                DeliveryName  DeliveryPostCode DeliveryRegion DeliveryStreetAddress DeliveryStreetAddress2 DeliverySuburb  DiscountRate  ExchangeRate                                  Guid      LastModifiedBy         LastModifiedOn              OrderDate  OrderNumber OrderStatus  Printed                                 PurchaseOrderLines           ReceivedDate           RequiredDate                                        SalesOrders  SubTotal                                           Supplier    SupplierInvoiceDate SupplierRef                                                Tax  TaxRate  TaxTotal    Total  TotalVolume  TotalWeight                                          Warehouse XeroTaxCode\n",
       "0     8006.86           0  8006.86     None 2018-04-09 19:11:28.862  jon@iwhardwood.com 2018-04-08 13:34:18.314  {'CurrencyCode': 'USD', 'Description': 'United...    Rochester            None  Installers Warehouse, Inc.           14606.0             NY      1677C Lyell Ave.                   None           None             0             1  61a227f7-fc66-423f-b0ea-4d5e6fd9c8dc  sue@iwhardwood.com  /Date(1523301194643)/  /Date(1523160000000)/  PO-00000002    Complete      NaN  [{'Guid': '8b33d1c3-6376-49b9-b64a-78b4b6899c0...  /Date(1523300480970)/  /Date(1523160000000)/                                                 []   8006.86  {'Guid': 'd320ea27-5022-44fe-b03a-7038f3e85d65...  /Date(1523246400000)/       S3319  {'TaxCode': 'NONE', 'Description': None, 'TaxR...        0         0  8006.86            0            0  {'WarehouseCode': 'IW', 'WarehouseName': 'Inst...        NONE\n",
       "1      440.00           0   440.00     None 2018-04-09 19:06:01.377  jon@iwhardwood.com 2018-04-08 13:35:52.611  {'CurrencyCode': 'USD', 'Description': 'United...    Rochester            None  Installers Warehouse, Inc.           14606.0             NY      1677C Lyell Ave.                   None           None             0             1  0e78b102-4733-4e1f-bcb7-1158c260b666  sue@iwhardwood.com  /Date(1523300761377)/  /Date(1523160000000)/  PO-00000003    Complete      NaN  [{'Guid': '3ea483b9-93bb-4072-ab64-bedad89f3f7...  /Date(1523300759861)/  /Date(1523160000000)/                                                 []    440.00  {'Guid': 'd320ea27-5022-44fe-b03a-7038f3e85d65...  /Date(1522900800000)/       S3319  {'TaxCode': 'NONE', 'Description': None, 'TaxR...        0         0   440.00            0            0  {'WarehouseCode': 'IW', 'WarehouseName': 'Inst...        NONE\n",
       "2     1428.48           0  1428.48     None 2018-04-23 21:00:11.599  sue@iwhardwood.com 2018-04-08 13:46:06.639  {'CurrencyCode': 'USD', 'Description': 'United...    Rochester            None  Installers Warehouse, Inc.           14606.0             NY      1677C Lyell Ave.                   None           None             0             1  6765560e-f7b2-4024-b15c-b031c80d3d9c  sue@iwhardwood.com  /Date(1524517211599)/  /Date(1523160000000)/  PO-00000004    Complete      NaN  [{'Guid': '08a73e96-dc69-4f08-bba5-78beb319e20...  /Date(1524517210365)/  /Date(1523160000000)/  [{'Guid': 'd3e0b4f7-0db9-4030-b7bc-702b8897adf...   1428.48  {'Guid': '997d9738-72e7-4d21-a648-32d763dd990e...  /Date(1523419200000)/      189124  {'TaxCode': 'NONE', 'Description': None, 'TaxR...        0         0  1428.48            0            0  {'WarehouseCode': 'IW', 'WarehouseName': 'Inst...        NONE\n",
       "3      432.00           0   432.00     None 2018-05-14 14:29:20.108  jon@iwhardwood.com 2018-04-08 13:49:57.109  {'CurrencyCode': 'USD', 'Description': 'United...    Rochester            None  Installers Warehouse, Inc.           14606.0             NY      1677C Lyell Ave.                   None           None             0             1  abdd264f-ae10-4359-8609-4d5e1210c9d1  sue@iwhardwood.com  /Date(1526308160108)/  /Date(1523160000000)/  PO-00000005    Complete      NaN  [{'Guid': '3ebd5f4f-cf12-4b76-a276-19b155db764...  /Date(1526308158958)/  /Date(1526270400000)/                                                 []    432.00  {'Guid': 'd320ea27-5022-44fe-b03a-7038f3e85d65...  /Date(1526011200000)/       S3421  {'TaxCode': 'NONE', 'Description': None, 'TaxR...        0         0   432.00            0            0  {'WarehouseCode': 'IW', 'WarehouseName': 'Inst...        NONE\n",
       "4     2201.92           0  2201.92     None 2018-04-25 15:33:59.356  jon@iwhardwood.com 2018-04-08 13:59:12.391  {'CurrencyCode': 'USD', 'Description': 'United...    Rochester            None  Installers Warehouse, Inc.           14606.0             NY      1677C Lyell Ave.                   None           None             0             1  4df6d86d-8c8a-4e2d-8d5c-f993a7865107  sue@iwhardwood.com  /Date(1524670439356)/  /Date(1523160000000)/  PO-00000008    Complete      NaN  [{'Guid': '731d4098-e7d1-45ee-9a9d-bf11703eb07...  /Date(1524670437090)/  /Date(1524628800000)/                                                 []   2201.92  {'Guid': '0871166d-a9b7-439c-afdf-3f67c82ba5c4...  /Date(1523937600000)/       41781  {'TaxCode': 'NONE', 'Description': None, 'TaxR...        0         0  2201.92            0            0  {'WarehouseCode': 'IW', 'WarehouseName': 'Inst...        NONE"
      ]
     },
     "execution_count": 51,
     "metadata": {},
     "output_type": "execute_result"
    }
   ],
   "source": [
    "po_df = pd.read_json('purchaseOrders.json')\n",
    "po_df.CreatedOn = po_df.CreatedOn.apply(convertDateToDate)\n",
    "po_df.CompletedDate.dropna(inplace=True)\n",
    "po_df.CompletedDate = po_df.CompletedDate.apply(convertDateToDate)\n",
    "\n",
    "po_df.head()"
   ]
  },
  {
   "cell_type": "markdown",
   "metadata": {},
   "source": [
    "### Do a little cleaning"
   ]
  },
  {
   "cell_type": "code",
   "execution_count": 52,
   "metadata": {},
   "outputs": [
    {
     "data": {
      "text/html": [
       "<div>\n",
       "<style scoped>\n",
       "    .dataframe tbody tr th:only-of-type {\n",
       "        vertical-align: middle;\n",
       "    }\n",
       "\n",
       "    .dataframe tbody tr th {\n",
       "        vertical-align: top;\n",
       "    }\n",
       "\n",
       "    .dataframe thead th {\n",
       "        text-align: right;\n",
       "    }\n",
       "</style>\n",
       "<table border=\"1\" class=\"dataframe\">\n",
       "  <thead>\n",
       "    <tr style=\"text-align: right;\">\n",
       "      <th></th>\n",
       "      <th>Supplier</th>\n",
       "      <th>CreatedOn</th>\n",
       "      <th>CompletedDate</th>\n",
       "      <th>Time_To_Complete</th>\n",
       "      <th>Total</th>\n",
       "    </tr>\n",
       "  </thead>\n",
       "  <tbody>\n",
       "    <tr>\n",
       "      <th>0</th>\n",
       "      <td>{'Guid': 'd320ea27-5022-44fe-b03a-7038f3e85d65...</td>\n",
       "      <td>2018-04-08 13:34:18.314</td>\n",
       "      <td>2018-04-09 19:11:28.862</td>\n",
       "      <td>1 days 05:37:10.548000</td>\n",
       "      <td>8006.86</td>\n",
       "    </tr>\n",
       "    <tr>\n",
       "      <th>1</th>\n",
       "      <td>{'Guid': 'd320ea27-5022-44fe-b03a-7038f3e85d65...</td>\n",
       "      <td>2018-04-08 13:35:52.611</td>\n",
       "      <td>2018-04-09 19:06:01.377</td>\n",
       "      <td>1 days 05:30:08.766000</td>\n",
       "      <td>440.00</td>\n",
       "    </tr>\n",
       "    <tr>\n",
       "      <th>2</th>\n",
       "      <td>{'Guid': '997d9738-72e7-4d21-a648-32d763dd990e...</td>\n",
       "      <td>2018-04-08 13:46:06.639</td>\n",
       "      <td>2018-04-23 21:00:11.599</td>\n",
       "      <td>15 days 07:14:04.960000</td>\n",
       "      <td>1428.48</td>\n",
       "    </tr>\n",
       "    <tr>\n",
       "      <th>3</th>\n",
       "      <td>{'Guid': 'd320ea27-5022-44fe-b03a-7038f3e85d65...</td>\n",
       "      <td>2018-04-08 13:49:57.109</td>\n",
       "      <td>2018-05-14 14:29:20.108</td>\n",
       "      <td>36 days 00:39:22.999000</td>\n",
       "      <td>432.00</td>\n",
       "    </tr>\n",
       "    <tr>\n",
       "      <th>4</th>\n",
       "      <td>{'Guid': '0871166d-a9b7-439c-afdf-3f67c82ba5c4...</td>\n",
       "      <td>2018-04-08 13:59:12.391</td>\n",
       "      <td>2018-04-25 15:33:59.356</td>\n",
       "      <td>17 days 01:34:46.965000</td>\n",
       "      <td>2201.92</td>\n",
       "    </tr>\n",
       "  </tbody>\n",
       "</table>\n",
       "</div>"
      ],
      "text/plain": [
       "                                            Supplier               CreatedOn           CompletedDate        Time_To_Complete    Total\n",
       "0  {'Guid': 'd320ea27-5022-44fe-b03a-7038f3e85d65... 2018-04-08 13:34:18.314 2018-04-09 19:11:28.862  1 days 05:37:10.548000  8006.86\n",
       "1  {'Guid': 'd320ea27-5022-44fe-b03a-7038f3e85d65... 2018-04-08 13:35:52.611 2018-04-09 19:06:01.377  1 days 05:30:08.766000   440.00\n",
       "2  {'Guid': '997d9738-72e7-4d21-a648-32d763dd990e... 2018-04-08 13:46:06.639 2018-04-23 21:00:11.599 15 days 07:14:04.960000  1428.48\n",
       "3  {'Guid': 'd320ea27-5022-44fe-b03a-7038f3e85d65... 2018-04-08 13:49:57.109 2018-05-14 14:29:20.108 36 days 00:39:22.999000   432.00\n",
       "4  {'Guid': '0871166d-a9b7-439c-afdf-3f67c82ba5c4... 2018-04-08 13:59:12.391 2018-04-25 15:33:59.356 17 days 01:34:46.965000  2201.92"
      ]
     },
     "execution_count": 52,
     "metadata": {},
     "output_type": "execute_result"
    }
   ],
   "source": [
    "po_df = po_df[~po_df.CompletedDate.isna()]\n",
    "po_df['Time_To_Complete'] = po_df.CompletedDate - po_df.CreatedOn\n",
    "po_df = po_df[['Supplier', 'CreatedOn', 'CompletedDate', 'Time_To_Complete', 'Total']]\n",
    "po_df.head()"
   ]
  },
  {
   "cell_type": "markdown",
   "metadata": {},
   "source": [
    "### The supplier field is a nested json object, we will extract that using json_normalize"
   ]
  },
  {
   "cell_type": "code",
   "execution_count": 53,
   "metadata": {},
   "outputs": [],
   "source": [
    "po_df = pd.concat([po_df, json_normalize(po_df.Supplier)], axis=1)\n",
    "po_df.SupplierCode.dropna(inplace=True)"
   ]
  },
  {
   "cell_type": "markdown",
   "metadata": {},
   "source": [
    "### Here we will have a look at our three largest manufacturers of prefinished wood flooring to see what the average time and standard deviation is between when we place an order, and when we receive the material in our warehouse."
   ]
  },
  {
   "cell_type": "code",
   "execution_count": 54,
   "metadata": {},
   "outputs": [
    {
     "name": "stdout",
     "output_type": "stream",
     "text": [
      "16 days 10:03:20.624115 \n",
      " 12 days 19:21:45.422590 \n",
      " 24 days 19:33:15.323666\n",
      "10 days 20:16:54.973582 \n",
      " 14 days 20:23:12.943657 \n",
      " 19 days 18:25:34.988004\n"
     ]
    }
   ],
   "source": [
    "print(po_df[po_df.SupplierName == 'WICKHAM HARDWOOD FLOORING']['Time_To_Complete'].mean(), '\\n',\n",
    "po_df[po_df.SupplierName == 'REAL WOOD FLOORS']['Time_To_Complete'].mean(),'\\n',\n",
    "po_df[po_df.SupplierName == 'American OEM']['Time_To_Complete'].mean())\n",
    "print(po_df[po_df.SupplierName == 'WICKHAM HARDWOOD FLOORING']['Time_To_Complete'].std(), '\\n',\n",
    "po_df[po_df.SupplierName == 'REAL WOOD FLOORS']['Time_To_Complete'].std(),'\\n',\n",
    "po_df[po_df.SupplierName == 'American OEM']['Time_To_Complete'].std())"
   ]
  },
  {
   "cell_type": "markdown",
   "metadata": {},
   "source": [
    "### Here we see that in most cases the time it takes to receive a floor from the manufacturer is considerably less than the time between when we receive the customer's order, and when they need it."
   ]
  },
  {
   "cell_type": "markdown",
   "metadata": {},
   "source": [
    "### Now we build a system that will allow us to reduce the time period we are holding onto material for a customer"
   ]
  },
  {
   "cell_type": "markdown",
   "metadata": {},
   "source": [
    "#### Step 1) Understand the status flag for sales orders: \n",
    "\n",
    "A sales order can be in either \"Parked\", \"Placed\", or \"Backoredered\" status. We use each of these states for something very specific:\n",
    "\n",
    "A Placed order is in stock, and ready to be delivered any time\n",
    "A Backordered order is one where some, or all, of the materail on the sales order has to be ordered from the manufacturer, is currently on a Purchase order, and is being made at the manufacturing facility.\n",
    "A Parked order is one where we will need to order some materail to fufil the order, but we have not placed that PO yet."
   ]
  },
  {
   "cell_type": "markdown",
   "metadata": {},
   "source": [
    "#### Step 2) Using that informaiton:\n",
    "\n",
    "Our system will look for all Parked sales orders every day, calculate the mean time to fufill an order from the corresponding manufacturer, plus one standard deviation on that time, and make a determination on whether that order should be moved from Parked status to Backordered status, and subsequently purchased from the manufacturer\n",
    "\n",
    "The system makes this determination by checking if the time delta between the customer's required delivery date, and the current day is less than or equal to the mean time to receive an order + one standard deviation.\n",
    "\n",
    "If this is the case, an email is triggered letting the inside sales team know to place the order."
   ]
  },
  {
   "cell_type": "markdown",
   "metadata": {},
   "source": [
    "## Get all sales orders in parked status:"
   ]
  },
  {
   "cell_type": "code",
   "execution_count": 55,
   "metadata": {},
   "outputs": [
    {
     "data": {
      "text/html": [
       "<div>\n",
       "<style scoped>\n",
       "    .dataframe tbody tr th:only-of-type {\n",
       "        vertical-align: middle;\n",
       "    }\n",
       "\n",
       "    .dataframe tbody tr th {\n",
       "        vertical-align: top;\n",
       "    }\n",
       "\n",
       "    .dataframe thead th {\n",
       "        text-align: right;\n",
       "    }\n",
       "</style>\n",
       "<table border=\"1\" class=\"dataframe\">\n",
       "  <thead>\n",
       "    <tr style=\"text-align: right;\">\n",
       "      <th></th>\n",
       "      <th>CreatedOn</th>\n",
       "      <th>RequiredDate</th>\n",
       "    </tr>\n",
       "  </thead>\n",
       "  <tbody>\n",
       "    <tr>\n",
       "      <th>0</th>\n",
       "      <td>/Date(1568660541667)/</td>\n",
       "      <td>/Date(1568674800000)/</td>\n",
       "    </tr>\n",
       "    <tr>\n",
       "      <th>1</th>\n",
       "      <td>/Date(1568640506450)/</td>\n",
       "      <td>/Date(1568674800000)/</td>\n",
       "    </tr>\n",
       "    <tr>\n",
       "      <th>2</th>\n",
       "      <td>/Date(1568402615799)/</td>\n",
       "      <td>/Date(1568415600000)/</td>\n",
       "    </tr>\n",
       "    <tr>\n",
       "      <th>3</th>\n",
       "      <td>/Date(1568320361448)/</td>\n",
       "      <td>/Date(1568329200000)/</td>\n",
       "    </tr>\n",
       "    <tr>\n",
       "      <th>4</th>\n",
       "      <td>/Date(1568123404512)/</td>\n",
       "      <td>/Date(1568156400000)/</td>\n",
       "    </tr>\n",
       "  </tbody>\n",
       "</table>\n",
       "</div>"
      ],
      "text/plain": [
       "               CreatedOn           RequiredDate\n",
       "0  /Date(1568660541667)/  /Date(1568674800000)/\n",
       "1  /Date(1568640506450)/  /Date(1568674800000)/\n",
       "2  /Date(1568402615799)/  /Date(1568415600000)/\n",
       "3  /Date(1568320361448)/  /Date(1568329200000)/\n",
       "4  /Date(1568123404512)/  /Date(1568156400000)/"
      ]
     },
     "execution_count": 55,
     "metadata": {},
     "output_type": "execute_result"
    }
   ],
   "source": [
    "r = getULData('SalesOrders/', 'pageSize=1000&orderStatus=Parked')\n",
    "sales_orders_df = pd.read_json(json.dumps(r.json()['Items']))\n",
    "sales_orders_df[['CreatedOn', 'RequiredDate']].head()"
   ]
  },
  {
   "cell_type": "markdown",
   "metadata": {},
   "source": [
    "## The dates in unleashed come through as a datestamp, so my connection program to unleashed has the function convertDateToDate()"
   ]
  },
  {
   "cell_type": "code",
   "execution_count": 56,
   "metadata": {},
   "outputs": [
    {
     "data": {
      "text/html": [
       "<div>\n",
       "<style scoped>\n",
       "    .dataframe tbody tr th:only-of-type {\n",
       "        vertical-align: middle;\n",
       "    }\n",
       "\n",
       "    .dataframe tbody tr th {\n",
       "        vertical-align: top;\n",
       "    }\n",
       "\n",
       "    .dataframe thead th {\n",
       "        text-align: right;\n",
       "    }\n",
       "</style>\n",
       "<table border=\"1\" class=\"dataframe\">\n",
       "  <thead>\n",
       "    <tr style=\"text-align: right;\">\n",
       "      <th></th>\n",
       "      <th>CreatedOn</th>\n",
       "      <th>RequiredDate</th>\n",
       "    </tr>\n",
       "  </thead>\n",
       "  <tbody>\n",
       "    <tr>\n",
       "      <th>0</th>\n",
       "      <td>2019-09-16 19:02:21.667</td>\n",
       "      <td>2019-09-16 23:00:00</td>\n",
       "    </tr>\n",
       "    <tr>\n",
       "      <th>1</th>\n",
       "      <td>2019-09-16 13:28:26.450</td>\n",
       "      <td>2019-09-16 23:00:00</td>\n",
       "    </tr>\n",
       "    <tr>\n",
       "      <th>2</th>\n",
       "      <td>2019-09-13 19:23:35.799</td>\n",
       "      <td>2019-09-13 23:00:00</td>\n",
       "    </tr>\n",
       "    <tr>\n",
       "      <th>3</th>\n",
       "      <td>2019-09-12 20:32:41.448</td>\n",
       "      <td>2019-09-12 23:00:00</td>\n",
       "    </tr>\n",
       "    <tr>\n",
       "      <th>4</th>\n",
       "      <td>2019-09-10 13:50:04.512</td>\n",
       "      <td>2019-09-10 23:00:00</td>\n",
       "    </tr>\n",
       "  </tbody>\n",
       "</table>\n",
       "</div>"
      ],
      "text/plain": [
       "                CreatedOn        RequiredDate\n",
       "0 2019-09-16 19:02:21.667 2019-09-16 23:00:00\n",
       "1 2019-09-16 13:28:26.450 2019-09-16 23:00:00\n",
       "2 2019-09-13 19:23:35.799 2019-09-13 23:00:00\n",
       "3 2019-09-12 20:32:41.448 2019-09-12 23:00:00\n",
       "4 2019-09-10 13:50:04.512 2019-09-10 23:00:00"
      ]
     },
     "execution_count": 56,
     "metadata": {},
     "output_type": "execute_result"
    }
   ],
   "source": [
    "sales_orders_df.CreatedOn = sales_orders_df.CreatedOn.apply(convertDateToDate)\n",
    "sales_orders_df.RequiredDate = sales_orders_df.RequiredDate.apply(convertDateToDate)\n",
    "sales_orders_df[['CreatedOn', 'RequiredDate']].head()"
   ]
  },
  {
   "cell_type": "markdown",
   "metadata": {},
   "source": [
    "#### This is all fine, however, in the sales orders dataframe we can't see the actual items customers want to order\n",
    "We must extract the nested json object labeled SalesOrderLines\n",
    "\n",
    "Let's have a look here:"
   ]
  },
  {
   "cell_type": "code",
   "execution_count": 57,
   "metadata": {},
   "outputs": [
    {
     "data": {
      "text/plain": [
       "[{'LineNumber': 1,\n",
       "  'LineType': None,\n",
       "  'Product': {'Guid': '2bb88b37-a4fe-4542-a8c3-1e0681c74cf9',\n",
       "   'ProductCode': 'LLNumWhiRQ2',\n",
       "   'ProductDescription': \"5/16 X 2' W/O R&Q Numbers S&B\"},\n",
       "  'DueDate': '/Date(1568640506420)/',\n",
       "  'OrderQuantity': 125.0,\n",
       "  'UnitPrice': 5.09,\n",
       "  'DiscountRate': 0.0,\n",
       "  'LineTotal': 636.25,\n",
       "  'Volume': None,\n",
       "  'Weight': None,\n",
       "  'Comments': None,\n",
       "  'AverageLandedPriceAtTimeOfSale': 2.85,\n",
       "  'TaxRate': 0.08,\n",
       "  'LineTax': 50.9,\n",
       "  'XeroTaxCode': 'Monroe County',\n",
       "  'BCUnitPrice': 5.09,\n",
       "  'BCLineTotal': 636.25,\n",
       "  'BCLineTax': 50.9,\n",
       "  'LineTaxCode': None,\n",
       "  'XeroSalesAccount': 'Sales',\n",
       "  'SerialNumbers': None,\n",
       "  'BatchNumbers': None,\n",
       "  'Guid': '2a486b95-6743-4bea-934e-83150aa40ca1',\n",
       "  'LastModifiedOn': '/Date(1568641765005)/'}]"
      ]
     },
     "execution_count": 57,
     "metadata": {},
     "output_type": "execute_result"
    }
   ],
   "source": [
    "sales_orders_df.SalesOrderLines[1]"
   ]
  },
  {
   "cell_type": "markdown",
   "metadata": {},
   "source": [
    "I found a cool description of how to use json_normalize on the kaggle website here: https://www.kaggle.com/jboysen/quick-tutorial-flatten-nested-json-in-pandas\n",
    "\n",
    "I hope that helps someone else to understand this utility."
   ]
  },
  {
   "cell_type": "code",
   "execution_count": 58,
   "metadata": {},
   "outputs": [],
   "source": [
    "sales_order_lines_df = json_normalize(r.json()['Items'],record_path='SalesOrderLines', meta=['OrderNumber', 'RequiredDate', 'CreatedOn'])\n",
    "parked_products = json_normalize(sales_order_lines_df.Product)\n",
    "sales_order_lines_df['ProductCode'] = parked_products.ProductCode"
   ]
  },
  {
   "cell_type": "markdown",
   "metadata": {},
   "source": [
    "### Readjust dates"
   ]
  },
  {
   "cell_type": "code",
   "execution_count": 59,
   "metadata": {},
   "outputs": [],
   "source": [
    "sales_order_lines_df.CreatedOn = sales_order_lines_df.CreatedOn.apply(convertDateToDate)\n",
    "sales_order_lines_df.RequiredDate = sales_order_lines_df.RequiredDate.apply(convertDateToDate)"
   ]
  },
  {
   "cell_type": "markdown",
   "metadata": {},
   "source": [
    "### Have a look at the columns to see what data is necessary for working with"
   ]
  },
  {
   "cell_type": "code",
   "execution_count": 60,
   "metadata": {},
   "outputs": [
    {
     "data": {
      "text/plain": [
       "Index(['AverageLandedPriceAtTimeOfSale', 'BCLineTax', 'BCLineTotal', 'BCUnitPrice', 'BatchNumbers', 'Comments', 'DiscountRate', 'DueDate', 'Guid', 'LastModifiedOn', 'LineNumber', 'LineTax', 'LineTaxCode', 'LineTotal', 'LineType', 'OrderQuantity', 'Product', 'SerialNumbers', 'TaxRate', 'UnitPrice', 'Volume', 'Weight', 'XeroSalesAccount', 'XeroTaxCode', 'OrderNumber', 'RequiredDate', 'CreatedOn', 'ProductCode'], dtype='object')"
      ]
     },
     "execution_count": 60,
     "metadata": {},
     "output_type": "execute_result"
    }
   ],
   "source": [
    "sales_order_lines_df.columns"
   ]
  },
  {
   "cell_type": "code",
   "execution_count": 61,
   "metadata": {},
   "outputs": [
    {
     "data": {
      "text/html": [
       "<div>\n",
       "<style scoped>\n",
       "    .dataframe tbody tr th:only-of-type {\n",
       "        vertical-align: middle;\n",
       "    }\n",
       "\n",
       "    .dataframe tbody tr th {\n",
       "        vertical-align: top;\n",
       "    }\n",
       "\n",
       "    .dataframe thead th {\n",
       "        text-align: right;\n",
       "    }\n",
       "</style>\n",
       "<table border=\"1\" class=\"dataframe\">\n",
       "  <thead>\n",
       "    <tr style=\"text-align: right;\">\n",
       "      <th></th>\n",
       "      <th>AverageLandedPriceAtTimeOfSale</th>\n",
       "      <th>BCLineTax</th>\n",
       "      <th>BCLineTotal</th>\n",
       "      <th>BCUnitPrice</th>\n",
       "      <th>BatchNumbers</th>\n",
       "      <th>Comments</th>\n",
       "      <th>DiscountRate</th>\n",
       "      <th>DueDate</th>\n",
       "      <th>Guid</th>\n",
       "      <th>LastModifiedOn</th>\n",
       "      <th>LineNumber</th>\n",
       "      <th>LineTax</th>\n",
       "      <th>LineTaxCode</th>\n",
       "      <th>LineTotal</th>\n",
       "      <th>LineType</th>\n",
       "      <th>OrderQuantity</th>\n",
       "      <th>Product</th>\n",
       "      <th>SerialNumbers</th>\n",
       "      <th>TaxRate</th>\n",
       "      <th>UnitPrice</th>\n",
       "      <th>Volume</th>\n",
       "      <th>Weight</th>\n",
       "      <th>XeroSalesAccount</th>\n",
       "      <th>XeroTaxCode</th>\n",
       "      <th>OrderNumber</th>\n",
       "      <th>RequiredDate</th>\n",
       "      <th>CreatedOn</th>\n",
       "      <th>ProductCode</th>\n",
       "    </tr>\n",
       "  </thead>\n",
       "  <tbody>\n",
       "    <tr>\n",
       "      <th>0</th>\n",
       "      <td>7.618999</td>\n",
       "      <td>3.45</td>\n",
       "      <td>43.16</td>\n",
       "      <td>5.395</td>\n",
       "      <td>None</td>\n",
       "      <td></td>\n",
       "      <td>0.5</td>\n",
       "      <td>/Date(1568660541403)/</td>\n",
       "      <td>05bb7213-6622-46fc-8ada-085b194a4643</td>\n",
       "      <td>/Date(1568663337381)/</td>\n",
       "      <td>1</td>\n",
       "      <td>3.45</td>\n",
       "      <td>None</td>\n",
       "      <td>43.16</td>\n",
       "      <td>None</td>\n",
       "      <td>8.0</td>\n",
       "      <td>{'Guid': '6528df45-b307-4b10-a99d-1a82662daa85...</td>\n",
       "      <td>None</td>\n",
       "      <td>0.08</td>\n",
       "      <td>10.79</td>\n",
       "      <td>None</td>\n",
       "      <td>None</td>\n",
       "      <td>Sales</td>\n",
       "      <td>Monroe County</td>\n",
       "      <td>SO-00006151</td>\n",
       "      <td>2019-09-16 23:00:00</td>\n",
       "      <td>2019-09-16 19:02:21.667</td>\n",
       "      <td>PolPriSat</td>\n",
       "    </tr>\n",
       "    <tr>\n",
       "      <th>1</th>\n",
       "      <td>6.631007</td>\n",
       "      <td>3.00</td>\n",
       "      <td>37.56</td>\n",
       "      <td>4.695</td>\n",
       "      <td>None</td>\n",
       "      <td></td>\n",
       "      <td>0.5</td>\n",
       "      <td>/Date(1568660541403)/</td>\n",
       "      <td>896c5f42-a8ff-4b54-9446-1d2fc1d6a5be</td>\n",
       "      <td>/Date(1568663337381)/</td>\n",
       "      <td>2</td>\n",
       "      <td>3.00</td>\n",
       "      <td>None</td>\n",
       "      <td>37.56</td>\n",
       "      <td>None</td>\n",
       "      <td>8.0</td>\n",
       "      <td>{'Guid': '95e5fec0-8b3d-49d2-b4fc-98897b064ae3...</td>\n",
       "      <td>None</td>\n",
       "      <td>0.08</td>\n",
       "      <td>9.39</td>\n",
       "      <td>None</td>\n",
       "      <td>None</td>\n",
       "      <td>Sales</td>\n",
       "      <td>Monroe County</td>\n",
       "      <td>SO-00006151</td>\n",
       "      <td>2019-09-16 23:00:00</td>\n",
       "      <td>2019-09-16 19:02:21.667</td>\n",
       "      <td>PolFasSea</td>\n",
       "    </tr>\n",
       "    <tr>\n",
       "      <th>2</th>\n",
       "      <td>2.850000</td>\n",
       "      <td>50.90</td>\n",
       "      <td>636.25</td>\n",
       "      <td>5.090</td>\n",
       "      <td>None</td>\n",
       "      <td>None</td>\n",
       "      <td>0.0</td>\n",
       "      <td>/Date(1568640506420)/</td>\n",
       "      <td>2a486b95-6743-4bea-934e-83150aa40ca1</td>\n",
       "      <td>/Date(1568641765005)/</td>\n",
       "      <td>1</td>\n",
       "      <td>50.90</td>\n",
       "      <td>None</td>\n",
       "      <td>636.25</td>\n",
       "      <td>None</td>\n",
       "      <td>125.0</td>\n",
       "      <td>{'Guid': '2bb88b37-a4fe-4542-a8c3-1e0681c74cf9...</td>\n",
       "      <td>None</td>\n",
       "      <td>0.08</td>\n",
       "      <td>5.09</td>\n",
       "      <td>None</td>\n",
       "      <td>None</td>\n",
       "      <td>Sales</td>\n",
       "      <td>Monroe County</td>\n",
       "      <td>SO-00006140</td>\n",
       "      <td>2019-09-16 23:00:00</td>\n",
       "      <td>2019-09-16 13:28:26.450</td>\n",
       "      <td>LLNumWhiRQ2</td>\n",
       "    </tr>\n",
       "    <tr>\n",
       "      <th>3</th>\n",
       "      <td>0.000000</td>\n",
       "      <td>0.00</td>\n",
       "      <td>0.00</td>\n",
       "      <td>0.000</td>\n",
       "      <td>None</td>\n",
       "      <td></td>\n",
       "      <td>0.0</td>\n",
       "      <td>/Date(1568402615766)/</td>\n",
       "      <td>e455ab96-6c86-4013-81dc-887ed341d3d6</td>\n",
       "      <td>/Date(1568403024617)/</td>\n",
       "      <td>1</td>\n",
       "      <td>0.00</td>\n",
       "      <td>None</td>\n",
       "      <td>0.00</td>\n",
       "      <td>None</td>\n",
       "      <td>26.5</td>\n",
       "      <td>{'Guid': '2f5673c3-252b-4a80-81ca-071b482e4277...</td>\n",
       "      <td>None</td>\n",
       "      <td>0.00</td>\n",
       "      <td>0.00</td>\n",
       "      <td>None</td>\n",
       "      <td>None</td>\n",
       "      <td>Sales</td>\n",
       "      <td>NONE</td>\n",
       "      <td>SO-00006134</td>\n",
       "      <td>2019-09-13 23:00:00</td>\n",
       "      <td>2019-09-13 19:23:35.799</td>\n",
       "      <td>FroSon8HicWBGre</td>\n",
       "    </tr>\n",
       "    <tr>\n",
       "      <th>4</th>\n",
       "      <td>0.000000</td>\n",
       "      <td>0.00</td>\n",
       "      <td>0.00</td>\n",
       "      <td>0.000</td>\n",
       "      <td>None</td>\n",
       "      <td></td>\n",
       "      <td>0.0</td>\n",
       "      <td>/Date(1568402615766)/</td>\n",
       "      <td>56177dcd-8d44-4d69-8762-1f054b12a1d0</td>\n",
       "      <td>/Date(1568403024622)/</td>\n",
       "      <td>2</td>\n",
       "      <td>0.00</td>\n",
       "      <td>None</td>\n",
       "      <td>0.00</td>\n",
       "      <td>None</td>\n",
       "      <td>53.0</td>\n",
       "      <td>{'Guid': '9f6b15a3-ff02-4021-a271-3d2009112d22...</td>\n",
       "      <td>None</td>\n",
       "      <td>0.00</td>\n",
       "      <td>0.00</td>\n",
       "      <td>None</td>\n",
       "      <td>None</td>\n",
       "      <td>Sales</td>\n",
       "      <td>NONE</td>\n",
       "      <td>SO-00006134</td>\n",
       "      <td>2019-09-13 23:00:00</td>\n",
       "      <td>2019-09-13 19:23:35.799</td>\n",
       "      <td>FroSon8WOWBBut</td>\n",
       "    </tr>\n",
       "  </tbody>\n",
       "</table>\n",
       "</div>"
      ],
      "text/plain": [
       "   AverageLandedPriceAtTimeOfSale  BCLineTax  BCLineTotal  BCUnitPrice BatchNumbers Comments  DiscountRate                DueDate                                  Guid         LastModifiedOn  LineNumber  LineTax LineTaxCode  LineTotal LineType  OrderQuantity                                            Product SerialNumbers  TaxRate  UnitPrice Volume Weight XeroSalesAccount    XeroTaxCode  OrderNumber        RequiredDate               CreatedOn      ProductCode\n",
       "0                        7.618999       3.45        43.16        5.395         None                    0.5  /Date(1568660541403)/  05bb7213-6622-46fc-8ada-085b194a4643  /Date(1568663337381)/           1     3.45        None      43.16     None            8.0  {'Guid': '6528df45-b307-4b10-a99d-1a82662daa85...          None     0.08      10.79   None   None            Sales  Monroe County  SO-00006151 2019-09-16 23:00:00 2019-09-16 19:02:21.667        PolPriSat\n",
       "1                        6.631007       3.00        37.56        4.695         None                    0.5  /Date(1568660541403)/  896c5f42-a8ff-4b54-9446-1d2fc1d6a5be  /Date(1568663337381)/           2     3.00        None      37.56     None            8.0  {'Guid': '95e5fec0-8b3d-49d2-b4fc-98897b064ae3...          None     0.08       9.39   None   None            Sales  Monroe County  SO-00006151 2019-09-16 23:00:00 2019-09-16 19:02:21.667        PolFasSea\n",
       "2                        2.850000      50.90       636.25        5.090         None     None           0.0  /Date(1568640506420)/  2a486b95-6743-4bea-934e-83150aa40ca1  /Date(1568641765005)/           1    50.90        None     636.25     None          125.0  {'Guid': '2bb88b37-a4fe-4542-a8c3-1e0681c74cf9...          None     0.08       5.09   None   None            Sales  Monroe County  SO-00006140 2019-09-16 23:00:00 2019-09-16 13:28:26.450      LLNumWhiRQ2\n",
       "3                        0.000000       0.00         0.00        0.000         None                    0.0  /Date(1568402615766)/  e455ab96-6c86-4013-81dc-887ed341d3d6  /Date(1568403024617)/           1     0.00        None       0.00     None           26.5  {'Guid': '2f5673c3-252b-4a80-81ca-071b482e4277...          None     0.00       0.00   None   None            Sales           NONE  SO-00006134 2019-09-13 23:00:00 2019-09-13 19:23:35.799  FroSon8HicWBGre\n",
       "4                        0.000000       0.00         0.00        0.000         None                    0.0  /Date(1568402615766)/  56177dcd-8d44-4d69-8762-1f054b12a1d0  /Date(1568403024622)/           2     0.00        None       0.00     None           53.0  {'Guid': '9f6b15a3-ff02-4021-a271-3d2009112d22...          None     0.00       0.00   None   None            Sales           NONE  SO-00006134 2019-09-13 23:00:00 2019-09-13 19:23:35.799   FroSon8WOWBBut"
      ]
     },
     "execution_count": 61,
     "metadata": {},
     "output_type": "execute_result"
    }
   ],
   "source": [
    "sales_order_lines_df.head()"
   ]
  },
  {
   "cell_type": "markdown",
   "metadata": {},
   "source": [
    "#### Now we have a dataframe that displays all the orders that could potentially need to be ordered from their respective manufacturers.\n",
    "\n",
    "From here, we must check our exisiting inventory to determine which of the sales order lines we might need to purchase."
   ]
  },
  {
   "cell_type": "code",
   "execution_count": 63,
   "metadata": {},
   "outputs": [],
   "source": [
    "stock_on_hand_df = current_inventory_df.copy() #pd.read_json('stockOnHand_IW.json')"
   ]
  },
  {
   "cell_type": "markdown",
   "metadata": {},
   "source": [
    "### Now that we know what stock is available right now, we can check our sales order lines against that stock and see if we need to order anything:\n",
    "\n",
    "This is where the fun is!"
   ]
  },
  {
   "cell_type": "code",
   "execution_count": 64,
   "metadata": {},
   "outputs": [],
   "source": [
    "so_to_order = []\n",
    "# iterate over the sales_order_lines_df for products\n",
    "for idx, row in sales_order_lines_df.iterrows():\n",
    "#     Determine jsut the soh pertaining to a single product code\n",
    "    temp = stock_on_hand_df[stock_on_hand_df['ProductCode'] == row['ProductCode']]\n",
    "#     We need to exclude the delivery code, and make sure there is a value returned by the SOH df\n",
    "    if row['ProductCode'] != 'Delivery' and len(temp) > 0:\n",
    "\n",
    "#          Make a little detour to get the supplier information on this product\n",
    "        r = getULData('Products', 'productCode='+row['ProductCode'])\n",
    "        p = json_normalize(r.json()['Items'])\n",
    "#         Here we actually grab the supplier's name.\n",
    "        sup_name = p['Supplier.SupplierName'].values[0]\n",
    "#         use that supplier name to determine the average and std time to complete a po from that supplier\n",
    "        mean_time_to_complete = po_df[po_df['SupplierName'] == sup_name]['Time_To_Complete'].mean()\n",
    "        std_time_to_complete = po_df[po_df['SupplierName'] == sup_name]['Time_To_Complete'].std()\n",
    "        \n",
    "        #determine if that time is greater or equal to the time from now until when the customer needs the product\n",
    "        # and if so, append the order to the list of orders to order :-P\n",
    "        need_by_delta = row['RequiredDate'] - datetime.today()\n",
    "        po_receive_delta = mean_time_to_complete + std_time_to_complete\n",
    "\n",
    "#       AvailableQty can be negative or positive, onPurchase is only ever >=0\n",
    "        val = (temp['AvailableQty'].values[0] + temp['OnPurchase'].values[0])\n",
    "        if val < 0 and (need_by_delta <= po_receive_delta):\n",
    "#           Finally, append all the data the inside sales team is going to need in order to order the correct product and quantities.\n",
    "            so_to_order.append([row['OrderNumber'], row['ProductCode'], row['OrderQuantity'], row['RequiredDate']])\n",
    "\n"
   ]
  },
  {
   "cell_type": "markdown",
   "metadata": {},
   "source": [
    "### Now we have the list of sales orders we know should be sent to their respective manufacturers.\n",
    "The next step is to email this list to our inside sales team, and let them know to place the purchase orders"
   ]
  },
  {
   "cell_type": "code",
   "execution_count": 65,
   "metadata": {},
   "outputs": [
    {
     "data": {
      "text/html": [
       "<div>\n",
       "<style scoped>\n",
       "    .dataframe tbody tr th:only-of-type {\n",
       "        vertical-align: middle;\n",
       "    }\n",
       "\n",
       "    .dataframe tbody tr th {\n",
       "        vertical-align: top;\n",
       "    }\n",
       "\n",
       "    .dataframe thead th {\n",
       "        text-align: right;\n",
       "    }\n",
       "</style>\n",
       "<table border=\"1\" class=\"dataframe\">\n",
       "  <thead>\n",
       "    <tr style=\"text-align: right;\">\n",
       "      <th></th>\n",
       "      <th>Order Number</th>\n",
       "      <th>Product</th>\n",
       "      <th>Amount Needed</th>\n",
       "      <th>Required Date</th>\n",
       "    </tr>\n",
       "  </thead>\n",
       "  <tbody>\n",
       "    <tr>\n",
       "      <th>0</th>\n",
       "      <td>SO-00006134</td>\n",
       "      <td>FroSon8HicWBGre</td>\n",
       "      <td>26.5</td>\n",
       "      <td>2019-09-13 23:00:00</td>\n",
       "    </tr>\n",
       "    <tr>\n",
       "      <th>1</th>\n",
       "      <td>SO-00006134</td>\n",
       "      <td>FroSon8WOWBBut</td>\n",
       "      <td>53.0</td>\n",
       "      <td>2019-09-13 23:00:00</td>\n",
       "    </tr>\n",
       "    <tr>\n",
       "      <th>2</th>\n",
       "      <td>SO-00006134</td>\n",
       "      <td>FroSon8WOWBMel</td>\n",
       "      <td>26.5</td>\n",
       "      <td>2019-09-13 23:00:00</td>\n",
       "    </tr>\n",
       "  </tbody>\n",
       "</table>\n",
       "</div>"
      ],
      "text/plain": [
       "  Order Number          Product  Amount Needed       Required Date\n",
       "0  SO-00006134  FroSon8HicWBGre           26.5 2019-09-13 23:00:00\n",
       "1  SO-00006134   FroSon8WOWBBut           53.0 2019-09-13 23:00:00\n",
       "2  SO-00006134   FroSon8WOWBMel           26.5 2019-09-13 23:00:00"
      ]
     },
     "execution_count": 65,
     "metadata": {},
     "output_type": "execute_result"
    }
   ],
   "source": [
    "so_to_order = pd.DataFrame(so_to_order, columns=['Order Number', 'Product', 'Amount Needed','Required Date'])\n",
    "so_to_order.head()"
   ]
  },
  {
   "cell_type": "code",
   "execution_count": 66,
   "metadata": {},
   "outputs": [],
   "source": [
    "import yagmail"
   ]
  },
  {
   "cell_type": "markdown",
   "metadata": {},
   "source": [
    "### Build the email"
   ]
  },
  {
   "cell_type": "code",
   "execution_count": 67,
   "metadata": {},
   "outputs": [
    {
     "ename": "SMTPAuthenticationError",
     "evalue": "(535, b'5.7.8 Username and Password not accepted. Learn more at\\n5.7.8  https://support.google.com/mail/?p=BadCredentials d55sm1453572qta.41 - gsmtp')",
     "output_type": "error",
     "traceback": [
      "\u001b[0;31m---------------------------------------------------------------------------\u001b[0m",
      "\u001b[0;31mSMTPAuthenticationError\u001b[0m                   Traceback (most recent call last)",
      "\u001b[0;32m<ipython-input-67-d8b1a2e23da7>\u001b[0m in \u001b[0;36m<module>\u001b[0;34m()\u001b[0m\n\u001b[1;32m      2\u001b[0m \u001b[0mjon\u001b[0m \u001b[0;34m=\u001b[0m \u001b[0;34m'jon@iwhardwood.com'\u001b[0m\u001b[0;34m\u001b[0m\u001b[0;34m\u001b[0m\u001b[0m\n\u001b[1;32m      3\u001b[0m \u001b[0myag\u001b[0m \u001b[0;34m=\u001b[0m \u001b[0myagmail\u001b[0m\u001b[0;34m.\u001b[0m\u001b[0mSMTP\u001b[0m\u001b[0;34m(\u001b[0m\u001b[0muser\u001b[0m\u001b[0;34m=\u001b[0m\u001b[0;34m'jon@iwhardwood.com'\u001b[0m\u001b[0;34m,\u001b[0m \u001b[0mpassword\u001b[0m\u001b[0;34m=\u001b[0m\u001b[0;34m'SOME_PASSWORD_WOULD_GO_HERE'\u001b[0m\u001b[0;34m)\u001b[0m\u001b[0;34m\u001b[0m\u001b[0;34m\u001b[0m\u001b[0m\n\u001b[0;32m----> 4\u001b[0;31m \u001b[0myag\u001b[0m\u001b[0;34m.\u001b[0m\u001b[0msend\u001b[0m\u001b[0;34m(\u001b[0m\u001b[0mto\u001b[0m\u001b[0;34m=\u001b[0m\u001b[0mjon\u001b[0m\u001b[0;34m,\u001b[0m\u001b[0msubject\u001b[0m\u001b[0;34m=\u001b[0m\u001b[0;34m'Test'\u001b[0m\u001b[0;34m,\u001b[0m \u001b[0mcontents\u001b[0m\u001b[0;34m=\u001b[0m\u001b[0;34m[\u001b[0m\u001b[0mhtml\u001b[0m\u001b[0;34m]\u001b[0m \u001b[0;34m)\u001b[0m\u001b[0;34m\u001b[0m\u001b[0;34m\u001b[0m\u001b[0m\n\u001b[0m",
      "\u001b[0;32m~/anaconda3/lib/python3.7/site-packages/yagmail/sender.py\u001b[0m in \u001b[0;36msend\u001b[0;34m(self, to, subject, contents, attachments, cc, bcc, preview_only, headers)\u001b[0m\n\u001b[1;32m    142\u001b[0m     ):\n\u001b[1;32m    143\u001b[0m         \u001b[0;34m\"\"\" Use this to send an email with gmail\"\"\"\u001b[0m\u001b[0;34m\u001b[0m\u001b[0;34m\u001b[0m\u001b[0m\n\u001b[0;32m--> 144\u001b[0;31m         \u001b[0mself\u001b[0m\u001b[0;34m.\u001b[0m\u001b[0mlogin\u001b[0m\u001b[0;34m(\u001b[0m\u001b[0;34m)\u001b[0m\u001b[0;34m\u001b[0m\u001b[0;34m\u001b[0m\u001b[0m\n\u001b[0m\u001b[1;32m    145\u001b[0m         recipients, msg_string = self.prepare_send(\n\u001b[1;32m    146\u001b[0m             \u001b[0mto\u001b[0m\u001b[0;34m,\u001b[0m \u001b[0msubject\u001b[0m\u001b[0;34m,\u001b[0m \u001b[0mcontents\u001b[0m\u001b[0;34m,\u001b[0m \u001b[0mattachments\u001b[0m\u001b[0;34m,\u001b[0m \u001b[0mcc\u001b[0m\u001b[0;34m,\u001b[0m \u001b[0mbcc\u001b[0m\u001b[0;34m,\u001b[0m \u001b[0mheaders\u001b[0m\u001b[0;34m\u001b[0m\u001b[0;34m\u001b[0m\u001b[0m\n",
      "\u001b[0;32m~/anaconda3/lib/python3.7/site-packages/yagmail/sender.py\u001b[0m in \u001b[0;36mlogin\u001b[0;34m(self)\u001b[0m\n\u001b[1;32m    241\u001b[0m             \u001b[0mself\u001b[0m\u001b[0;34m.\u001b[0m\u001b[0m_login_oauth2\u001b[0m\u001b[0;34m(\u001b[0m\u001b[0mself\u001b[0m\u001b[0;34m.\u001b[0m\u001b[0mcredentials\u001b[0m\u001b[0;34m)\u001b[0m\u001b[0;34m\u001b[0m\u001b[0;34m\u001b[0m\u001b[0m\n\u001b[1;32m    242\u001b[0m         \u001b[0;32melse\u001b[0m\u001b[0;34m:\u001b[0m\u001b[0;34m\u001b[0m\u001b[0;34m\u001b[0m\u001b[0m\n\u001b[0;32m--> 243\u001b[0;31m             \u001b[0mself\u001b[0m\u001b[0;34m.\u001b[0m\u001b[0m_login\u001b[0m\u001b[0;34m(\u001b[0m\u001b[0mself\u001b[0m\u001b[0;34m.\u001b[0m\u001b[0mcredentials\u001b[0m\u001b[0;34m)\u001b[0m\u001b[0;34m\u001b[0m\u001b[0;34m\u001b[0m\u001b[0m\n\u001b[0m\u001b[1;32m    244\u001b[0m \u001b[0;34m\u001b[0m\u001b[0m\n\u001b[1;32m    245\u001b[0m \u001b[0;34m\u001b[0m\u001b[0m\n",
      "\u001b[0;32m~/anaconda3/lib/python3.7/site-packages/yagmail/sender.py\u001b[0m in \u001b[0;36m_login\u001b[0;34m(self, password)\u001b[0m\n\u001b[1;32m    199\u001b[0m         \u001b[0;32mif\u001b[0m \u001b[0;32mnot\u001b[0m \u001b[0mself\u001b[0m\u001b[0;34m.\u001b[0m\u001b[0msmtp_skip_login\u001b[0m\u001b[0;34m:\u001b[0m\u001b[0;34m\u001b[0m\u001b[0;34m\u001b[0m\u001b[0m\n\u001b[1;32m    200\u001b[0m             \u001b[0mpassword\u001b[0m \u001b[0;34m=\u001b[0m \u001b[0mself\u001b[0m\u001b[0;34m.\u001b[0m\u001b[0mhandle_password\u001b[0m\u001b[0;34m(\u001b[0m\u001b[0mself\u001b[0m\u001b[0;34m.\u001b[0m\u001b[0muser\u001b[0m\u001b[0;34m,\u001b[0m \u001b[0mpassword\u001b[0m\u001b[0;34m)\u001b[0m\u001b[0;34m\u001b[0m\u001b[0;34m\u001b[0m\u001b[0m\n\u001b[0;32m--> 201\u001b[0;31m             \u001b[0mself\u001b[0m\u001b[0;34m.\u001b[0m\u001b[0msmtp\u001b[0m\u001b[0;34m.\u001b[0m\u001b[0mlogin\u001b[0m\u001b[0;34m(\u001b[0m\u001b[0mself\u001b[0m\u001b[0;34m.\u001b[0m\u001b[0muser\u001b[0m\u001b[0;34m,\u001b[0m \u001b[0mpassword\u001b[0m\u001b[0;34m)\u001b[0m\u001b[0;34m\u001b[0m\u001b[0;34m\u001b[0m\u001b[0m\n\u001b[0m\u001b[1;32m    202\u001b[0m         \u001b[0mself\u001b[0m\u001b[0;34m.\u001b[0m\u001b[0mlog\u001b[0m\u001b[0;34m.\u001b[0m\u001b[0minfo\u001b[0m\u001b[0;34m(\u001b[0m\u001b[0;34m\"Connected to SMTP @ %s:%s as %s\"\u001b[0m\u001b[0;34m,\u001b[0m \u001b[0mself\u001b[0m\u001b[0;34m.\u001b[0m\u001b[0mhost\u001b[0m\u001b[0;34m,\u001b[0m \u001b[0mself\u001b[0m\u001b[0;34m.\u001b[0m\u001b[0mport\u001b[0m\u001b[0;34m,\u001b[0m \u001b[0mself\u001b[0m\u001b[0;34m.\u001b[0m\u001b[0muser\u001b[0m\u001b[0;34m)\u001b[0m\u001b[0;34m\u001b[0m\u001b[0;34m\u001b[0m\u001b[0m\n\u001b[1;32m    203\u001b[0m \u001b[0;34m\u001b[0m\u001b[0m\n",
      "\u001b[0;32m~/anaconda3/lib/python3.7/smtplib.py\u001b[0m in \u001b[0;36mlogin\u001b[0;34m(self, user, password, initial_response_ok)\u001b[0m\n\u001b[1;32m    728\u001b[0m \u001b[0;34m\u001b[0m\u001b[0m\n\u001b[1;32m    729\u001b[0m         \u001b[0;31m# We could not login successfully.  Return result of last attempt.\u001b[0m\u001b[0;34m\u001b[0m\u001b[0;34m\u001b[0m\u001b[0;34m\u001b[0m\u001b[0m\n\u001b[0;32m--> 730\u001b[0;31m         \u001b[0;32mraise\u001b[0m \u001b[0mlast_exception\u001b[0m\u001b[0;34m\u001b[0m\u001b[0;34m\u001b[0m\u001b[0m\n\u001b[0m\u001b[1;32m    731\u001b[0m \u001b[0;34m\u001b[0m\u001b[0m\n\u001b[1;32m    732\u001b[0m     \u001b[0;32mdef\u001b[0m \u001b[0mstarttls\u001b[0m\u001b[0;34m(\u001b[0m\u001b[0mself\u001b[0m\u001b[0;34m,\u001b[0m \u001b[0mkeyfile\u001b[0m\u001b[0;34m=\u001b[0m\u001b[0;32mNone\u001b[0m\u001b[0;34m,\u001b[0m \u001b[0mcertfile\u001b[0m\u001b[0;34m=\u001b[0m\u001b[0;32mNone\u001b[0m\u001b[0;34m,\u001b[0m \u001b[0mcontext\u001b[0m\u001b[0;34m=\u001b[0m\u001b[0;32mNone\u001b[0m\u001b[0;34m)\u001b[0m\u001b[0;34m:\u001b[0m\u001b[0;34m\u001b[0m\u001b[0;34m\u001b[0m\u001b[0m\n",
      "\u001b[0;32m~/anaconda3/lib/python3.7/smtplib.py\u001b[0m in \u001b[0;36mlogin\u001b[0;34m(self, user, password, initial_response_ok)\u001b[0m\n\u001b[1;32m    719\u001b[0m                 (code, resp) = self.auth(\n\u001b[1;32m    720\u001b[0m                     \u001b[0mauthmethod\u001b[0m\u001b[0;34m,\u001b[0m \u001b[0mgetattr\u001b[0m\u001b[0;34m(\u001b[0m\u001b[0mself\u001b[0m\u001b[0;34m,\u001b[0m \u001b[0mmethod_name\u001b[0m\u001b[0;34m)\u001b[0m\u001b[0;34m,\u001b[0m\u001b[0;34m\u001b[0m\u001b[0;34m\u001b[0m\u001b[0m\n\u001b[0;32m--> 721\u001b[0;31m                     initial_response_ok=initial_response_ok)\n\u001b[0m\u001b[1;32m    722\u001b[0m                 \u001b[0;31m# 235 == 'Authentication successful'\u001b[0m\u001b[0;34m\u001b[0m\u001b[0;34m\u001b[0m\u001b[0;34m\u001b[0m\u001b[0m\n\u001b[1;32m    723\u001b[0m                 \u001b[0;31m# 503 == 'Error: already authenticated'\u001b[0m\u001b[0;34m\u001b[0m\u001b[0;34m\u001b[0m\u001b[0;34m\u001b[0m\u001b[0m\n",
      "\u001b[0;32m~/anaconda3/lib/python3.7/smtplib.py\u001b[0m in \u001b[0;36mauth\u001b[0;34m(self, mechanism, authobject, initial_response_ok)\u001b[0m\n\u001b[1;32m    640\u001b[0m         \u001b[0;32mif\u001b[0m \u001b[0mcode\u001b[0m \u001b[0;32min\u001b[0m \u001b[0;34m(\u001b[0m\u001b[0;36m235\u001b[0m\u001b[0;34m,\u001b[0m \u001b[0;36m503\u001b[0m\u001b[0;34m)\u001b[0m\u001b[0;34m:\u001b[0m\u001b[0;34m\u001b[0m\u001b[0;34m\u001b[0m\u001b[0m\n\u001b[1;32m    641\u001b[0m             \u001b[0;32mreturn\u001b[0m \u001b[0;34m(\u001b[0m\u001b[0mcode\u001b[0m\u001b[0;34m,\u001b[0m \u001b[0mresp\u001b[0m\u001b[0;34m)\u001b[0m\u001b[0;34m\u001b[0m\u001b[0;34m\u001b[0m\u001b[0m\n\u001b[0;32m--> 642\u001b[0;31m         \u001b[0;32mraise\u001b[0m \u001b[0mSMTPAuthenticationError\u001b[0m\u001b[0;34m(\u001b[0m\u001b[0mcode\u001b[0m\u001b[0;34m,\u001b[0m \u001b[0mresp\u001b[0m\u001b[0;34m)\u001b[0m\u001b[0;34m\u001b[0m\u001b[0;34m\u001b[0m\u001b[0m\n\u001b[0m\u001b[1;32m    643\u001b[0m \u001b[0;34m\u001b[0m\u001b[0m\n\u001b[1;32m    644\u001b[0m     \u001b[0;32mdef\u001b[0m \u001b[0mauth_cram_md5\u001b[0m\u001b[0;34m(\u001b[0m\u001b[0mself\u001b[0m\u001b[0;34m,\u001b[0m \u001b[0mchallenge\u001b[0m\u001b[0;34m=\u001b[0m\u001b[0;32mNone\u001b[0m\u001b[0;34m)\u001b[0m\u001b[0;34m:\u001b[0m\u001b[0;34m\u001b[0m\u001b[0;34m\u001b[0m\u001b[0m\n",
      "\u001b[0;31mSMTPAuthenticationError\u001b[0m: (535, b'5.7.8 Username and Password not accepted. Learn more at\\n5.7.8  https://support.google.com/mail/?p=BadCredentials d55sm1453572qta.41 - gsmtp')"
     ]
    }
   ],
   "source": [
    "html = '<!DOCTYPE html><html><body><h1>Sales orders that should be submitted as POs today:</h1><p></p></body></html>'\n",
    "jon = 'jon@iwhardwood.com'\n",
    "yag = yagmail.SMTP(user='jon@iwhardwood.com', password='SOME_PASSWORD_WOULD_GO_HERE')\n",
    "yag.send(to=jon,subject='Test', contents=[html] )"
   ]
  },
  {
   "cell_type": "markdown",
   "metadata": {},
   "source": [
    "# Section 3, Evaluation:"
   ]
  },
  {
   "cell_type": "markdown",
   "metadata": {},
   "source": [
    "## Now that we have seen how the mechanics of the system work, what can be said about it's efficacy?"
   ]
  },
  {
   "cell_type": "markdown",
   "metadata": {},
   "source": [
    "#### First we will look at inventory values of stock products and inventory values of nonstock products against the whole inventory landscape."
   ]
  },
  {
   "cell_type": "code",
   "execution_count": 68,
   "metadata": {},
   "outputs": [],
   "source": [
    "total_diff_df = pd.read_csv('product_values_by_product_group_daily.csv', index_col=0)\n",
    "total_diff_df.index = pd.to_datetime(total_diff_df.index)\n",
    "total_diff_df['Total'] = total_diff_df.sum(axis=1)\n",
    "# total_diff_df.head()"
   ]
  },
  {
   "cell_type": "code",
   "execution_count": 69,
   "metadata": {},
   "outputs": [],
   "source": [
    "stock_diff_df = pd.read_csv('Stocking_product_values_by_product_group_daily.csv',index_col=0)\n",
    "stock_diff_df.index = pd.to_datetime(stock_diff_df.index)\n",
    "stock_diff_df['Total'] = stock_diff_df.sum(axis=1)\n",
    "# stock_diff_df.head()"
   ]
  },
  {
   "cell_type": "markdown",
   "metadata": {},
   "source": [
    "### Plot only the prefinished flooring data"
   ]
  },
  {
   "cell_type": "code",
   "execution_count": 70,
   "metadata": {},
   "outputs": [],
   "source": [
    "# Define our working date range\n",
    "dates = pd.date_range('1/1/2019','8/3/2019') "
   ]
  },
  {
   "cell_type": "code",
   "execution_count": 71,
   "metadata": {},
   "outputs": [
    {
     "data": {
      "text/plain": [
       "<matplotlib.axes._subplots.AxesSubplot at 0x120fb4e48>"
      ]
     },
     "execution_count": 71,
     "metadata": {},
     "output_type": "execute_result"
    },
    {
     "data": {
      "image/png": "[encoded data removed]",
      "text/plain": [
       "<Figure size 1080x1080 with 1 Axes>"
      ]
     },
     "metadata": {
      "needs_background": "light"
     },
     "output_type": "display_data"
    }
   ],
   "source": [
    "plotting_df = pd.DataFrame(index=dates)\n",
    "plotting_df['Non_Stock_Prefinished_Floors'] = total_diff_df['Prefinished Flooring'] - stock_diff_df['Prefinished Flooring']\n",
    "plotting_df['Stock_Prefinished_Floors'] = stock_diff_df['Prefinished Flooring']\n",
    "plotting_df['Total_Prefinished_Floors'] = total_diff_df['Prefinished Flooring']\n",
    "t_df = plotting_df.rolling(30).mean()\n",
    "t_df.columns = ['Non Stock 30 Day Moving Average', 'Stock 30 Day Moving Average', 'Total 30 Day Moving Average']\n",
    "plotting_df = pd.concat([plotting_df,t_df], axis=1)\n",
    "plotting_df.plot()"
   ]
  },
  {
   "cell_type": "markdown",
   "metadata": {},
   "source": [
    "### Plot the same analysis for all categories of inventory"
   ]
  },
  {
   "cell_type": "code",
   "execution_count": 72,
   "metadata": {
    "scrolled": false
   },
   "outputs": [
    {
     "data": {
      "text/plain": [
       "<matplotlib.axes._subplots.AxesSubplot at 0x11b9364a8>"
      ]
     },
     "execution_count": 72,
     "metadata": {},
     "output_type": "execute_result"
    },
    {
     "data": {
      "image/png": "[encoded data removed]",
      "text/plain": [
       "<Figure size 1080x1080 with 1 Axes>"
      ]
     },
     "metadata": {
      "needs_background": "light"
     },
     "output_type": "display_data"
    }
   ],
   "source": [
    "total_stock_plotting_df = pd.DataFrame(index=dates)\n",
    "total_stock_plotting_df['Inventory_total'] = total_diff_df.Total\n",
    "total_stock_plotting_df['Inventory_total_Stock_Products'] = stock_diff_df.Total\n",
    "total_stock_plotting_df['Inventory_total_Non_Stock_Products'] = total_diff_df.Total - stock_diff_df.Total\n",
    "t_df = total_stock_plotting_df.rolling(30).mean()\n",
    "t_df.columns = ['Total 30 Day Moving Average', 'Stock 30 Day Moving Average', 'Non Stock 30 Day Moving Average']\n",
    "total_stock_plotting_df = pd.concat([total_stock_plotting_df,t_df], axis=1)\n",
    "total_stock_plotting_df.plot()"
   ]
  },
  {
   "cell_type": "markdown",
   "metadata": {},
   "source": [
    "## Calculating average days to sell."
   ]
  },
  {
   "cell_type": "markdown",
   "metadata": {},
   "source": [
    "The average time it takes to sell a single product after it has been purchased and received is a standard KPI for businesses. We will analyze the performace of this approach to reducing inventory by calculating the average time it takes to sell an item, and plotting that against time."
   ]
  },
  {
   "cell_type": "markdown",
   "metadata": {},
   "source": [
    "### Average days to sell is calculated as:\n",
    "\n",
    "### ads_t = time_delta / Inventory Turns\n",
    "### inventory_turns = Cost of goods sold (for a time delta) / Average Inventory Value\n",
    "### Cost of Goods Sold = initial inventory + value of purchases - final inventory \n",
    "    This is the value to the business of material that was shipped out up to a given day\n",
    "### Average inventory = (initial_inv + final_inv)/2\n",
    "\n",
    "So we will have to calculate these three properties"
   ]
  },
  {
   "cell_type": "markdown",
   "metadata": {},
   "source": [
    "### First we get all the purchase orders that have been received, sorted by day. \n",
    "I have taken the liberty of doing all that work off screen for brevity"
   ]
  },
  {
   "cell_type": "code",
   "execution_count": 73,
   "metadata": {},
   "outputs": [],
   "source": [
    "po_df = pd.read_csv('Purchase_Orders_Flattened.csv')\n",
    "po_df['CreatedOn'] = pd.to_datetime(po_df.CreatedOn)\n",
    "po_df['CompletedDate'] = pd.to_datetime(po_df.CompletedDate)\n",
    "po_df.CreatedOn = pd.DatetimeIndex(po_df.CreatedOn).normalize()\n",
    "po_df.CompletedDate = pd.DatetimeIndex(po_df.CompletedDate).normalize()"
   ]
  },
  {
   "cell_type": "markdown",
   "metadata": {},
   "source": [
    "### Now that we have a dataframe of all purchase orders, we need the total amount of material received into the warehouse every day. "
   ]
  },
  {
   "cell_type": "code",
   "execution_count": 74,
   "metadata": {
    "scrolled": false
   },
   "outputs": [
    {
     "data": {
      "text/html": [
       "<div>\n",
       "<style scoped>\n",
       "    .dataframe tbody tr th:only-of-type {\n",
       "        vertical-align: middle;\n",
       "    }\n",
       "\n",
       "    .dataframe tbody tr th {\n",
       "        vertical-align: top;\n",
       "    }\n",
       "\n",
       "    .dataframe thead th {\n",
       "        text-align: right;\n",
       "    }\n",
       "</style>\n",
       "<table border=\"1\" class=\"dataframe\">\n",
       "  <thead>\n",
       "    <tr style=\"text-align: right;\">\n",
       "      <th></th>\n",
       "      <th>DatePurchaseTotal</th>\n",
       "    </tr>\n",
       "    <tr>\n",
       "      <th>CompletedDate</th>\n",
       "      <th></th>\n",
       "    </tr>\n",
       "  </thead>\n",
       "  <tbody>\n",
       "    <tr>\n",
       "      <th>2019-01-02</th>\n",
       "      <td>6020.88</td>\n",
       "    </tr>\n",
       "    <tr>\n",
       "      <th>2019-01-03</th>\n",
       "      <td>40.00</td>\n",
       "    </tr>\n",
       "    <tr>\n",
       "      <th>2019-01-04</th>\n",
       "      <td>10596.74</td>\n",
       "    </tr>\n",
       "    <tr>\n",
       "      <th>2019-01-07</th>\n",
       "      <td>4848.10</td>\n",
       "    </tr>\n",
       "    <tr>\n",
       "      <th>2019-01-08</th>\n",
       "      <td>4617.92</td>\n",
       "    </tr>\n",
       "    <tr>\n",
       "      <th>2019-01-10</th>\n",
       "      <td>579.22</td>\n",
       "    </tr>\n",
       "    <tr>\n",
       "      <th>2019-01-11</th>\n",
       "      <td>9936.74</td>\n",
       "    </tr>\n",
       "    <tr>\n",
       "      <th>2019-01-14</th>\n",
       "      <td>659.22</td>\n",
       "    </tr>\n",
       "    <tr>\n",
       "      <th>2019-01-15</th>\n",
       "      <td>2313.23</td>\n",
       "    </tr>\n",
       "    <tr>\n",
       "      <th>2019-01-16</th>\n",
       "      <td>49487.20</td>\n",
       "    </tr>\n",
       "    <tr>\n",
       "      <th>2019-01-17</th>\n",
       "      <td>7079.86</td>\n",
       "    </tr>\n",
       "    <tr>\n",
       "      <th>2019-01-18</th>\n",
       "      <td>5915.76</td>\n",
       "    </tr>\n",
       "    <tr>\n",
       "      <th>2019-01-21</th>\n",
       "      <td>2253.80</td>\n",
       "    </tr>\n",
       "    <tr>\n",
       "      <th>2019-01-22</th>\n",
       "      <td>1242.19</td>\n",
       "    </tr>\n",
       "    <tr>\n",
       "      <th>2019-01-23</th>\n",
       "      <td>55832.95</td>\n",
       "    </tr>\n",
       "    <tr>\n",
       "      <th>2019-01-24</th>\n",
       "      <td>4633.79</td>\n",
       "    </tr>\n",
       "    <tr>\n",
       "      <th>2019-01-25</th>\n",
       "      <td>19041.96</td>\n",
       "    </tr>\n",
       "    <tr>\n",
       "      <th>2019-01-28</th>\n",
       "      <td>55768.20</td>\n",
       "    </tr>\n",
       "    <tr>\n",
       "      <th>2019-01-29</th>\n",
       "      <td>953.09</td>\n",
       "    </tr>\n",
       "    <tr>\n",
       "      <th>2019-01-30</th>\n",
       "      <td>8171.44</td>\n",
       "    </tr>\n",
       "    <tr>\n",
       "      <th>2019-01-31</th>\n",
       "      <td>8371.66</td>\n",
       "    </tr>\n",
       "    <tr>\n",
       "      <th>2019-02-01</th>\n",
       "      <td>18138.25</td>\n",
       "    </tr>\n",
       "    <tr>\n",
       "      <th>2019-02-04</th>\n",
       "      <td>1547.90</td>\n",
       "    </tr>\n",
       "    <tr>\n",
       "      <th>2019-02-05</th>\n",
       "      <td>2887.02</td>\n",
       "    </tr>\n",
       "    <tr>\n",
       "      <th>2019-02-07</th>\n",
       "      <td>54761.70</td>\n",
       "    </tr>\n",
       "    <tr>\n",
       "      <th>2019-02-08</th>\n",
       "      <td>14641.90</td>\n",
       "    </tr>\n",
       "    <tr>\n",
       "      <th>2019-02-11</th>\n",
       "      <td>3688.94</td>\n",
       "    </tr>\n",
       "    <tr>\n",
       "      <th>2019-02-14</th>\n",
       "      <td>6601.99</td>\n",
       "    </tr>\n",
       "    <tr>\n",
       "      <th>2019-02-15</th>\n",
       "      <td>10468.17</td>\n",
       "    </tr>\n",
       "    <tr>\n",
       "      <th>2019-02-18</th>\n",
       "      <td>265.00</td>\n",
       "    </tr>\n",
       "    <tr>\n",
       "      <th>2019-02-19</th>\n",
       "      <td>22261.71</td>\n",
       "    </tr>\n",
       "    <tr>\n",
       "      <th>2019-02-20</th>\n",
       "      <td>25815.02</td>\n",
       "    </tr>\n",
       "    <tr>\n",
       "      <th>2019-02-21</th>\n",
       "      <td>47724.35</td>\n",
       "    </tr>\n",
       "    <tr>\n",
       "      <th>2019-02-22</th>\n",
       "      <td>10213.23</td>\n",
       "    </tr>\n",
       "    <tr>\n",
       "      <th>2019-02-25</th>\n",
       "      <td>3699.02</td>\n",
       "    </tr>\n",
       "    <tr>\n",
       "      <th>2019-02-26</th>\n",
       "      <td>8645.76</td>\n",
       "    </tr>\n",
       "    <tr>\n",
       "      <th>2019-02-27</th>\n",
       "      <td>30206.77</td>\n",
       "    </tr>\n",
       "    <tr>\n",
       "      <th>2019-02-28</th>\n",
       "      <td>8440.35</td>\n",
       "    </tr>\n",
       "    <tr>\n",
       "      <th>2019-03-01</th>\n",
       "      <td>12270.75</td>\n",
       "    </tr>\n",
       "    <tr>\n",
       "      <th>2019-03-04</th>\n",
       "      <td>2430.67</td>\n",
       "    </tr>\n",
       "    <tr>\n",
       "      <th>2019-03-05</th>\n",
       "      <td>1032.90</td>\n",
       "    </tr>\n",
       "    <tr>\n",
       "      <th>2019-03-06</th>\n",
       "      <td>14084.08</td>\n",
       "    </tr>\n",
       "    <tr>\n",
       "      <th>2019-03-07</th>\n",
       "      <td>14135.81</td>\n",
       "    </tr>\n",
       "    <tr>\n",
       "      <th>2019-03-08</th>\n",
       "      <td>15141.31</td>\n",
       "    </tr>\n",
       "    <tr>\n",
       "      <th>2019-03-11</th>\n",
       "      <td>2591.35</td>\n",
       "    </tr>\n",
       "    <tr>\n",
       "      <th>2019-03-12</th>\n",
       "      <td>45060.72</td>\n",
       "    </tr>\n",
       "    <tr>\n",
       "      <th>2019-03-13</th>\n",
       "      <td>5959.46</td>\n",
       "    </tr>\n",
       "    <tr>\n",
       "      <th>2019-03-14</th>\n",
       "      <td>7309.72</td>\n",
       "    </tr>\n",
       "    <tr>\n",
       "      <th>2019-03-15</th>\n",
       "      <td>6583.82</td>\n",
       "    </tr>\n",
       "    <tr>\n",
       "      <th>2019-03-18</th>\n",
       "      <td>568.90</td>\n",
       "    </tr>\n",
       "    <tr>\n",
       "      <th>2019-03-19</th>\n",
       "      <td>5860.06</td>\n",
       "    </tr>\n",
       "    <tr>\n",
       "      <th>2019-03-20</th>\n",
       "      <td>5266.41</td>\n",
       "    </tr>\n",
       "    <tr>\n",
       "      <th>2019-03-21</th>\n",
       "      <td>1425.80</td>\n",
       "    </tr>\n",
       "    <tr>\n",
       "      <th>2019-03-22</th>\n",
       "      <td>195.52</td>\n",
       "    </tr>\n",
       "    <tr>\n",
       "      <th>2019-03-25</th>\n",
       "      <td>2941.49</td>\n",
       "    </tr>\n",
       "    <tr>\n",
       "      <th>2019-03-26</th>\n",
       "      <td>14170.16</td>\n",
       "    </tr>\n",
       "    <tr>\n",
       "      <th>2019-03-27</th>\n",
       "      <td>1585.86</td>\n",
       "    </tr>\n",
       "    <tr>\n",
       "      <th>2019-03-28</th>\n",
       "      <td>37106.40</td>\n",
       "    </tr>\n",
       "    <tr>\n",
       "      <th>2019-03-29</th>\n",
       "      <td>907.40</td>\n",
       "    </tr>\n",
       "    <tr>\n",
       "      <th>2019-04-01</th>\n",
       "      <td>1102.70</td>\n",
       "    </tr>\n",
       "    <tr>\n",
       "      <th>2019-04-03</th>\n",
       "      <td>3846.13</td>\n",
       "    </tr>\n",
       "    <tr>\n",
       "      <th>2019-04-04</th>\n",
       "      <td>9398.06</td>\n",
       "    </tr>\n",
       "    <tr>\n",
       "      <th>2019-04-05</th>\n",
       "      <td>3397.46</td>\n",
       "    </tr>\n",
       "    <tr>\n",
       "      <th>2019-04-08</th>\n",
       "      <td>69469.15</td>\n",
       "    </tr>\n",
       "    <tr>\n",
       "      <th>2019-04-09</th>\n",
       "      <td>14073.08</td>\n",
       "    </tr>\n",
       "    <tr>\n",
       "      <th>2019-04-10</th>\n",
       "      <td>2646.68</td>\n",
       "    </tr>\n",
       "    <tr>\n",
       "      <th>2019-04-11</th>\n",
       "      <td>3883.32</td>\n",
       "    </tr>\n",
       "    <tr>\n",
       "      <th>2019-04-12</th>\n",
       "      <td>1761.14</td>\n",
       "    </tr>\n",
       "    <tr>\n",
       "      <th>2019-04-15</th>\n",
       "      <td>872.42</td>\n",
       "    </tr>\n",
       "    <tr>\n",
       "      <th>2019-04-16</th>\n",
       "      <td>4569.51</td>\n",
       "    </tr>\n",
       "    <tr>\n",
       "      <th>2019-04-17</th>\n",
       "      <td>46900.39</td>\n",
       "    </tr>\n",
       "    <tr>\n",
       "      <th>2019-04-18</th>\n",
       "      <td>5320.00</td>\n",
       "    </tr>\n",
       "    <tr>\n",
       "      <th>2019-04-19</th>\n",
       "      <td>13497.64</td>\n",
       "    </tr>\n",
       "    <tr>\n",
       "      <th>2019-04-22</th>\n",
       "      <td>107.82</td>\n",
       "    </tr>\n",
       "    <tr>\n",
       "      <th>2019-04-23</th>\n",
       "      <td>519.60</td>\n",
       "    </tr>\n",
       "    <tr>\n",
       "      <th>2019-04-24</th>\n",
       "      <td>8964.92</td>\n",
       "    </tr>\n",
       "    <tr>\n",
       "      <th>2019-04-25</th>\n",
       "      <td>8625.78</td>\n",
       "    </tr>\n",
       "    <tr>\n",
       "      <th>2019-04-26</th>\n",
       "      <td>13815.23</td>\n",
       "    </tr>\n",
       "    <tr>\n",
       "      <th>2019-04-29</th>\n",
       "      <td>12690.56</td>\n",
       "    </tr>\n",
       "    <tr>\n",
       "      <th>2019-04-30</th>\n",
       "      <td>12176.03</td>\n",
       "    </tr>\n",
       "    <tr>\n",
       "      <th>2019-05-01</th>\n",
       "      <td>809.00</td>\n",
       "    </tr>\n",
       "    <tr>\n",
       "      <th>2019-05-02</th>\n",
       "      <td>7985.15</td>\n",
       "    </tr>\n",
       "    <tr>\n",
       "      <th>2019-05-03</th>\n",
       "      <td>4479.04</td>\n",
       "    </tr>\n",
       "    <tr>\n",
       "      <th>2019-05-06</th>\n",
       "      <td>18729.14</td>\n",
       "    </tr>\n",
       "    <tr>\n",
       "      <th>2019-05-07</th>\n",
       "      <td>50052.74</td>\n",
       "    </tr>\n",
       "    <tr>\n",
       "      <th>2019-05-08</th>\n",
       "      <td>24149.37</td>\n",
       "    </tr>\n",
       "    <tr>\n",
       "      <th>2019-05-09</th>\n",
       "      <td>304.21</td>\n",
       "    </tr>\n",
       "    <tr>\n",
       "      <th>2019-05-10</th>\n",
       "      <td>6199.06</td>\n",
       "    </tr>\n",
       "    <tr>\n",
       "      <th>2019-05-13</th>\n",
       "      <td>5810.98</td>\n",
       "    </tr>\n",
       "    <tr>\n",
       "      <th>2019-05-14</th>\n",
       "      <td>89209.38</td>\n",
       "    </tr>\n",
       "    <tr>\n",
       "      <th>2019-05-15</th>\n",
       "      <td>418.26</td>\n",
       "    </tr>\n",
       "    <tr>\n",
       "      <th>2019-05-20</th>\n",
       "      <td>155105.27</td>\n",
       "    </tr>\n",
       "    <tr>\n",
       "      <th>2019-05-21</th>\n",
       "      <td>2705.16</td>\n",
       "    </tr>\n",
       "    <tr>\n",
       "      <th>2019-05-22</th>\n",
       "      <td>486.80</td>\n",
       "    </tr>\n",
       "    <tr>\n",
       "      <th>2019-05-24</th>\n",
       "      <td>20477.33</td>\n",
       "    </tr>\n",
       "    <tr>\n",
       "      <th>2019-05-28</th>\n",
       "      <td>47931.26</td>\n",
       "    </tr>\n",
       "    <tr>\n",
       "      <th>2019-05-29</th>\n",
       "      <td>16580.18</td>\n",
       "    </tr>\n",
       "    <tr>\n",
       "      <th>2019-05-30</th>\n",
       "      <td>96.90</td>\n",
       "    </tr>\n",
       "    <tr>\n",
       "      <th>2019-05-31</th>\n",
       "      <td>1544.21</td>\n",
       "    </tr>\n",
       "    <tr>\n",
       "      <th>2019-06-03</th>\n",
       "      <td>4802.35</td>\n",
       "    </tr>\n",
       "    <tr>\n",
       "      <th>2019-06-04</th>\n",
       "      <td>1125.30</td>\n",
       "    </tr>\n",
       "    <tr>\n",
       "      <th>2019-06-05</th>\n",
       "      <td>11385.24</td>\n",
       "    </tr>\n",
       "    <tr>\n",
       "      <th>2019-06-06</th>\n",
       "      <td>5503.24</td>\n",
       "    </tr>\n",
       "    <tr>\n",
       "      <th>2019-06-07</th>\n",
       "      <td>5837.74</td>\n",
       "    </tr>\n",
       "    <tr>\n",
       "      <th>2019-06-10</th>\n",
       "      <td>4311.54</td>\n",
       "    </tr>\n",
       "    <tr>\n",
       "      <th>2019-06-11</th>\n",
       "      <td>7488.34</td>\n",
       "    </tr>\n",
       "    <tr>\n",
       "      <th>2019-06-12</th>\n",
       "      <td>7638.95</td>\n",
       "    </tr>\n",
       "    <tr>\n",
       "      <th>2019-06-13</th>\n",
       "      <td>48180.96</td>\n",
       "    </tr>\n",
       "    <tr>\n",
       "      <th>2019-06-14</th>\n",
       "      <td>3770.43</td>\n",
       "    </tr>\n",
       "    <tr>\n",
       "      <th>2019-06-17</th>\n",
       "      <td>3896.71</td>\n",
       "    </tr>\n",
       "    <tr>\n",
       "      <th>2019-06-18</th>\n",
       "      <td>3238.92</td>\n",
       "    </tr>\n",
       "    <tr>\n",
       "      <th>2019-06-20</th>\n",
       "      <td>13320.55</td>\n",
       "    </tr>\n",
       "    <tr>\n",
       "      <th>2019-06-21</th>\n",
       "      <td>30211.93</td>\n",
       "    </tr>\n",
       "    <tr>\n",
       "      <th>2019-06-24</th>\n",
       "      <td>12445.25</td>\n",
       "    </tr>\n",
       "    <tr>\n",
       "      <th>2019-06-26</th>\n",
       "      <td>16453.94</td>\n",
       "    </tr>\n",
       "    <tr>\n",
       "      <th>2019-06-27</th>\n",
       "      <td>18344.31</td>\n",
       "    </tr>\n",
       "    <tr>\n",
       "      <th>2019-06-28</th>\n",
       "      <td>8533.20</td>\n",
       "    </tr>\n",
       "    <tr>\n",
       "      <th>2019-07-01</th>\n",
       "      <td>7305.35</td>\n",
       "    </tr>\n",
       "    <tr>\n",
       "      <th>2019-07-02</th>\n",
       "      <td>6983.46</td>\n",
       "    </tr>\n",
       "    <tr>\n",
       "      <th>2019-07-03</th>\n",
       "      <td>3778.20</td>\n",
       "    </tr>\n",
       "    <tr>\n",
       "      <th>2019-07-08</th>\n",
       "      <td>3038.22</td>\n",
       "    </tr>\n",
       "    <tr>\n",
       "      <th>2019-07-09</th>\n",
       "      <td>1878.06</td>\n",
       "    </tr>\n",
       "    <tr>\n",
       "      <th>2019-07-10</th>\n",
       "      <td>63218.56</td>\n",
       "    </tr>\n",
       "    <tr>\n",
       "      <th>2019-07-12</th>\n",
       "      <td>56086.52</td>\n",
       "    </tr>\n",
       "    <tr>\n",
       "      <th>2019-07-15</th>\n",
       "      <td>5254.90</td>\n",
       "    </tr>\n",
       "    <tr>\n",
       "      <th>2019-07-16</th>\n",
       "      <td>76670.73</td>\n",
       "    </tr>\n",
       "    <tr>\n",
       "      <th>2019-07-17</th>\n",
       "      <td>1327.81</td>\n",
       "    </tr>\n",
       "    <tr>\n",
       "      <th>2019-07-18</th>\n",
       "      <td>2382.43</td>\n",
       "    </tr>\n",
       "    <tr>\n",
       "      <th>2019-07-19</th>\n",
       "      <td>7040.27</td>\n",
       "    </tr>\n",
       "    <tr>\n",
       "      <th>2019-07-24</th>\n",
       "      <td>51100.18</td>\n",
       "    </tr>\n",
       "    <tr>\n",
       "      <th>2019-07-25</th>\n",
       "      <td>8211.36</td>\n",
       "    </tr>\n",
       "    <tr>\n",
       "      <th>2019-07-26</th>\n",
       "      <td>967.46</td>\n",
       "    </tr>\n",
       "    <tr>\n",
       "      <th>2019-07-27</th>\n",
       "      <td>355.00</td>\n",
       "    </tr>\n",
       "    <tr>\n",
       "      <th>2019-07-29</th>\n",
       "      <td>14899.94</td>\n",
       "    </tr>\n",
       "    <tr>\n",
       "      <th>2019-07-30</th>\n",
       "      <td>47277.15</td>\n",
       "    </tr>\n",
       "    <tr>\n",
       "      <th>2019-07-31</th>\n",
       "      <td>24910.46</td>\n",
       "    </tr>\n",
       "    <tr>\n",
       "      <th>2019-08-01</th>\n",
       "      <td>6679.58</td>\n",
       "    </tr>\n",
       "    <tr>\n",
       "      <th>2019-08-02</th>\n",
       "      <td>7355.12</td>\n",
       "    </tr>\n",
       "  </tbody>\n",
       "</table>\n",
       "</div>"
      ],
      "text/plain": [
       "               DatePurchaseTotal\n",
       "CompletedDate                   \n",
       "2019-01-02               6020.88\n",
       "2019-01-03                 40.00\n",
       "2019-01-04              10596.74\n",
       "2019-01-07               4848.10\n",
       "2019-01-08               4617.92\n",
       "2019-01-10                579.22\n",
       "2019-01-11               9936.74\n",
       "2019-01-14                659.22\n",
       "2019-01-15               2313.23\n",
       "2019-01-16              49487.20\n",
       "2019-01-17               7079.86\n",
       "2019-01-18               5915.76\n",
       "2019-01-21               2253.80\n",
       "2019-01-22               1242.19\n",
       "2019-01-23              55832.95\n",
       "2019-01-24               4633.79\n",
       "2019-01-25              19041.96\n",
       "2019-01-28              55768.20\n",
       "2019-01-29                953.09\n",
       "2019-01-30               8171.44\n",
       "2019-01-31               8371.66\n",
       "2019-02-01              18138.25\n",
       "2019-02-04               1547.90\n",
       "2019-02-05               2887.02\n",
       "2019-02-07              54761.70\n",
       "2019-02-08              14641.90\n",
       "2019-02-11               3688.94\n",
       "2019-02-14               6601.99\n",
       "2019-02-15              10468.17\n",
       "2019-02-18                265.00\n",
       "2019-02-19              22261.71\n",
       "2019-02-20              25815.02\n",
       "2019-02-21              47724.35\n",
       "2019-02-22              10213.23\n",
       "2019-02-25               3699.02\n",
       "2019-02-26               8645.76\n",
       "2019-02-27              30206.77\n",
       "2019-02-28               8440.35\n",
       "2019-03-01              12270.75\n",
       "2019-03-04               2430.67\n",
       "2019-03-05               1032.90\n",
       "2019-03-06              14084.08\n",
       "2019-03-07              14135.81\n",
       "2019-03-08              15141.31\n",
       "2019-03-11               2591.35\n",
       "2019-03-12              45060.72\n",
       "2019-03-13               5959.46\n",
       "2019-03-14               7309.72\n",
       "2019-03-15               6583.82\n",
       "2019-03-18                568.90\n",
       "2019-03-19               5860.06\n",
       "2019-03-20               5266.41\n",
       "2019-03-21               1425.80\n",
       "2019-03-22                195.52\n",
       "2019-03-25               2941.49\n",
       "2019-03-26              14170.16\n",
       "2019-03-27               1585.86\n",
       "2019-03-28              37106.40\n",
       "2019-03-29                907.40\n",
       "2019-04-01               1102.70\n",
       "2019-04-03               3846.13\n",
       "2019-04-04               9398.06\n",
       "2019-04-05               3397.46\n",
       "2019-04-08              69469.15\n",
       "2019-04-09              14073.08\n",
       "2019-04-10               2646.68\n",
       "2019-04-11               3883.32\n",
       "2019-04-12               1761.14\n",
       "2019-04-15                872.42\n",
       "2019-04-16               4569.51\n",
       "2019-04-17              46900.39\n",
       "2019-04-18               5320.00\n",
       "2019-04-19              13497.64\n",
       "2019-04-22                107.82\n",
       "2019-04-23                519.60\n",
       "2019-04-24               8964.92\n",
       "2019-04-25               8625.78\n",
       "2019-04-26              13815.23\n",
       "2019-04-29              12690.56\n",
       "2019-04-30              12176.03\n",
       "2019-05-01                809.00\n",
       "2019-05-02               7985.15\n",
       "2019-05-03               4479.04\n",
       "2019-05-06              18729.14\n",
       "2019-05-07              50052.74\n",
       "2019-05-08              24149.37\n",
       "2019-05-09                304.21\n",
       "2019-05-10               6199.06\n",
       "2019-05-13               5810.98\n",
       "2019-05-14              89209.38\n",
       "2019-05-15                418.26\n",
       "2019-05-20             155105.27\n",
       "2019-05-21               2705.16\n",
       "2019-05-22                486.80\n",
       "2019-05-24              20477.33\n",
       "2019-05-28              47931.26\n",
       "2019-05-29              16580.18\n",
       "2019-05-30                 96.90\n",
       "2019-05-31               1544.21\n",
       "2019-06-03               4802.35\n",
       "2019-06-04               1125.30\n",
       "2019-06-05              11385.24\n",
       "2019-06-06               5503.24\n",
       "2019-06-07               5837.74\n",
       "2019-06-10               4311.54\n",
       "2019-06-11               7488.34\n",
       "2019-06-12               7638.95\n",
       "2019-06-13              48180.96\n",
       "2019-06-14               3770.43\n",
       "2019-06-17               3896.71\n",
       "2019-06-18               3238.92\n",
       "2019-06-20              13320.55\n",
       "2019-06-21              30211.93\n",
       "2019-06-24              12445.25\n",
       "2019-06-26              16453.94\n",
       "2019-06-27              18344.31\n",
       "2019-06-28               8533.20\n",
       "2019-07-01               7305.35\n",
       "2019-07-02               6983.46\n",
       "2019-07-03               3778.20\n",
       "2019-07-08               3038.22\n",
       "2019-07-09               1878.06\n",
       "2019-07-10              63218.56\n",
       "2019-07-12              56086.52\n",
       "2019-07-15               5254.90\n",
       "2019-07-16              76670.73\n",
       "2019-07-17               1327.81\n",
       "2019-07-18               2382.43\n",
       "2019-07-19               7040.27\n",
       "2019-07-24              51100.18\n",
       "2019-07-25               8211.36\n",
       "2019-07-26                967.46\n",
       "2019-07-27                355.00\n",
       "2019-07-29              14899.94\n",
       "2019-07-30              47277.15\n",
       "2019-07-31              24910.46\n",
       "2019-08-01               6679.58\n",
       "2019-08-02               7355.12"
      ]
     },
     "execution_count": 74,
     "metadata": {},
     "output_type": "execute_result"
    }
   ],
   "source": [
    "daily_purchases_df = po_df.groupby('CompletedDate').sum()\n",
    "daily_purchases_df.columns=['DatePurchaseTotal']\n",
    "daily_purchases_df[datetime(2019,1,1):]"
   ]
  },
  {
   "cell_type": "markdown",
   "metadata": {},
   "source": [
    "### Now let's merge this df with the dataframe of all stock on hand broken down by product group, merging on the date:"
   ]
  },
  {
   "cell_type": "code",
   "execution_count": 75,
   "metadata": {},
   "outputs": [],
   "source": [
    "daily_inv_val_with_purchases_df = pd.merge(total_diff_df, daily_purchases_df, how='left',left_index=True, right_index=True)"
   ]
  },
  {
   "cell_type": "markdown",
   "metadata": {},
   "source": [
    "### Not every day is a day where we have material being received into the warehouse, so there are some NA values to fill in this new dataframe"
   ]
  },
  {
   "cell_type": "code",
   "execution_count": 76,
   "metadata": {},
   "outputs": [],
   "source": [
    "daily_inv_val_with_purchases_df.DatePurchaseTotal=daily_inv_val_with_purchases_df.DatePurchaseTotal.fillna(value=0.0)"
   ]
  },
  {
   "cell_type": "markdown",
   "metadata": {},
   "source": [
    "### Calculate the average inventory value since the beginning of the year"
   ]
  },
  {
   "cell_type": "code",
   "execution_count": 77,
   "metadata": {},
   "outputs": [],
   "source": [
    "daily_inv_val_with_purchases_df['AverageInventory'] = (daily_inv_val_with_purchases_df.Total + daily_inv_val_with_purchases_df.iloc[0]['Total']) / 2.0"
   ]
  },
  {
   "cell_type": "markdown",
   "metadata": {},
   "source": [
    "### We'll use tomorrow's inventory value as our \"final inventory value\" for the calculation of cogs"
   ]
  },
  {
   "cell_type": "code",
   "execution_count": 78,
   "metadata": {},
   "outputs": [],
   "source": [
    "p = daily_inv_val_with_purchases_df.Total.values"
   ]
  },
  {
   "cell_type": "code",
   "execution_count": 79,
   "metadata": {},
   "outputs": [
    {
     "data": {
      "text/plain": [
       "215"
      ]
     },
     "execution_count": 79,
     "metadata": {},
     "output_type": "execute_result"
    }
   ],
   "source": [
    "len(p)"
   ]
  },
  {
   "cell_type": "code",
   "execution_count": 80,
   "metadata": {},
   "outputs": [],
   "source": [
    "# Remove the first value, and append a zero value to the end of the array\n",
    "np.delete(p, 0)\n",
    "np.append(p,np.array([0]))\n",
    "daily_inv_val_with_purchases_df['Next_Day_Inventory'] = p"
   ]
  },
  {
   "cell_type": "markdown",
   "metadata": {},
   "source": [
    "### Calculate a column of cogs as a running calculation"
   ]
  },
  {
   "cell_type": "code",
   "execution_count": 81,
   "metadata": {},
   "outputs": [],
   "source": [
    "daily_cost_of_goods_sold = daily_inv_val_with_purchases_df.Total + daily_inv_val_with_purchases_df.DatePurchaseTotal - daily_inv_val_with_purchases_df.Next_Day_Inventory\n",
    "daily_inv_val_with_purchases_df['COGS'] = daily_cost_of_goods_sold.cumsum()"
   ]
  },
  {
   "cell_type": "markdown",
   "metadata": {},
   "source": [
    "### Now calculate inventory turns = COGS / Avg Inventory"
   ]
  },
  {
   "cell_type": "code",
   "execution_count": 82,
   "metadata": {},
   "outputs": [],
   "source": [
    "daily_inv_val_with_purchases_df['InventoryTurns'] = daily_inv_val_with_purchases_df.COGS / daily_inv_val_with_purchases_df.AverageInventory "
   ]
  },
  {
   "cell_type": "markdown",
   "metadata": {},
   "source": [
    "### In order to get our final number, we need the time delta from the beginning of the dataframe"
   ]
  },
  {
   "cell_type": "code",
   "execution_count": 83,
   "metadata": {},
   "outputs": [],
   "source": [
    "daily_inv_val_with_purchases_df['time_delta'] = daily_inv_val_with_purchases_df.index - datetime(2019,1,1)"
   ]
  },
  {
   "cell_type": "markdown",
   "metadata": {},
   "source": [
    "### Finally, Average days to sell = time_delta / inventory Turns"
   ]
  },
  {
   "cell_type": "code",
   "execution_count": 84,
   "metadata": {},
   "outputs": [
    {
     "name": "stderr",
     "output_type": "stream",
     "text": [
      "/Users/jon/anaconda3/lib/python3.7/site-packages/pandas/core/arrays/timedeltas.py:523: RuntimeWarning: invalid value encountered in true_divide\n",
      "  result = self._data / other\n"
     ]
    }
   ],
   "source": [
    "daily_inv_val_with_purchases_df['AverageDaysToSell'] = daily_inv_val_with_purchases_df.time_delta / daily_inv_val_with_purchases_df.InventoryTurns"
   ]
  },
  {
   "cell_type": "markdown",
   "metadata": {},
   "source": [
    "### Taking it from the just before we started to implement this system (the beginning of february, 2019) we can have a look at what the average days to sell a product has done"
   ]
  },
  {
   "cell_type": "code",
   "execution_count": 85,
   "metadata": {},
   "outputs": [
    {
     "data": {
      "text/plain": [
       "[<matplotlib.lines.Line2D at 0x11b93d2b0>]"
      ]
     },
     "execution_count": 85,
     "metadata": {},
     "output_type": "execute_result"
    },
    {
     "data": {
      "image/png": "[encoded data removed]",
      "text/plain": [
       "<Figure size 1080x1080 with 1 Axes>"
      ]
     },
     "metadata": {
      "needs_background": "light"
     },
     "output_type": "display_data"
    }
   ],
   "source": [
    "plt.plot(daily_inv_val_with_purchases_df.AverageDaysToSell.iloc[30:].apply(lambda x: x.days))"
   ]
  },
  {
   "cell_type": "markdown",
   "metadata": {},
   "source": [
    "### Our production system also calculates the average days to sell for the prefinished flooring product group, which I am going to load up and visualize here:"
   ]
  },
  {
   "cell_type": "code",
   "execution_count": 86,
   "metadata": {},
   "outputs": [],
   "source": [
    "kpis_df = pd.read_csv('kpis.csv', index_col=4)"
   ]
  },
  {
   "cell_type": "code",
   "execution_count": 87,
   "metadata": {},
   "outputs": [
    {
     "data": {
      "text/html": [
       "<div>\n",
       "<style scoped>\n",
       "    .dataframe tbody tr th:only-of-type {\n",
       "        vertical-align: middle;\n",
       "    }\n",
       "\n",
       "    .dataframe tbody tr th {\n",
       "        vertical-align: top;\n",
       "    }\n",
       "\n",
       "    .dataframe thead th {\n",
       "        text-align: right;\n",
       "    }\n",
       "</style>\n",
       "<table border=\"1\" class=\"dataframe\">\n",
       "  <thead>\n",
       "    <tr style=\"text-align: right;\">\n",
       "      <th></th>\n",
       "      <th>Total Days To Sell</th>\n",
       "      <th>Prefinished Wood Days To Sell</th>\n",
       "      <th>Total</th>\n",
       "      <th>Prefinished Flooring</th>\n",
       "    </tr>\n",
       "    <tr>\n",
       "      <th>Date</th>\n",
       "      <th></th>\n",
       "      <th></th>\n",
       "      <th></th>\n",
       "      <th></th>\n",
       "    </tr>\n",
       "  </thead>\n",
       "  <tbody>\n",
       "    <tr>\n",
       "      <th>2019-01-02</th>\n",
       "      <td>154.418191</td>\n",
       "      <td>74.261183</td>\n",
       "      <td>929733.395</td>\n",
       "      <td>361702.458</td>\n",
       "    </tr>\n",
       "    <tr>\n",
       "      <th>2019-01-03</th>\n",
       "      <td>23.087193</td>\n",
       "      <td>16.833838</td>\n",
       "      <td>858345.332</td>\n",
       "      <td>325736.409</td>\n",
       "    </tr>\n",
       "    <tr>\n",
       "      <th>2019-01-04</th>\n",
       "      <td>25.944874</td>\n",
       "      <td>21.591536</td>\n",
       "      <td>843535.320</td>\n",
       "      <td>320807.999</td>\n",
       "    </tr>\n",
       "    <tr>\n",
       "      <th>2019-01-07</th>\n",
       "      <td>50.803148</td>\n",
       "      <td>41.006393</td>\n",
       "      <td>846042.593</td>\n",
       "      <td>318462.714</td>\n",
       "    </tr>\n",
       "    <tr>\n",
       "      <th>2019-01-08</th>\n",
       "      <td>53.974813</td>\n",
       "      <td>43.337266</td>\n",
       "      <td>839168.147</td>\n",
       "      <td>313678.118</td>\n",
       "    </tr>\n",
       "  </tbody>\n",
       "</table>\n",
       "</div>"
      ],
      "text/plain": [
       "            Total Days To Sell  Prefinished Wood Days To Sell       Total  Prefinished Flooring\n",
       "Date                                                                                           \n",
       "2019-01-02          154.418191                      74.261183  929733.395            361702.458\n",
       "2019-01-03           23.087193                      16.833838  858345.332            325736.409\n",
       "2019-01-04           25.944874                      21.591536  843535.320            320807.999\n",
       "2019-01-07           50.803148                      41.006393  846042.593            318462.714\n",
       "2019-01-08           53.974813                      43.337266  839168.147            313678.118"
      ]
     },
     "execution_count": 87,
     "metadata": {},
     "output_type": "execute_result"
    }
   ],
   "source": [
    "kpis_df.head()"
   ]
  },
  {
   "cell_type": "code",
   "execution_count": 88,
   "metadata": {},
   "outputs": [],
   "source": [
    "kpis_df.index = pd.DatetimeIndex(kpis_df.index).normalize()"
   ]
  },
  {
   "cell_type": "code",
   "execution_count": 89,
   "metadata": {},
   "outputs": [
    {
     "data": {
      "text/plain": [
       "[<matplotlib.lines.Line2D at 0x11e177ef0>]"
      ]
     },
     "execution_count": 89,
     "metadata": {},
     "output_type": "execute_result"
    },
    {
     "data": {
      "image/png": "[encoded data removed]",
      "text/plain": [
       "<Figure size 1080x1080 with 1 Axes>"
      ]
     },
     "metadata": {
      "needs_background": "light"
     },
     "output_type": "display_data"
    }
   ],
   "source": [
    "plt.plot(kpis_df['Prefinished Wood Days To Sell'].iloc[30:])"
   ]
  },
  {
   "cell_type": "markdown",
   "metadata": {},
   "source": [
    "# Section 4, Final analysis:"
   ]
  },
  {
   "cell_type": "markdown",
   "metadata": {},
   "source": [
    "We can see from these figures that we have been successful in lowering inventory value very quickly in the early stages of implementation. This has been a great help for us in two ways: First, we were able in increase our avaible cash on hand, a useful thing for any business. Second, we were able to use that availabe cash on hand to take advantage of some massive discounts our primary supplier offered us in May of this year. Had we not taken these steps to reduce our inventory value, we would have lost out on significant profit because we wouldn't be able to afforid to take more stocking product.\n",
    "\n",
    "Another point that is worth mentioning is that while we built this system with a particular product group in mind, it is being applied to all the product groups in our inventory at the same time. We have acheived small gains in several categories that also contributed to the increase in availabe cash.  "
   ]
  }
 ],
 "metadata": {
  "kernelspec": {
   "display_name": "Python 3",
   "language": "python",
   "name": "python3"
  },
  "language_info": {
   "codemirror_mode": {
    "name": "ipython",
    "version": 3
   },
   "file_extension": ".py",
   "mimetype": "text/x-python",
   "name": "python",
   "nbconvert_exporter": "python",
   "pygments_lexer": "ipython3",
   "version": "3.7.3"
  },
  "latex_envs": {
   "LaTeX_envs_menu_present": true,
   "autoclose": false,
   "autocomplete": true,
   "bibliofile": "biblio.bib",
   "cite_by": "apalike",
   "current_citInitial": 1,
   "eqLabelWithNumbers": true,
   "eqNumInitial": 1,
   "hotkeys": {
    "equation": "Ctrl-E",
    "itemize": "Ctrl-I"
   },
   "labels_anchors": false,
   "latex_user_defs": false,
   "report_style_numbering": false,
   "user_envs_cfg": false
  }
 },
 "nbformat": 4,
 "nbformat_minor": 2
}
