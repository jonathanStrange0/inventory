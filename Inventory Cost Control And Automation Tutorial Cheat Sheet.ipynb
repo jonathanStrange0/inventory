{
 "cells": [
  {
   "cell_type": "code",
   "execution_count": 1,
   "metadata": {},
   "outputs": [],
   "source": [
    "import pandas as pd\n",
    "from pandas.io.json import json_normalize\n",
    "import numpy as np \n",
    "import matplotlib.pyplot as plt\n",
    "import json, re, os\n",
    "%matplotlib inline\n",
    "plt.rcParams['figure.figsize'] = 8,8\n",
    "\n",
    "from ulConnect import getULData\n",
    "from WatchDog import getAllSOH, getSOH\n",
    "from datetime import datetime, timedelta\n",
    "from pprint import pprint"
   ]
  },
  {
   "cell_type": "markdown",
   "metadata": {},
   "source": [
    "# First: get all the stock on hand as of 1/2/19"
   ]
  },
  {
   "cell_type": "code",
   "execution_count": 2,
   "metadata": {},
   "outputs": [],
   "source": [
    "def get_soh_as_of_date(date_string=None):\n",
    "    r = getULData('StockOnHand/','pageSize=1000')\n",
    "    pages = r.json()['Pagination']['NumberOfPages']\n",
    "    if not date_string:\n",
    "        date_string = str(datetime.now().year)+'-'+str(datetime.now().month)+'-'+str(datetime.now().day)\n",
    "    # Get a request list of Sales Orders by\n",
    "    # looping through pages and get all POs\n",
    "    soh = []\n",
    "    for i in range(1,pages+1):\n",
    "        # print(i)\n",
    "        r = getULData('StockOnHand/'+str(i), 'pageSize=1000&asAtDate='+date_string)\n",
    "        # print(r, r.url)\n",
    "        for item in r.json()['Items']:\n",
    "            if item not in soh:\n",
    "                soh.append(item)\n",
    "    if os.path.isfile('stockOnHand_'+date_string+'.json'):\n",
    "        os.remove('stockOnHand_'+date_string+'.json')\n",
    "    with open('stockOnHand_'+date_string+'.json', 'w') as outfile:\n",
    "        json.dump(soh, outfile)\n",
    "\n",
    "    return(soh)"
   ]
  },
  {
   "cell_type": "code",
   "execution_count": 3,
   "metadata": {},
   "outputs": [],
   "source": [
    "def get_all_products():\n",
    "    r = getULData('Products/','pageSize=1000')\n",
    "    pages = r.json()['Pagination']['NumberOfPages']\n",
    "    # Get a request list of products by\n",
    "    # looping through pages and get all listed products\n",
    "    products = []\n",
    "    for i in range(1,pages+1):\n",
    "        # print(i)\n",
    "        r = getULData('Products/'+str(i), 'pageSize=1000')\n",
    "        for item in r.json()['Items']:\n",
    "            if item not in products:\n",
    "                products.append(item)\n",
    "    if os.path.isfile('products.json'):\n",
    "        os.remove('products.json')\n",
    "    with open('products.json', 'w') as outfile:\n",
    "        json.dump(products, outfile)\n",
    "\n",
    "    return(products)"
   ]
  },
  {
   "cell_type": "code",
   "execution_count": 4,
   "metadata": {},
   "outputs": [],
   "source": [
    "initial_stock = get_soh_as_of_date(date_string='2019-02-28')"
   ]
  },
  {
   "cell_type": "code",
   "execution_count": 5,
   "metadata": {},
   "outputs": [
    {
     "name": "stdout",
     "output_type": "stream",
     "text": [
      "{'AllocatedQty': 0.0,\n",
      " 'AvailableQty': 4.0,\n",
      " 'AvgCost': 3.38,\n",
      " 'DaysSinceLastSale': 169,\n",
      " 'Guid': '594091f0-c613-42ff-9433-49337bf7be32',\n",
      " 'LastModifiedOn': '/Date(1564057822394)/',\n",
      " 'OnPurchase': 0.0,\n",
      " 'ProductCode': \"10' Pad6314\",\n",
      " 'ProductDescription': \"Padco Refill Lambskin 10'\",\n",
      " 'ProductGroupName': 'Applicators',\n",
      " 'ProductGuid': '594091f0-c613-42ff-9433-49337bf7be32',\n",
      " 'ProductSourceId': None,\n",
      " 'QtyOnHand': 4.0,\n",
      " 'TotalCost': 13.52,\n",
      " 'Warehouse': '',\n",
      " 'WarehouseCode': '',\n",
      " 'WarehouseId': ''}\n"
     ]
    }
   ],
   "source": [
    "pprint(initial_stock[0])"
   ]
  },
  {
   "cell_type": "markdown",
   "metadata": {},
   "source": [
    "# Put this information in a dataframe"
   ]
  },
  {
   "cell_type": "code",
   "execution_count": 6,
   "metadata": {},
   "outputs": [],
   "source": [
    "initial_stock_df = pd.read_json(json.dumps(initial_stock))"
   ]
  },
  {
   "cell_type": "code",
   "execution_count": 7,
   "metadata": {},
   "outputs": [
    {
     "data": {
      "text/html": [
       "<div>\n",
       "<style scoped>\n",
       "    .dataframe tbody tr th:only-of-type {\n",
       "        vertical-align: middle;\n",
       "    }\n",
       "\n",
       "    .dataframe tbody tr th {\n",
       "        vertical-align: top;\n",
       "    }\n",
       "\n",
       "    .dataframe thead th {\n",
       "        text-align: right;\n",
       "    }\n",
       "</style>\n",
       "<table border=\"1\" class=\"dataframe\">\n",
       "  <thead>\n",
       "    <tr style=\"text-align: right;\">\n",
       "      <th></th>\n",
       "      <th>AllocatedQty</th>\n",
       "      <th>AvailableQty</th>\n",
       "      <th>AvgCost</th>\n",
       "      <th>DaysSinceLastSale</th>\n",
       "      <th>Guid</th>\n",
       "      <th>LastModifiedOn</th>\n",
       "      <th>OnPurchase</th>\n",
       "      <th>ProductCode</th>\n",
       "      <th>ProductDescription</th>\n",
       "      <th>ProductGroupName</th>\n",
       "      <th>ProductGuid</th>\n",
       "      <th>ProductSourceId</th>\n",
       "      <th>QtyOnHand</th>\n",
       "      <th>TotalCost</th>\n",
       "      <th>Warehouse</th>\n",
       "      <th>WarehouseCode</th>\n",
       "      <th>WarehouseId</th>\n",
       "    </tr>\n",
       "  </thead>\n",
       "  <tbody>\n",
       "    <tr>\n",
       "      <th>0</th>\n",
       "      <td>0.0</td>\n",
       "      <td>4.0</td>\n",
       "      <td>3.38000</td>\n",
       "      <td>169.0</td>\n",
       "      <td>594091f0-c613-42ff-9433-49337bf7be32</td>\n",
       "      <td>/Date(1564057822394)/</td>\n",
       "      <td>0.0</td>\n",
       "      <td>10' Pad6314</td>\n",
       "      <td>Padco Refill Lambskin 10'</td>\n",
       "      <td>Applicators</td>\n",
       "      <td>594091f0-c613-42ff-9433-49337bf7be32</td>\n",
       "      <td>NaN</td>\n",
       "      <td>4.0</td>\n",
       "      <td>13.520</td>\n",
       "      <td></td>\n",
       "      <td></td>\n",
       "      <td></td>\n",
       "    </tr>\n",
       "    <tr>\n",
       "      <th>1</th>\n",
       "      <td>0.0</td>\n",
       "      <td>10.0</td>\n",
       "      <td>3.84000</td>\n",
       "      <td>405.0</td>\n",
       "      <td>5d6c26aa-f64d-4237-94a8-598449b2a2c0</td>\n",
       "      <td>/Date(1563218821284)/</td>\n",
       "      <td>0.0</td>\n",
       "      <td>12' Pad6316</td>\n",
       "      <td>Padco Refill Lambskin 12'</td>\n",
       "      <td>Applicators</td>\n",
       "      <td>5d6c26aa-f64d-4237-94a8-598449b2a2c0</td>\n",
       "      <td>NaN</td>\n",
       "      <td>10.0</td>\n",
       "      <td>38.400</td>\n",
       "      <td></td>\n",
       "      <td></td>\n",
       "      <td></td>\n",
       "    </tr>\n",
       "    <tr>\n",
       "      <th>2</th>\n",
       "      <td>0.0</td>\n",
       "      <td>13.0</td>\n",
       "      <td>5.25000</td>\n",
       "      <td>252.0</td>\n",
       "      <td>61b7111f-4eb3-469c-a946-14938398b151</td>\n",
       "      <td>/Date(1544736064492)/</td>\n",
       "      <td>0.0</td>\n",
       "      <td>16' Pad6320</td>\n",
       "      <td>Padco Refill Lambskin 16'</td>\n",
       "      <td>Applicators</td>\n",
       "      <td>61b7111f-4eb3-469c-a946-14938398b151</td>\n",
       "      <td>NaN</td>\n",
       "      <td>13.0</td>\n",
       "      <td>68.250</td>\n",
       "      <td></td>\n",
       "      <td></td>\n",
       "      <td></td>\n",
       "    </tr>\n",
       "    <tr>\n",
       "      <th>3</th>\n",
       "      <td>0.0</td>\n",
       "      <td>190.0</td>\n",
       "      <td>5.59000</td>\n",
       "      <td>197.0</td>\n",
       "      <td>b0ad60e3-4322-439f-9bfb-0d5a6f0785a5</td>\n",
       "      <td>/Date(1562783116596)/</td>\n",
       "      <td>0.0</td>\n",
       "      <td>3MBelReg729100</td>\n",
       "      <td>7-7/8'x29-1/2' 100 Grit Regalite belt</td>\n",
       "      <td>Sandpaper</td>\n",
       "      <td>b0ad60e3-4322-439f-9bfb-0d5a6f0785a5</td>\n",
       "      <td>NaN</td>\n",
       "      <td>190.0</td>\n",
       "      <td>1062.100</td>\n",
       "      <td></td>\n",
       "      <td></td>\n",
       "      <td></td>\n",
       "    </tr>\n",
       "    <tr>\n",
       "      <th>4</th>\n",
       "      <td>0.0</td>\n",
       "      <td>60.0</td>\n",
       "      <td>5.83285</td>\n",
       "      <td>232.0</td>\n",
       "      <td>56f3791c-55a8-464e-bac5-17b005d71a96</td>\n",
       "      <td>/Date(1562946750077)/</td>\n",
       "      <td>0.0</td>\n",
       "      <td>3mBelReg729120</td>\n",
       "      <td>7-7/8'x29-1/2' 120 Grit Regalite belt</td>\n",
       "      <td>Sandpaper</td>\n",
       "      <td>56f3791c-55a8-464e-bac5-17b005d71a96</td>\n",
       "      <td>NaN</td>\n",
       "      <td>60.0</td>\n",
       "      <td>349.971</td>\n",
       "      <td></td>\n",
       "      <td></td>\n",
       "      <td></td>\n",
       "    </tr>\n",
       "  </tbody>\n",
       "</table>\n",
       "</div>"
      ],
      "text/plain": [
       "   AllocatedQty  AvailableQty  AvgCost  DaysSinceLastSale  \\\n",
       "0           0.0           4.0  3.38000              169.0   \n",
       "1           0.0          10.0  3.84000              405.0   \n",
       "2           0.0          13.0  5.25000              252.0   \n",
       "3           0.0         190.0  5.59000              197.0   \n",
       "4           0.0          60.0  5.83285              232.0   \n",
       "\n",
       "                                   Guid         LastModifiedOn  OnPurchase  \\\n",
       "0  594091f0-c613-42ff-9433-49337bf7be32  /Date(1564057822394)/         0.0   \n",
       "1  5d6c26aa-f64d-4237-94a8-598449b2a2c0  /Date(1563218821284)/         0.0   \n",
       "2  61b7111f-4eb3-469c-a946-14938398b151  /Date(1544736064492)/         0.0   \n",
       "3  b0ad60e3-4322-439f-9bfb-0d5a6f0785a5  /Date(1562783116596)/         0.0   \n",
       "4  56f3791c-55a8-464e-bac5-17b005d71a96  /Date(1562946750077)/         0.0   \n",
       "\n",
       "      ProductCode                     ProductDescription ProductGroupName  \\\n",
       "0     10' Pad6314              Padco Refill Lambskin 10'      Applicators   \n",
       "1     12' Pad6316              Padco Refill Lambskin 12'      Applicators   \n",
       "2     16' Pad6320              Padco Refill Lambskin 16'      Applicators   \n",
       "3  3MBelReg729100  7-7/8'x29-1/2' 100 Grit Regalite belt        Sandpaper   \n",
       "4  3mBelReg729120  7-7/8'x29-1/2' 120 Grit Regalite belt        Sandpaper   \n",
       "\n",
       "                            ProductGuid  ProductSourceId  QtyOnHand  \\\n",
       "0  594091f0-c613-42ff-9433-49337bf7be32              NaN        4.0   \n",
       "1  5d6c26aa-f64d-4237-94a8-598449b2a2c0              NaN       10.0   \n",
       "2  61b7111f-4eb3-469c-a946-14938398b151              NaN       13.0   \n",
       "3  b0ad60e3-4322-439f-9bfb-0d5a6f0785a5              NaN      190.0   \n",
       "4  56f3791c-55a8-464e-bac5-17b005d71a96              NaN       60.0   \n",
       "\n",
       "   TotalCost Warehouse WarehouseCode WarehouseId  \n",
       "0     13.520                                      \n",
       "1     38.400                                      \n",
       "2     68.250                                      \n",
       "3   1062.100                                      \n",
       "4    349.971                                      "
      ]
     },
     "execution_count": 7,
     "metadata": {},
     "output_type": "execute_result"
    }
   ],
   "source": [
    "initial_stock_df.head()\n"
   ]
  },
  {
   "cell_type": "markdown",
   "metadata": {},
   "source": [
    "## Group by product categories and sum by totals"
   ]
  },
  {
   "cell_type": "code",
   "execution_count": 20,
   "metadata": {},
   "outputs": [],
   "source": [
    "total_values_df = initial_stock_df[['ProductGroupName', 'TotalCost']].groupby('ProductGroupName').sum()\n",
    "initial_total_values_df = initial_stock_df[['ProductGroupName', 'TotalCost']].groupby('ProductGroupName').sum()\n",
    "in_val = total_values_df.TotalCost.sum()"
   ]
  },
  {
   "cell_type": "code",
   "execution_count": 9,
   "metadata": {},
   "outputs": [
    {
     "data": {
      "image/png": "[encoded data removed]",
      "text/plain": [
       "<Figure size 432x288 with 1 Axes>"
      ]
     },
     "metadata": {
      "needs_background": "light"
     },
     "output_type": "display_data"
    }
   ],
   "source": [
    "fig, ax = plt.subplots()\n",
    "\n",
    "pgs = total_values_df.index\n",
    "y_pos = np.arange(len(pgs))\n",
    "totals = total_values_df.TotalCost.values\n",
    "\n",
    "ax.barh(y_pos, totals, align='center')\n",
    "ax.set_yticks(y_pos)\n",
    "ax.set_yticklabels(pgs)\n",
    "ax.invert_yaxis()\n",
    "ax.set_xlabel('USD$')\n",
    "ax.set_title('Value of Product Groups ($) on 1/1/19: '+str(in_val))\n",
    "\n",
    "plt.show()"
   ]
  },
  {
   "cell_type": "code",
   "execution_count": 10,
   "metadata": {},
   "outputs": [],
   "source": [
    "# current_inventory = get_soh_as_of_date(date_string='2019-04-30')"
   ]
  },
  {
   "cell_type": "code",
   "execution_count": 11,
   "metadata": {},
   "outputs": [],
   "source": [
    "current_inventory_df = pd.read_json('stockOnHand_2019-7-16.json')\n",
    "current_total_values_df = current_inventory_df[['ProductGroupName', 'TotalCost']].groupby('ProductGroupName').sum()\n",
    "in_val = current_total_values_df.TotalCost.sum()"
   ]
  },
  {
   "cell_type": "code",
   "execution_count": 12,
   "metadata": {},
   "outputs": [
    {
     "data": {
      "image/png": "[encoded data removed]",
      "text/plain": [
       "<Figure size 432x288 with 1 Axes>"
      ]
     },
     "metadata": {
      "needs_background": "light"
     },
     "output_type": "display_data"
    }
   ],
   "source": [
    "fig, ax = plt.subplots()\n",
    "\n",
    "pgs_0 = current_total_values_df.index\n",
    "y_pos_0 = np.arange(len(pgs))\n",
    "totals_0 = current_total_values_df.TotalCost.values\n",
    "\n",
    "ax.barh(y_pos_0, totals_0, align='center')\n",
    "ax.set_yticks(y_pos_0)\n",
    "ax.set_yticklabels(pgs_0)\n",
    "ax.invert_yaxis()\n",
    "ax.set_xlabel('USD$')\n",
    "ax.set_title('Value of Product Groups ($) on 1/1/19: '+str(in_val))\n",
    "\n",
    "plt.show()"
   ]
  },
  {
   "cell_type": "code",
   "execution_count": 13,
   "metadata": {},
   "outputs": [
    {
     "data": {
      "image/png": "[encoded data removed]",
      "text/plain": [
       "<Figure size 720x1440 with 2 Axes>"
      ]
     },
     "metadata": {
      "needs_background": "light"
     },
     "output_type": "display_data"
    }
   ],
   "source": [
    "fig, ax = plt.subplots(nrows=2,ncols=1, figsize=(10,20))\n",
    "\n",
    "in_val_0 = total_values_df.TotalCost.sum()\n",
    "pgs_0 = total_values_df.index\n",
    "y_pos_0 = np.arange(len(pgs))\n",
    "totals_0 = total_values_df.TotalCost.values\n",
    "\n",
    "ax[0].barh(y_pos_0, totals_0, align='center')\n",
    "ax[0].set_yticks(y_pos_0)\n",
    "ax[0].set_yticklabels(pgs_0)\n",
    "ax[0].invert_yaxis()\n",
    "ax[0].set_xlabel('USD$')\n",
    "ax[0].set_title('Value of Product Groups ($) on 1/1/19: '+str(in_val_0))\n",
    "\n",
    "in_val = current_total_values_df.TotalCost.sum()\n",
    "pgs = current_total_values_df.index\n",
    "y_pos = np.arange(len(pgs))\n",
    "totals = current_total_values_df.TotalCost.values\n",
    "\n",
    "ax[1].barh(y_pos, totals, align='center')\n",
    "ax[1].set_yticks(y_pos)\n",
    "ax[1].set_yticklabels(pgs)\n",
    "ax[1].invert_yaxis()\n",
    "ax[1].set_xlabel('USD$')\n",
    "ax[1].set_title('Value of Product Groups ($) on 8/3/19: '+str(in_val))\n",
    "\n",
    "\n",
    "\n",
    "\n",
    "\n",
    "plt.show()"
   ]
  },
  {
   "cell_type": "code",
   "execution_count": 14,
   "metadata": {},
   "outputs": [],
   "source": [
    "import seaborn as sns"
   ]
  },
  {
   "cell_type": "code",
   "execution_count": 15,
   "metadata": {},
   "outputs": [],
   "source": [
    "change_df = pd.concat([total_values_df,current_total_values_df], axis=1)\n",
    "change_df.columns = ['Initial', 'Final']"
   ]
  },
  {
   "cell_type": "code",
   "execution_count": 16,
   "metadata": {},
   "outputs": [
    {
     "data": {
      "text/html": [
       "<div>\n",
       "<style scoped>\n",
       "    .dataframe tbody tr th:only-of-type {\n",
       "        vertical-align: middle;\n",
       "    }\n",
       "\n",
       "    .dataframe tbody tr th {\n",
       "        vertical-align: top;\n",
       "    }\n",
       "\n",
       "    .dataframe thead th {\n",
       "        text-align: right;\n",
       "    }\n",
       "</style>\n",
       "<table border=\"1\" class=\"dataframe\">\n",
       "  <thead>\n",
       "    <tr style=\"text-align: right;\">\n",
       "      <th></th>\n",
       "      <th>Initial</th>\n",
       "      <th>Final</th>\n",
       "    </tr>\n",
       "    <tr>\n",
       "      <th>ProductGroupName</th>\n",
       "      <th></th>\n",
       "      <th></th>\n",
       "    </tr>\n",
       "  </thead>\n",
       "  <tbody>\n",
       "    <tr>\n",
       "      <th></th>\n",
       "      <td>8595.823</td>\n",
       "      <td>9526.143</td>\n",
       "    </tr>\n",
       "    <tr>\n",
       "      <th>Adhesives</th>\n",
       "      <td>2601.734</td>\n",
       "      <td>5883.535</td>\n",
       "    </tr>\n",
       "    <tr>\n",
       "      <th>Applicators</th>\n",
       "      <td>4673.072</td>\n",
       "      <td>3276.515</td>\n",
       "    </tr>\n",
       "    <tr>\n",
       "      <th>Fasteners</th>\n",
       "      <td>14225.160</td>\n",
       "      <td>14483.907</td>\n",
       "    </tr>\n",
       "    <tr>\n",
       "      <th>Filler</th>\n",
       "      <td>4839.136</td>\n",
       "      <td>4168.975</td>\n",
       "    </tr>\n",
       "  </tbody>\n",
       "</table>\n",
       "</div>"
      ],
      "text/plain": [
       "                    Initial      Final\n",
       "ProductGroupName                      \n",
       "                   8595.823   9526.143\n",
       "Adhesives          2601.734   5883.535\n",
       "Applicators        4673.072   3276.515\n",
       "Fasteners         14225.160  14483.907\n",
       "Filler             4839.136   4168.975"
      ]
     },
     "execution_count": 16,
     "metadata": {},
     "output_type": "execute_result"
    }
   ],
   "source": [
    "change_df.head()"
   ]
  },
  {
   "cell_type": "code",
   "execution_count": 17,
   "metadata": {},
   "outputs": [
    {
     "data": {
      "image/png": "[encoded data removed]",
      "text/plain": [
       "<Figure size 1440x1080 with 1 Axes>"
      ]
     },
     "metadata": {
      "needs_background": "light"
     },
     "output_type": "display_data"
    }
   ],
   "source": [
    "labels = change_df.index\n",
    "initial_values = change_df.Initial\n",
    "final_values= change_df.Final\n",
    "\n",
    "x = np.arange(len(labels))  # the label locations\n",
    "width = 0.45  # the width of the bars\n",
    "\n",
    "fig, ax = plt.subplots(figsize=(20,15))\n",
    "rects1 = ax.barh(x - width/2, initial_values, width, label='Initial Values')\n",
    "rects2 = ax.barh(x + width/2, final_values, width, label='Final Values')\n",
    "\n",
    "pgs = current_total_values_df.index\n",
    "y_pos = np.arange(len(pgs))\n",
    "\n",
    "# Add some text for labels, title and custom x-axis tick labels, etc.\n",
    "ax.set_ylabel('Product Groups')\n",
    "ax.set_title('Value ($USD)')\n",
    "ax.set_yticks(y_pos)\n",
    "ax.set_yticklabels(pgs)\n",
    "ax.invert_yaxis()\n",
    "ax.set_xlabel('USD$')\n",
    "ax.legend()\n",
    "\n",
    "plt.show()\n",
    "\n",
    "# in_val = current_total_values_df.TotalCost.sum()\n",
    "# pgs = current_total_values_df.index\n",
    "# y_pos = np.arange(len(pgs))\n",
    "# totals = current_total_values_df.TotalCost.values\n",
    "\n",
    "# ax[1].barh(y_pos, totals, align='center')\n",
    "# ax[1].set_yticks(y_pos)\n",
    "# ax[1].set_yticklabels(pgs)\n",
    "# ax[1].invert_yaxis()\n",
    "# ax[1].set_xlabel('USD$')\n",
    "# ax[1].set_title('Value of Product Groups ($) on 8/3/19: '+str(in_val))"
   ]
  },
  {
   "cell_type": "code",
   "execution_count": 21,
   "metadata": {},
   "outputs": [],
   "source": [
    "diff_df = pd.DataFrame()\n",
    "initial_total_values_df.rename(columns={'TotalCost':'InitialTotalCost'}, inplace=True)\n",
    "current_total_values_df.rename(columns={'TotalCost':'CurrentTotalCost'}, inplace=True)\n",
    "diff_df = pd.concat([diff_df,initial_total_values_df,current_total_values_df], axis=1)"
   ]
  },
  {
   "cell_type": "code",
   "execution_count": 22,
   "metadata": {},
   "outputs": [],
   "source": [
    "diff_df['Difference'] = diff_df.InitialTotalCost - diff_df.CurrentTotalCost"
   ]
  },
  {
   "cell_type": "code",
   "execution_count": 23,
   "metadata": {},
   "outputs": [
    {
     "data": {
      "text/plain": [
       "InitialTotalCost    927225.117\n",
       "CurrentTotalCost    825671.027\n",
       "Difference          101554.090\n",
       "dtype: float64"
      ]
     },
     "execution_count": 23,
     "metadata": {},
     "output_type": "execute_result"
    }
   ],
   "source": [
    "diff_df.sum()"
   ]
  },
  {
   "cell_type": "code",
   "execution_count": 24,
   "metadata": {},
   "outputs": [
    {
     "data": {
      "text/html": [
       "<div>\n",
       "<style scoped>\n",
       "    .dataframe tbody tr th:only-of-type {\n",
       "        vertical-align: middle;\n",
       "    }\n",
       "\n",
       "    .dataframe tbody tr th {\n",
       "        vertical-align: top;\n",
       "    }\n",
       "\n",
       "    .dataframe thead th {\n",
       "        text-align: right;\n",
       "    }\n",
       "</style>\n",
       "<table border=\"1\" class=\"dataframe\">\n",
       "  <thead>\n",
       "    <tr style=\"text-align: right;\">\n",
       "      <th></th>\n",
       "      <th>InitialTotalCost</th>\n",
       "      <th>CurrentTotalCost</th>\n",
       "      <th>Difference</th>\n",
       "    </tr>\n",
       "    <tr>\n",
       "      <th>ProductGroupName</th>\n",
       "      <th></th>\n",
       "      <th></th>\n",
       "      <th></th>\n",
       "    </tr>\n",
       "  </thead>\n",
       "  <tbody>\n",
       "    <tr>\n",
       "      <th></th>\n",
       "      <td>8595.823</td>\n",
       "      <td>9526.143</td>\n",
       "      <td>-930.320</td>\n",
       "    </tr>\n",
       "    <tr>\n",
       "      <th>Adhesives</th>\n",
       "      <td>2601.734</td>\n",
       "      <td>5883.535</td>\n",
       "      <td>-3281.801</td>\n",
       "    </tr>\n",
       "    <tr>\n",
       "      <th>Applicators</th>\n",
       "      <td>4673.072</td>\n",
       "      <td>3276.515</td>\n",
       "      <td>1396.557</td>\n",
       "    </tr>\n",
       "    <tr>\n",
       "      <th>Fasteners</th>\n",
       "      <td>14225.160</td>\n",
       "      <td>14483.907</td>\n",
       "      <td>-258.747</td>\n",
       "    </tr>\n",
       "    <tr>\n",
       "      <th>Filler</th>\n",
       "      <td>4839.136</td>\n",
       "      <td>4168.975</td>\n",
       "      <td>670.161</td>\n",
       "    </tr>\n",
       "    <tr>\n",
       "      <th>Finish</th>\n",
       "      <td>133837.440</td>\n",
       "      <td>105601.948</td>\n",
       "      <td>28235.492</td>\n",
       "    </tr>\n",
       "    <tr>\n",
       "      <th>Grills</th>\n",
       "      <td>9517.916</td>\n",
       "      <td>11491.769</td>\n",
       "      <td>-1973.853</td>\n",
       "    </tr>\n",
       "    <tr>\n",
       "      <th>Lagler Parts</th>\n",
       "      <td>1837.710</td>\n",
       "      <td>2123.059</td>\n",
       "      <td>-285.349</td>\n",
       "    </tr>\n",
       "    <tr>\n",
       "      <th>Norton Misc.</th>\n",
       "      <td>384.603</td>\n",
       "      <td>515.799</td>\n",
       "      <td>-131.196</td>\n",
       "    </tr>\n",
       "    <tr>\n",
       "      <th>Numbers</th>\n",
       "      <td>26554.000</td>\n",
       "      <td>22985.867</td>\n",
       "      <td>3568.133</td>\n",
       "    </tr>\n",
       "    <tr>\n",
       "      <th>Parts</th>\n",
       "      <td>4915.190</td>\n",
       "      <td>4941.844</td>\n",
       "      <td>-26.654</td>\n",
       "    </tr>\n",
       "    <tr>\n",
       "      <th>Prefinished Flooring</th>\n",
       "      <td>394317.377</td>\n",
       "      <td>357231.567</td>\n",
       "      <td>37085.810</td>\n",
       "    </tr>\n",
       "    <tr>\n",
       "      <th>Prefinished Trim</th>\n",
       "      <td>9359.976</td>\n",
       "      <td>10475.947</td>\n",
       "      <td>-1115.971</td>\n",
       "    </tr>\n",
       "    <tr>\n",
       "      <th>Sandpaper</th>\n",
       "      <td>8770.004</td>\n",
       "      <td>8511.969</td>\n",
       "      <td>258.035</td>\n",
       "    </tr>\n",
       "    <tr>\n",
       "      <th>Sandpaper-Belts</th>\n",
       "      <td>11025.466</td>\n",
       "      <td>9988.057</td>\n",
       "      <td>1037.409</td>\n",
       "    </tr>\n",
       "    <tr>\n",
       "      <th>Sandpaper-Buffer</th>\n",
       "      <td>5488.730</td>\n",
       "      <td>3598.088</td>\n",
       "      <td>1890.642</td>\n",
       "    </tr>\n",
       "    <tr>\n",
       "      <th>Sandpaper-Edger</th>\n",
       "      <td>19403.398</td>\n",
       "      <td>12838.393</td>\n",
       "      <td>6565.005</td>\n",
       "    </tr>\n",
       "    <tr>\n",
       "      <th>Sandpaper-Rolls</th>\n",
       "      <td>2485.635</td>\n",
       "      <td>3157.536</td>\n",
       "      <td>-671.901</td>\n",
       "    </tr>\n",
       "    <tr>\n",
       "      <th>Sandpaper-Screens</th>\n",
       "      <td>10540.347</td>\n",
       "      <td>9001.749</td>\n",
       "      <td>1538.598</td>\n",
       "    </tr>\n",
       "    <tr>\n",
       "      <th>Stair Treads</th>\n",
       "      <td>3207.308</td>\n",
       "      <td>5775.553</td>\n",
       "      <td>-2568.245</td>\n",
       "    </tr>\n",
       "    <tr>\n",
       "      <th>Tools</th>\n",
       "      <td>6475.477</td>\n",
       "      <td>5744.507</td>\n",
       "      <td>730.970</td>\n",
       "    </tr>\n",
       "    <tr>\n",
       "      <th>Underlayment</th>\n",
       "      <td>12806.415</td>\n",
       "      <td>11954.691</td>\n",
       "      <td>851.724</td>\n",
       "    </tr>\n",
       "    <tr>\n",
       "      <th>Unfinished Flooring</th>\n",
       "      <td>169541.577</td>\n",
       "      <td>147305.842</td>\n",
       "      <td>22235.735</td>\n",
       "    </tr>\n",
       "    <tr>\n",
       "      <th>Unfinished Trim</th>\n",
       "      <td>22293.900</td>\n",
       "      <td>22932.049</td>\n",
       "      <td>-638.149</td>\n",
       "    </tr>\n",
       "    <tr>\n",
       "      <th>WPC</th>\n",
       "      <td>35282.688</td>\n",
       "      <td>28364.021</td>\n",
       "      <td>6918.667</td>\n",
       "    </tr>\n",
       "    <tr>\n",
       "      <th>Wickham Miscellaneous</th>\n",
       "      <td>4245.035</td>\n",
       "      <td>3791.697</td>\n",
       "      <td>453.338</td>\n",
       "    </tr>\n",
       "  </tbody>\n",
       "</table>\n",
       "</div>"
      ],
      "text/plain": [
       "                       InitialTotalCost  CurrentTotalCost  Difference\n",
       "ProductGroupName                                                     \n",
       "                               8595.823          9526.143    -930.320\n",
       "Adhesives                      2601.734          5883.535   -3281.801\n",
       "Applicators                    4673.072          3276.515    1396.557\n",
       "Fasteners                     14225.160         14483.907    -258.747\n",
       "Filler                         4839.136          4168.975     670.161\n",
       "Finish                       133837.440        105601.948   28235.492\n",
       "Grills                         9517.916         11491.769   -1973.853\n",
       "Lagler Parts                   1837.710          2123.059    -285.349\n",
       "Norton Misc.                    384.603           515.799    -131.196\n",
       "Numbers                       26554.000         22985.867    3568.133\n",
       "Parts                          4915.190          4941.844     -26.654\n",
       "Prefinished Flooring         394317.377        357231.567   37085.810\n",
       "Prefinished Trim               9359.976         10475.947   -1115.971\n",
       "Sandpaper                      8770.004          8511.969     258.035\n",
       "Sandpaper-Belts               11025.466          9988.057    1037.409\n",
       "Sandpaper-Buffer               5488.730          3598.088    1890.642\n",
       "Sandpaper-Edger               19403.398         12838.393    6565.005\n",
       "Sandpaper-Rolls                2485.635          3157.536    -671.901\n",
       "Sandpaper-Screens             10540.347          9001.749    1538.598\n",
       "Stair Treads                   3207.308          5775.553   -2568.245\n",
       "Tools                          6475.477          5744.507     730.970\n",
       "Underlayment                  12806.415         11954.691     851.724\n",
       "Unfinished Flooring          169541.577        147305.842   22235.735\n",
       "Unfinished Trim               22293.900         22932.049    -638.149\n",
       "WPC                           35282.688         28364.021    6918.667\n",
       "Wickham Miscellaneous          4245.035          3791.697     453.338"
      ]
     },
     "execution_count": 24,
     "metadata": {},
     "output_type": "execute_result"
    }
   ],
   "source": [
    "diff_df\n"
   ]
  },
  {
   "cell_type": "code",
   "execution_count": 25,
   "metadata": {},
   "outputs": [
    {
     "ename": "KeyboardInterrupt",
     "evalue": "",
     "output_type": "error",
     "traceback": [
      "\u001b[0;31m---------------------------------------------------------------------------\u001b[0m",
      "\u001b[0;31mTypeError\u001b[0m                                 Traceback (most recent call last)",
      "\u001b[0;32m~/anaconda3/lib/python3.7/site-packages/urllib3/connectionpool.py\u001b[0m in \u001b[0;36m_make_request\u001b[0;34m(self, conn, method, url, timeout, chunked, **httplib_request_kw)\u001b[0m\n\u001b[1;32m    376\u001b[0m             \u001b[0;32mtry\u001b[0m\u001b[0;34m:\u001b[0m  \u001b[0;31m# Python 2.7, use buffering of HTTP responses\u001b[0m\u001b[0;34m\u001b[0m\u001b[0;34m\u001b[0m\u001b[0m\n\u001b[0;32m--> 377\u001b[0;31m                 \u001b[0mhttplib_response\u001b[0m \u001b[0;34m=\u001b[0m \u001b[0mconn\u001b[0m\u001b[0;34m.\u001b[0m\u001b[0mgetresponse\u001b[0m\u001b[0;34m(\u001b[0m\u001b[0mbuffering\u001b[0m\u001b[0;34m=\u001b[0m\u001b[0;32mTrue\u001b[0m\u001b[0;34m)\u001b[0m\u001b[0;34m\u001b[0m\u001b[0;34m\u001b[0m\u001b[0m\n\u001b[0m\u001b[1;32m    378\u001b[0m             \u001b[0;32mexcept\u001b[0m \u001b[0mTypeError\u001b[0m\u001b[0;34m:\u001b[0m  \u001b[0;31m# Python 3\u001b[0m\u001b[0;34m\u001b[0m\u001b[0;34m\u001b[0m\u001b[0m\n",
      "\u001b[0;31mTypeError\u001b[0m: getresponse() got an unexpected keyword argument 'buffering'",
      "\nDuring handling of the above exception, another exception occurred:\n",
      "\u001b[0;31mKeyboardInterrupt\u001b[0m                         Traceback (most recent call last)",
      "\u001b[0;32m<ipython-input-25-ce47e4f74276>\u001b[0m in \u001b[0;36m<module>\u001b[0;34m()\u001b[0m\n\u001b[0;32m----> 1\u001b[0;31m \u001b[0mproducts\u001b[0m \u001b[0;34m=\u001b[0m \u001b[0mget_all_products\u001b[0m\u001b[0;34m(\u001b[0m\u001b[0;34m)\u001b[0m\u001b[0;34m\u001b[0m\u001b[0;34m\u001b[0m\u001b[0m\n\u001b[0m",
      "\u001b[0;32m<ipython-input-3-d5cda3288244>\u001b[0m in \u001b[0;36mget_all_products\u001b[0;34m()\u001b[0m\n\u001b[1;32m      1\u001b[0m \u001b[0;32mdef\u001b[0m \u001b[0mget_all_products\u001b[0m\u001b[0;34m(\u001b[0m\u001b[0;34m)\u001b[0m\u001b[0;34m:\u001b[0m\u001b[0;34m\u001b[0m\u001b[0;34m\u001b[0m\u001b[0m\n\u001b[0;32m----> 2\u001b[0;31m     \u001b[0mr\u001b[0m \u001b[0;34m=\u001b[0m \u001b[0mgetULData\u001b[0m\u001b[0;34m(\u001b[0m\u001b[0;34m'Products/'\u001b[0m\u001b[0;34m,\u001b[0m\u001b[0;34m'pageSize=1000'\u001b[0m\u001b[0;34m)\u001b[0m\u001b[0;34m\u001b[0m\u001b[0;34m\u001b[0m\u001b[0m\n\u001b[0m\u001b[1;32m      3\u001b[0m     \u001b[0mpages\u001b[0m \u001b[0;34m=\u001b[0m \u001b[0mr\u001b[0m\u001b[0;34m.\u001b[0m\u001b[0mjson\u001b[0m\u001b[0;34m(\u001b[0m\u001b[0;34m)\u001b[0m\u001b[0;34m[\u001b[0m\u001b[0;34m'Pagination'\u001b[0m\u001b[0;34m]\u001b[0m\u001b[0;34m[\u001b[0m\u001b[0;34m'NumberOfPages'\u001b[0m\u001b[0;34m]\u001b[0m\u001b[0;34m\u001b[0m\u001b[0;34m\u001b[0m\u001b[0m\n\u001b[1;32m      4\u001b[0m     \u001b[0;31m# Get a request list of products by\u001b[0m\u001b[0;34m\u001b[0m\u001b[0;34m\u001b[0m\u001b[0;34m\u001b[0m\u001b[0m\n\u001b[1;32m      5\u001b[0m     \u001b[0;31m# looping through pages and get all listed products\u001b[0m\u001b[0;34m\u001b[0m\u001b[0;34m\u001b[0m\u001b[0;34m\u001b[0m\u001b[0m\n",
      "\u001b[0;32m~/Documents/Projects/SDS Talks/Inventory Cost Control And Automation/ulConnect.py\u001b[0m in \u001b[0;36mgetULData\u001b[0;34m(queryOn, filters)\u001b[0m\n\u001b[1;32m     37\u001b[0m                 \u001b[0maddress\u001b[0m \u001b[0;34m=\u001b[0m \u001b[0mkAPIAddress\u001b[0m\u001b[0;34m+\u001b[0m\u001b[0;34m'/'\u001b[0m\u001b[0;34m+\u001b[0m\u001b[0mqueryOn\u001b[0m\u001b[0;34m\u001b[0m\u001b[0;34m\u001b[0m\u001b[0m\n\u001b[1;32m     38\u001b[0m \u001b[0;34m\u001b[0m\u001b[0m\n\u001b[0;32m---> 39\u001b[0;31m         \u001b[0;32mreturn\u001b[0m\u001b[0;34m(\u001b[0m\u001b[0mrequests\u001b[0m\u001b[0;34m.\u001b[0m\u001b[0mget\u001b[0m\u001b[0;34m(\u001b[0m\u001b[0maddress\u001b[0m\u001b[0;34m,\u001b[0m \u001b[0mheaders\u001b[0m \u001b[0;34m=\u001b[0m \u001b[0mheader\u001b[0m\u001b[0;34m)\u001b[0m\u001b[0;34m)\u001b[0m\u001b[0;34m\u001b[0m\u001b[0;34m\u001b[0m\u001b[0m\n\u001b[0m\u001b[1;32m     40\u001b[0m \u001b[0;34m\u001b[0m\u001b[0m\n\u001b[1;32m     41\u001b[0m \u001b[0;32mdef\u001b[0m \u001b[0mpostProductData\u001b[0m\u001b[0;34m(\u001b[0m\u001b[0mqueryOn\u001b[0m\u001b[0;34m,\u001b[0m \u001b[0mdata\u001b[0m\u001b[0;34m,\u001b[0m \u001b[0mguid\u001b[0m\u001b[0;34m)\u001b[0m\u001b[0;34m:\u001b[0m\u001b[0;34m\u001b[0m\u001b[0;34m\u001b[0m\u001b[0m\n",
      "\u001b[0;32m~/anaconda3/lib/python3.7/site-packages/requests/api.py\u001b[0m in \u001b[0;36mget\u001b[0;34m(url, params, **kwargs)\u001b[0m\n\u001b[1;32m     73\u001b[0m \u001b[0;34m\u001b[0m\u001b[0m\n\u001b[1;32m     74\u001b[0m     \u001b[0mkwargs\u001b[0m\u001b[0;34m.\u001b[0m\u001b[0msetdefault\u001b[0m\u001b[0;34m(\u001b[0m\u001b[0;34m'allow_redirects'\u001b[0m\u001b[0;34m,\u001b[0m \u001b[0;32mTrue\u001b[0m\u001b[0;34m)\u001b[0m\u001b[0;34m\u001b[0m\u001b[0;34m\u001b[0m\u001b[0m\n\u001b[0;32m---> 75\u001b[0;31m     \u001b[0;32mreturn\u001b[0m \u001b[0mrequest\u001b[0m\u001b[0;34m(\u001b[0m\u001b[0;34m'get'\u001b[0m\u001b[0;34m,\u001b[0m \u001b[0murl\u001b[0m\u001b[0;34m,\u001b[0m \u001b[0mparams\u001b[0m\u001b[0;34m=\u001b[0m\u001b[0mparams\u001b[0m\u001b[0;34m,\u001b[0m \u001b[0;34m**\u001b[0m\u001b[0mkwargs\u001b[0m\u001b[0;34m)\u001b[0m\u001b[0;34m\u001b[0m\u001b[0;34m\u001b[0m\u001b[0m\n\u001b[0m\u001b[1;32m     76\u001b[0m \u001b[0;34m\u001b[0m\u001b[0m\n\u001b[1;32m     77\u001b[0m \u001b[0;34m\u001b[0m\u001b[0m\n",
      "\u001b[0;32m~/anaconda3/lib/python3.7/site-packages/requests/api.py\u001b[0m in \u001b[0;36mrequest\u001b[0;34m(method, url, **kwargs)\u001b[0m\n\u001b[1;32m     58\u001b[0m     \u001b[0;31m# cases, and look like a memory leak in others.\u001b[0m\u001b[0;34m\u001b[0m\u001b[0;34m\u001b[0m\u001b[0;34m\u001b[0m\u001b[0m\n\u001b[1;32m     59\u001b[0m     \u001b[0;32mwith\u001b[0m \u001b[0msessions\u001b[0m\u001b[0;34m.\u001b[0m\u001b[0mSession\u001b[0m\u001b[0;34m(\u001b[0m\u001b[0;34m)\u001b[0m \u001b[0;32mas\u001b[0m \u001b[0msession\u001b[0m\u001b[0;34m:\u001b[0m\u001b[0;34m\u001b[0m\u001b[0;34m\u001b[0m\u001b[0m\n\u001b[0;32m---> 60\u001b[0;31m         \u001b[0;32mreturn\u001b[0m \u001b[0msession\u001b[0m\u001b[0;34m.\u001b[0m\u001b[0mrequest\u001b[0m\u001b[0;34m(\u001b[0m\u001b[0mmethod\u001b[0m\u001b[0;34m=\u001b[0m\u001b[0mmethod\u001b[0m\u001b[0;34m,\u001b[0m \u001b[0murl\u001b[0m\u001b[0;34m=\u001b[0m\u001b[0murl\u001b[0m\u001b[0;34m,\u001b[0m \u001b[0;34m**\u001b[0m\u001b[0mkwargs\u001b[0m\u001b[0;34m)\u001b[0m\u001b[0;34m\u001b[0m\u001b[0;34m\u001b[0m\u001b[0m\n\u001b[0m\u001b[1;32m     61\u001b[0m \u001b[0;34m\u001b[0m\u001b[0m\n\u001b[1;32m     62\u001b[0m \u001b[0;34m\u001b[0m\u001b[0m\n",
      "\u001b[0;32m~/anaconda3/lib/python3.7/site-packages/requests/sessions.py\u001b[0m in \u001b[0;36mrequest\u001b[0;34m(self, method, url, params, data, headers, cookies, files, auth, timeout, allow_redirects, proxies, hooks, stream, verify, cert, json)\u001b[0m\n\u001b[1;32m    531\u001b[0m         }\n\u001b[1;32m    532\u001b[0m         \u001b[0msend_kwargs\u001b[0m\u001b[0;34m.\u001b[0m\u001b[0mupdate\u001b[0m\u001b[0;34m(\u001b[0m\u001b[0msettings\u001b[0m\u001b[0;34m)\u001b[0m\u001b[0;34m\u001b[0m\u001b[0;34m\u001b[0m\u001b[0m\n\u001b[0;32m--> 533\u001b[0;31m         \u001b[0mresp\u001b[0m \u001b[0;34m=\u001b[0m \u001b[0mself\u001b[0m\u001b[0;34m.\u001b[0m\u001b[0msend\u001b[0m\u001b[0;34m(\u001b[0m\u001b[0mprep\u001b[0m\u001b[0;34m,\u001b[0m \u001b[0;34m**\u001b[0m\u001b[0msend_kwargs\u001b[0m\u001b[0;34m)\u001b[0m\u001b[0;34m\u001b[0m\u001b[0;34m\u001b[0m\u001b[0m\n\u001b[0m\u001b[1;32m    534\u001b[0m \u001b[0;34m\u001b[0m\u001b[0m\n\u001b[1;32m    535\u001b[0m         \u001b[0;32mreturn\u001b[0m \u001b[0mresp\u001b[0m\u001b[0;34m\u001b[0m\u001b[0;34m\u001b[0m\u001b[0m\n",
      "\u001b[0;32m~/anaconda3/lib/python3.7/site-packages/requests/sessions.py\u001b[0m in \u001b[0;36msend\u001b[0;34m(self, request, **kwargs)\u001b[0m\n\u001b[1;32m    644\u001b[0m \u001b[0;34m\u001b[0m\u001b[0m\n\u001b[1;32m    645\u001b[0m         \u001b[0;31m# Send the request\u001b[0m\u001b[0;34m\u001b[0m\u001b[0;34m\u001b[0m\u001b[0;34m\u001b[0m\u001b[0m\n\u001b[0;32m--> 646\u001b[0;31m         \u001b[0mr\u001b[0m \u001b[0;34m=\u001b[0m \u001b[0madapter\u001b[0m\u001b[0;34m.\u001b[0m\u001b[0msend\u001b[0m\u001b[0;34m(\u001b[0m\u001b[0mrequest\u001b[0m\u001b[0;34m,\u001b[0m \u001b[0;34m**\u001b[0m\u001b[0mkwargs\u001b[0m\u001b[0;34m)\u001b[0m\u001b[0;34m\u001b[0m\u001b[0;34m\u001b[0m\u001b[0m\n\u001b[0m\u001b[1;32m    647\u001b[0m \u001b[0;34m\u001b[0m\u001b[0m\n\u001b[1;32m    648\u001b[0m         \u001b[0;31m# Total elapsed time of the request (approximately)\u001b[0m\u001b[0;34m\u001b[0m\u001b[0;34m\u001b[0m\u001b[0;34m\u001b[0m\u001b[0m\n",
      "\u001b[0;32m~/anaconda3/lib/python3.7/site-packages/requests/adapters.py\u001b[0m in \u001b[0;36msend\u001b[0;34m(self, request, stream, timeout, verify, cert, proxies)\u001b[0m\n\u001b[1;32m    447\u001b[0m                     \u001b[0mdecode_content\u001b[0m\u001b[0;34m=\u001b[0m\u001b[0;32mFalse\u001b[0m\u001b[0;34m,\u001b[0m\u001b[0;34m\u001b[0m\u001b[0;34m\u001b[0m\u001b[0m\n\u001b[1;32m    448\u001b[0m                     \u001b[0mretries\u001b[0m\u001b[0;34m=\u001b[0m\u001b[0mself\u001b[0m\u001b[0;34m.\u001b[0m\u001b[0mmax_retries\u001b[0m\u001b[0;34m,\u001b[0m\u001b[0;34m\u001b[0m\u001b[0;34m\u001b[0m\u001b[0m\n\u001b[0;32m--> 449\u001b[0;31m                     \u001b[0mtimeout\u001b[0m\u001b[0;34m=\u001b[0m\u001b[0mtimeout\u001b[0m\u001b[0;34m\u001b[0m\u001b[0;34m\u001b[0m\u001b[0m\n\u001b[0m\u001b[1;32m    450\u001b[0m                 )\n\u001b[1;32m    451\u001b[0m \u001b[0;34m\u001b[0m\u001b[0m\n",
      "\u001b[0;32m~/anaconda3/lib/python3.7/site-packages/urllib3/connectionpool.py\u001b[0m in \u001b[0;36murlopen\u001b[0;34m(self, method, url, body, headers, retries, redirect, assert_same_host, timeout, pool_timeout, release_conn, chunked, body_pos, **response_kw)\u001b[0m\n\u001b[1;32m    598\u001b[0m                                                   \u001b[0mtimeout\u001b[0m\u001b[0;34m=\u001b[0m\u001b[0mtimeout_obj\u001b[0m\u001b[0;34m,\u001b[0m\u001b[0;34m\u001b[0m\u001b[0;34m\u001b[0m\u001b[0m\n\u001b[1;32m    599\u001b[0m                                                   \u001b[0mbody\u001b[0m\u001b[0;34m=\u001b[0m\u001b[0mbody\u001b[0m\u001b[0;34m,\u001b[0m \u001b[0mheaders\u001b[0m\u001b[0;34m=\u001b[0m\u001b[0mheaders\u001b[0m\u001b[0;34m,\u001b[0m\u001b[0;34m\u001b[0m\u001b[0;34m\u001b[0m\u001b[0m\n\u001b[0;32m--> 600\u001b[0;31m                                                   chunked=chunked)\n\u001b[0m\u001b[1;32m    601\u001b[0m \u001b[0;34m\u001b[0m\u001b[0m\n\u001b[1;32m    602\u001b[0m             \u001b[0;31m# If we're going to release the connection in ``finally:``, then\u001b[0m\u001b[0;34m\u001b[0m\u001b[0;34m\u001b[0m\u001b[0;34m\u001b[0m\u001b[0m\n",
      "\u001b[0;32m~/anaconda3/lib/python3.7/site-packages/urllib3/connectionpool.py\u001b[0m in \u001b[0;36m_make_request\u001b[0;34m(self, conn, method, url, timeout, chunked, **httplib_request_kw)\u001b[0m\n\u001b[1;32m    378\u001b[0m             \u001b[0;32mexcept\u001b[0m \u001b[0mTypeError\u001b[0m\u001b[0;34m:\u001b[0m  \u001b[0;31m# Python 3\u001b[0m\u001b[0;34m\u001b[0m\u001b[0;34m\u001b[0m\u001b[0m\n\u001b[1;32m    379\u001b[0m                 \u001b[0;32mtry\u001b[0m\u001b[0;34m:\u001b[0m\u001b[0;34m\u001b[0m\u001b[0;34m\u001b[0m\u001b[0m\n\u001b[0;32m--> 380\u001b[0;31m                     \u001b[0mhttplib_response\u001b[0m \u001b[0;34m=\u001b[0m \u001b[0mconn\u001b[0m\u001b[0;34m.\u001b[0m\u001b[0mgetresponse\u001b[0m\u001b[0;34m(\u001b[0m\u001b[0;34m)\u001b[0m\u001b[0;34m\u001b[0m\u001b[0;34m\u001b[0m\u001b[0m\n\u001b[0m\u001b[1;32m    381\u001b[0m                 \u001b[0;32mexcept\u001b[0m \u001b[0mException\u001b[0m \u001b[0;32mas\u001b[0m \u001b[0me\u001b[0m\u001b[0;34m:\u001b[0m\u001b[0;34m\u001b[0m\u001b[0;34m\u001b[0m\u001b[0m\n\u001b[1;32m    382\u001b[0m                     \u001b[0;31m# Remove the TypeError from the exception chain in Python 3;\u001b[0m\u001b[0;34m\u001b[0m\u001b[0;34m\u001b[0m\u001b[0;34m\u001b[0m\u001b[0m\n",
      "\u001b[0;32m~/anaconda3/lib/python3.7/http/client.py\u001b[0m in \u001b[0;36mgetresponse\u001b[0;34m(self)\u001b[0m\n\u001b[1;32m   1319\u001b[0m         \u001b[0;32mtry\u001b[0m\u001b[0;34m:\u001b[0m\u001b[0;34m\u001b[0m\u001b[0;34m\u001b[0m\u001b[0m\n\u001b[1;32m   1320\u001b[0m             \u001b[0;32mtry\u001b[0m\u001b[0;34m:\u001b[0m\u001b[0;34m\u001b[0m\u001b[0;34m\u001b[0m\u001b[0m\n\u001b[0;32m-> 1321\u001b[0;31m                 \u001b[0mresponse\u001b[0m\u001b[0;34m.\u001b[0m\u001b[0mbegin\u001b[0m\u001b[0;34m(\u001b[0m\u001b[0;34m)\u001b[0m\u001b[0;34m\u001b[0m\u001b[0;34m\u001b[0m\u001b[0m\n\u001b[0m\u001b[1;32m   1322\u001b[0m             \u001b[0;32mexcept\u001b[0m \u001b[0mConnectionError\u001b[0m\u001b[0;34m:\u001b[0m\u001b[0;34m\u001b[0m\u001b[0;34m\u001b[0m\u001b[0m\n\u001b[1;32m   1323\u001b[0m                 \u001b[0mself\u001b[0m\u001b[0;34m.\u001b[0m\u001b[0mclose\u001b[0m\u001b[0;34m(\u001b[0m\u001b[0;34m)\u001b[0m\u001b[0;34m\u001b[0m\u001b[0;34m\u001b[0m\u001b[0m\n",
      "\u001b[0;32m~/anaconda3/lib/python3.7/http/client.py\u001b[0m in \u001b[0;36mbegin\u001b[0;34m(self)\u001b[0m\n\u001b[1;32m    294\u001b[0m         \u001b[0;31m# read until we get a non-100 response\u001b[0m\u001b[0;34m\u001b[0m\u001b[0;34m\u001b[0m\u001b[0;34m\u001b[0m\u001b[0m\n\u001b[1;32m    295\u001b[0m         \u001b[0;32mwhile\u001b[0m \u001b[0;32mTrue\u001b[0m\u001b[0;34m:\u001b[0m\u001b[0;34m\u001b[0m\u001b[0;34m\u001b[0m\u001b[0m\n\u001b[0;32m--> 296\u001b[0;31m             \u001b[0mversion\u001b[0m\u001b[0;34m,\u001b[0m \u001b[0mstatus\u001b[0m\u001b[0;34m,\u001b[0m \u001b[0mreason\u001b[0m \u001b[0;34m=\u001b[0m \u001b[0mself\u001b[0m\u001b[0;34m.\u001b[0m\u001b[0m_read_status\u001b[0m\u001b[0;34m(\u001b[0m\u001b[0;34m)\u001b[0m\u001b[0;34m\u001b[0m\u001b[0;34m\u001b[0m\u001b[0m\n\u001b[0m\u001b[1;32m    297\u001b[0m             \u001b[0;32mif\u001b[0m \u001b[0mstatus\u001b[0m \u001b[0;34m!=\u001b[0m \u001b[0mCONTINUE\u001b[0m\u001b[0;34m:\u001b[0m\u001b[0;34m\u001b[0m\u001b[0;34m\u001b[0m\u001b[0m\n\u001b[1;32m    298\u001b[0m                 \u001b[0;32mbreak\u001b[0m\u001b[0;34m\u001b[0m\u001b[0;34m\u001b[0m\u001b[0m\n",
      "\u001b[0;32m~/anaconda3/lib/python3.7/http/client.py\u001b[0m in \u001b[0;36m_read_status\u001b[0;34m(self)\u001b[0m\n\u001b[1;32m    255\u001b[0m \u001b[0;34m\u001b[0m\u001b[0m\n\u001b[1;32m    256\u001b[0m     \u001b[0;32mdef\u001b[0m \u001b[0m_read_status\u001b[0m\u001b[0;34m(\u001b[0m\u001b[0mself\u001b[0m\u001b[0;34m)\u001b[0m\u001b[0;34m:\u001b[0m\u001b[0;34m\u001b[0m\u001b[0;34m\u001b[0m\u001b[0m\n\u001b[0;32m--> 257\u001b[0;31m         \u001b[0mline\u001b[0m \u001b[0;34m=\u001b[0m \u001b[0mstr\u001b[0m\u001b[0;34m(\u001b[0m\u001b[0mself\u001b[0m\u001b[0;34m.\u001b[0m\u001b[0mfp\u001b[0m\u001b[0;34m.\u001b[0m\u001b[0mreadline\u001b[0m\u001b[0;34m(\u001b[0m\u001b[0m_MAXLINE\u001b[0m \u001b[0;34m+\u001b[0m \u001b[0;36m1\u001b[0m\u001b[0;34m)\u001b[0m\u001b[0;34m,\u001b[0m \u001b[0;34m\"iso-8859-1\"\u001b[0m\u001b[0;34m)\u001b[0m\u001b[0;34m\u001b[0m\u001b[0;34m\u001b[0m\u001b[0m\n\u001b[0m\u001b[1;32m    258\u001b[0m         \u001b[0;32mif\u001b[0m \u001b[0mlen\u001b[0m\u001b[0;34m(\u001b[0m\u001b[0mline\u001b[0m\u001b[0;34m)\u001b[0m \u001b[0;34m>\u001b[0m \u001b[0m_MAXLINE\u001b[0m\u001b[0;34m:\u001b[0m\u001b[0;34m\u001b[0m\u001b[0;34m\u001b[0m\u001b[0m\n\u001b[1;32m    259\u001b[0m             \u001b[0;32mraise\u001b[0m \u001b[0mLineTooLong\u001b[0m\u001b[0;34m(\u001b[0m\u001b[0;34m\"status line\"\u001b[0m\u001b[0;34m)\u001b[0m\u001b[0;34m\u001b[0m\u001b[0;34m\u001b[0m\u001b[0m\n",
      "\u001b[0;32m~/anaconda3/lib/python3.7/socket.py\u001b[0m in \u001b[0;36mreadinto\u001b[0;34m(self, b)\u001b[0m\n\u001b[1;32m    587\u001b[0m         \u001b[0;32mwhile\u001b[0m \u001b[0;32mTrue\u001b[0m\u001b[0;34m:\u001b[0m\u001b[0;34m\u001b[0m\u001b[0;34m\u001b[0m\u001b[0m\n\u001b[1;32m    588\u001b[0m             \u001b[0;32mtry\u001b[0m\u001b[0;34m:\u001b[0m\u001b[0;34m\u001b[0m\u001b[0;34m\u001b[0m\u001b[0m\n\u001b[0;32m--> 589\u001b[0;31m                 \u001b[0;32mreturn\u001b[0m \u001b[0mself\u001b[0m\u001b[0;34m.\u001b[0m\u001b[0m_sock\u001b[0m\u001b[0;34m.\u001b[0m\u001b[0mrecv_into\u001b[0m\u001b[0;34m(\u001b[0m\u001b[0mb\u001b[0m\u001b[0;34m)\u001b[0m\u001b[0;34m\u001b[0m\u001b[0;34m\u001b[0m\u001b[0m\n\u001b[0m\u001b[1;32m    590\u001b[0m             \u001b[0;32mexcept\u001b[0m \u001b[0mtimeout\u001b[0m\u001b[0;34m:\u001b[0m\u001b[0;34m\u001b[0m\u001b[0;34m\u001b[0m\u001b[0m\n\u001b[1;32m    591\u001b[0m                 \u001b[0mself\u001b[0m\u001b[0;34m.\u001b[0m\u001b[0m_timeout_occurred\u001b[0m \u001b[0;34m=\u001b[0m \u001b[0;32mTrue\u001b[0m\u001b[0;34m\u001b[0m\u001b[0;34m\u001b[0m\u001b[0m\n",
      "\u001b[0;32m~/anaconda3/lib/python3.7/site-packages/urllib3/contrib/pyopenssl.py\u001b[0m in \u001b[0;36mrecv_into\u001b[0;34m(self, *args, **kwargs)\u001b[0m\n\u001b[1;32m    295\u001b[0m     \u001b[0;32mdef\u001b[0m \u001b[0mrecv_into\u001b[0m\u001b[0;34m(\u001b[0m\u001b[0mself\u001b[0m\u001b[0;34m,\u001b[0m \u001b[0;34m*\u001b[0m\u001b[0margs\u001b[0m\u001b[0;34m,\u001b[0m \u001b[0;34m**\u001b[0m\u001b[0mkwargs\u001b[0m\u001b[0;34m)\u001b[0m\u001b[0;34m:\u001b[0m\u001b[0;34m\u001b[0m\u001b[0;34m\u001b[0m\u001b[0m\n\u001b[1;32m    296\u001b[0m         \u001b[0;32mtry\u001b[0m\u001b[0;34m:\u001b[0m\u001b[0;34m\u001b[0m\u001b[0;34m\u001b[0m\u001b[0m\n\u001b[0;32m--> 297\u001b[0;31m             \u001b[0;32mreturn\u001b[0m \u001b[0mself\u001b[0m\u001b[0;34m.\u001b[0m\u001b[0mconnection\u001b[0m\u001b[0;34m.\u001b[0m\u001b[0mrecv_into\u001b[0m\u001b[0;34m(\u001b[0m\u001b[0;34m*\u001b[0m\u001b[0margs\u001b[0m\u001b[0;34m,\u001b[0m \u001b[0;34m**\u001b[0m\u001b[0mkwargs\u001b[0m\u001b[0;34m)\u001b[0m\u001b[0;34m\u001b[0m\u001b[0;34m\u001b[0m\u001b[0m\n\u001b[0m\u001b[1;32m    298\u001b[0m         \u001b[0;32mexcept\u001b[0m \u001b[0mOpenSSL\u001b[0m\u001b[0;34m.\u001b[0m\u001b[0mSSL\u001b[0m\u001b[0;34m.\u001b[0m\u001b[0mSysCallError\u001b[0m \u001b[0;32mas\u001b[0m \u001b[0me\u001b[0m\u001b[0;34m:\u001b[0m\u001b[0;34m\u001b[0m\u001b[0;34m\u001b[0m\u001b[0m\n\u001b[1;32m    299\u001b[0m             \u001b[0;32mif\u001b[0m \u001b[0mself\u001b[0m\u001b[0;34m.\u001b[0m\u001b[0msuppress_ragged_eofs\u001b[0m \u001b[0;32mand\u001b[0m \u001b[0me\u001b[0m\u001b[0;34m.\u001b[0m\u001b[0margs\u001b[0m \u001b[0;34m==\u001b[0m \u001b[0;34m(\u001b[0m\u001b[0;34m-\u001b[0m\u001b[0;36m1\u001b[0m\u001b[0;34m,\u001b[0m \u001b[0;34m'Unexpected EOF'\u001b[0m\u001b[0;34m)\u001b[0m\u001b[0;34m:\u001b[0m\u001b[0;34m\u001b[0m\u001b[0;34m\u001b[0m\u001b[0m\n",
      "\u001b[0;32m~/anaconda3/lib/python3.7/site-packages/OpenSSL/SSL.py\u001b[0m in \u001b[0;36mrecv_into\u001b[0;34m(self, buffer, nbytes, flags)\u001b[0m\n\u001b[1;32m   1819\u001b[0m             \u001b[0mresult\u001b[0m \u001b[0;34m=\u001b[0m \u001b[0m_lib\u001b[0m\u001b[0;34m.\u001b[0m\u001b[0mSSL_peek\u001b[0m\u001b[0;34m(\u001b[0m\u001b[0mself\u001b[0m\u001b[0;34m.\u001b[0m\u001b[0m_ssl\u001b[0m\u001b[0;34m,\u001b[0m \u001b[0mbuf\u001b[0m\u001b[0;34m,\u001b[0m \u001b[0mnbytes\u001b[0m\u001b[0;34m)\u001b[0m\u001b[0;34m\u001b[0m\u001b[0;34m\u001b[0m\u001b[0m\n\u001b[1;32m   1820\u001b[0m         \u001b[0;32melse\u001b[0m\u001b[0;34m:\u001b[0m\u001b[0;34m\u001b[0m\u001b[0;34m\u001b[0m\u001b[0m\n\u001b[0;32m-> 1821\u001b[0;31m             \u001b[0mresult\u001b[0m \u001b[0;34m=\u001b[0m \u001b[0m_lib\u001b[0m\u001b[0;34m.\u001b[0m\u001b[0mSSL_read\u001b[0m\u001b[0;34m(\u001b[0m\u001b[0mself\u001b[0m\u001b[0;34m.\u001b[0m\u001b[0m_ssl\u001b[0m\u001b[0;34m,\u001b[0m \u001b[0mbuf\u001b[0m\u001b[0;34m,\u001b[0m \u001b[0mnbytes\u001b[0m\u001b[0;34m)\u001b[0m\u001b[0;34m\u001b[0m\u001b[0;34m\u001b[0m\u001b[0m\n\u001b[0m\u001b[1;32m   1822\u001b[0m         \u001b[0mself\u001b[0m\u001b[0;34m.\u001b[0m\u001b[0m_raise_ssl_error\u001b[0m\u001b[0;34m(\u001b[0m\u001b[0mself\u001b[0m\u001b[0;34m.\u001b[0m\u001b[0m_ssl\u001b[0m\u001b[0;34m,\u001b[0m \u001b[0mresult\u001b[0m\u001b[0;34m)\u001b[0m\u001b[0;34m\u001b[0m\u001b[0;34m\u001b[0m\u001b[0m\n\u001b[1;32m   1823\u001b[0m \u001b[0;34m\u001b[0m\u001b[0m\n",
      "\u001b[0;31mKeyboardInterrupt\u001b[0m: "
     ]
    }
   ],
   "source": [
    "products = get_all_products()"
   ]
  },
  {
   "cell_type": "code",
   "execution_count": null,
   "metadata": {},
   "outputs": [],
   "source": [
    "products[0]"
   ]
  },
  {
   "cell_type": "code",
   "execution_count": 30,
   "metadata": {},
   "outputs": [],
   "source": [
    "products_df = pd.read_json('products.json') #json_normalize(products)\n",
    "\n",
    "\n",
    "\n",
    "\n",
    "# s = product_df[['ProductCode', 'ProductDescription','Notes', 'Guid', 'MaxStockAlertLevel', 'MinStockAlertLevel']][(product_df.Notes.str.contains('Stock'))]"
   ]
  },
  {
   "cell_type": "code",
   "execution_count": 31,
   "metadata": {},
   "outputs": [
    {
     "data": {
      "text/html": [
       "<div>\n",
       "<style scoped>\n",
       "    .dataframe tbody tr th:only-of-type {\n",
       "        vertical-align: middle;\n",
       "    }\n",
       "\n",
       "    .dataframe tbody tr th {\n",
       "        vertical-align: top;\n",
       "    }\n",
       "\n",
       "    .dataframe thead th {\n",
       "        text-align: right;\n",
       "    }\n",
       "</style>\n",
       "<table border=\"1\" class=\"dataframe\">\n",
       "  <thead>\n",
       "    <tr style=\"text-align: right;\">\n",
       "      <th></th>\n",
       "      <th>AttributeSet</th>\n",
       "      <th>AverageLandPrice</th>\n",
       "      <th>Barcode</th>\n",
       "      <th>BinLocation</th>\n",
       "      <th>CreatedBy</th>\n",
       "      <th>CreatedOn</th>\n",
       "      <th>CustomerSellPrice</th>\n",
       "      <th>DefaultPurchasePrice</th>\n",
       "      <th>DefaultSellPrice</th>\n",
       "      <th>Depth</th>\n",
       "      <th>...</th>\n",
       "      <th>TaxableSales</th>\n",
       "      <th>UnitOfMeasure</th>\n",
       "      <th>Weight</th>\n",
       "      <th>Width</th>\n",
       "      <th>XeroCostOfGoodsAccount</th>\n",
       "      <th>XeroSalesAccount</th>\n",
       "      <th>XeroSalesTaxCode</th>\n",
       "      <th>XeroSalesTaxRate</th>\n",
       "      <th>XeroTaxCode</th>\n",
       "      <th>XeroTaxRate</th>\n",
       "    </tr>\n",
       "  </thead>\n",
       "  <tbody>\n",
       "    <tr>\n",
       "      <th>0</th>\n",
       "      <td>NaN</td>\n",
       "      <td>3.3800</td>\n",
       "      <td>NaN</td>\n",
       "      <td>NaN</td>\n",
       "      <td>jon@iwhardwood.com</td>\n",
       "      <td>/Date(1523192190803)/</td>\n",
       "      <td>NaN</td>\n",
       "      <td>3.38</td>\n",
       "      <td>5.19</td>\n",
       "      <td>NaN</td>\n",
       "      <td>...</td>\n",
       "      <td>1.0</td>\n",
       "      <td>None</td>\n",
       "      <td>NaN</td>\n",
       "      <td>NaN</td>\n",
       "      <td>NaN</td>\n",
       "      <td>NaN</td>\n",
       "      <td>NaN</td>\n",
       "      <td>NaN</td>\n",
       "      <td>None</td>\n",
       "      <td>NaN</td>\n",
       "    </tr>\n",
       "    <tr>\n",
       "      <th>1</th>\n",
       "      <td>NaN</td>\n",
       "      <td>3.8400</td>\n",
       "      <td>NaN</td>\n",
       "      <td>NaN</td>\n",
       "      <td>jon@iwhardwood.com</td>\n",
       "      <td>/Date(1523192190976)/</td>\n",
       "      <td>NaN</td>\n",
       "      <td>3.60</td>\n",
       "      <td>5.49</td>\n",
       "      <td>NaN</td>\n",
       "      <td>...</td>\n",
       "      <td>1.0</td>\n",
       "      <td>None</td>\n",
       "      <td>NaN</td>\n",
       "      <td>NaN</td>\n",
       "      <td>NaN</td>\n",
       "      <td>NaN</td>\n",
       "      <td>NaN</td>\n",
       "      <td>NaN</td>\n",
       "      <td>None</td>\n",
       "      <td>NaN</td>\n",
       "    </tr>\n",
       "    <tr>\n",
       "      <th>2</th>\n",
       "      <td>NaN</td>\n",
       "      <td>5.2500</td>\n",
       "      <td>NaN</td>\n",
       "      <td>NaN</td>\n",
       "      <td>jon@iwhardwood.com</td>\n",
       "      <td>/Date(1523192191053)/</td>\n",
       "      <td>NaN</td>\n",
       "      <td>5.40</td>\n",
       "      <td>8.29</td>\n",
       "      <td>NaN</td>\n",
       "      <td>...</td>\n",
       "      <td>1.0</td>\n",
       "      <td>None</td>\n",
       "      <td>NaN</td>\n",
       "      <td>NaN</td>\n",
       "      <td>NaN</td>\n",
       "      <td>NaN</td>\n",
       "      <td>NaN</td>\n",
       "      <td>NaN</td>\n",
       "      <td>None</td>\n",
       "      <td>NaN</td>\n",
       "    </tr>\n",
       "    <tr>\n",
       "      <th>3</th>\n",
       "      <td>NaN</td>\n",
       "      <td>5.5900</td>\n",
       "      <td>NaN</td>\n",
       "      <td>NaN</td>\n",
       "      <td>jon@iwhardwood.com</td>\n",
       "      <td>/Date(1523191890680)/</td>\n",
       "      <td>NaN</td>\n",
       "      <td>5.77</td>\n",
       "      <td>8.89</td>\n",
       "      <td>NaN</td>\n",
       "      <td>...</td>\n",
       "      <td>1.0</td>\n",
       "      <td>{'Guid': 'a720f73b-9904-4721-a690-0ab3282398c3...</td>\n",
       "      <td>NaN</td>\n",
       "      <td>NaN</td>\n",
       "      <td>NaN</td>\n",
       "      <td>NaN</td>\n",
       "      <td>NaN</td>\n",
       "      <td>NaN</td>\n",
       "      <td>None</td>\n",
       "      <td>NaN</td>\n",
       "    </tr>\n",
       "    <tr>\n",
       "      <th>4</th>\n",
       "      <td>NaN</td>\n",
       "      <td>5.8328</td>\n",
       "      <td>NaN</td>\n",
       "      <td>NaN</td>\n",
       "      <td>jon@iwhardwood.com</td>\n",
       "      <td>/Date(1523191890740)/</td>\n",
       "      <td>NaN</td>\n",
       "      <td>5.77</td>\n",
       "      <td>8.89</td>\n",
       "      <td>NaN</td>\n",
       "      <td>...</td>\n",
       "      <td>1.0</td>\n",
       "      <td>{'Guid': 'a720f73b-9904-4721-a690-0ab3282398c3...</td>\n",
       "      <td>NaN</td>\n",
       "      <td>NaN</td>\n",
       "      <td>NaN</td>\n",
       "      <td>NaN</td>\n",
       "      <td>NaN</td>\n",
       "      <td>NaN</td>\n",
       "      <td>None</td>\n",
       "      <td>NaN</td>\n",
       "    </tr>\n",
       "  </tbody>\n",
       "</table>\n",
       "<p>5 rows × 57 columns</p>\n",
       "</div>"
      ],
      "text/plain": [
       "   AttributeSet  AverageLandPrice  Barcode  BinLocation           CreatedBy  \\\n",
       "0           NaN            3.3800      NaN          NaN  jon@iwhardwood.com   \n",
       "1           NaN            3.8400      NaN          NaN  jon@iwhardwood.com   \n",
       "2           NaN            5.2500      NaN          NaN  jon@iwhardwood.com   \n",
       "3           NaN            5.5900      NaN          NaN  jon@iwhardwood.com   \n",
       "4           NaN            5.8328      NaN          NaN  jon@iwhardwood.com   \n",
       "\n",
       "               CreatedOn  CustomerSellPrice  DefaultPurchasePrice  \\\n",
       "0  /Date(1523192190803)/                NaN                  3.38   \n",
       "1  /Date(1523192190976)/                NaN                  3.60   \n",
       "2  /Date(1523192191053)/                NaN                  5.40   \n",
       "3  /Date(1523191890680)/                NaN                  5.77   \n",
       "4  /Date(1523191890740)/                NaN                  5.77   \n",
       "\n",
       "   DefaultSellPrice  Depth  ... TaxableSales  \\\n",
       "0              5.19    NaN  ...          1.0   \n",
       "1              5.49    NaN  ...          1.0   \n",
       "2              8.29    NaN  ...          1.0   \n",
       "3              8.89    NaN  ...          1.0   \n",
       "4              8.89    NaN  ...          1.0   \n",
       "\n",
       "                                       UnitOfMeasure  Weight  Width  \\\n",
       "0                                               None     NaN    NaN   \n",
       "1                                               None     NaN    NaN   \n",
       "2                                               None     NaN    NaN   \n",
       "3  {'Guid': 'a720f73b-9904-4721-a690-0ab3282398c3...     NaN    NaN   \n",
       "4  {'Guid': 'a720f73b-9904-4721-a690-0ab3282398c3...     NaN    NaN   \n",
       "\n",
       "   XeroCostOfGoodsAccount  XeroSalesAccount  XeroSalesTaxCode  \\\n",
       "0                     NaN               NaN               NaN   \n",
       "1                     NaN               NaN               NaN   \n",
       "2                     NaN               NaN               NaN   \n",
       "3                     NaN               NaN               NaN   \n",
       "4                     NaN               NaN               NaN   \n",
       "\n",
       "   XeroSalesTaxRate  XeroTaxCode  XeroTaxRate  \n",
       "0               NaN         None          NaN  \n",
       "1               NaN         None          NaN  \n",
       "2               NaN         None          NaN  \n",
       "3               NaN         None          NaN  \n",
       "4               NaN         None          NaN  \n",
       "\n",
       "[5 rows x 57 columns]"
      ]
     },
     "execution_count": 31,
     "metadata": {},
     "output_type": "execute_result"
    }
   ],
   "source": [
    "products_df.head()"
   ]
  },
  {
   "cell_type": "code",
   "execution_count": 32,
   "metadata": {},
   "outputs": [
    {
     "data": {
      "text/plain": [
       "Index(['AttributeSet', 'AverageLandPrice', 'Barcode', 'BinLocation',\n",
       "       'CreatedBy', 'CreatedOn', 'CustomerSellPrice', 'DefaultPurchasePrice',\n",
       "       'DefaultSellPrice', 'Depth', 'Guid', 'Height', 'ImageUrl', 'Images',\n",
       "       'IsAssembledProduct', 'IsBatchTracked', 'IsComponent', 'IsSellable',\n",
       "       'IsSerialized', 'LastCost', 'LastModifiedBy', 'LastModifiedOn',\n",
       "       'MaxStockAlertLevel', 'MinStockAlertLevel', 'NeverDiminishing', 'Notes',\n",
       "       'Obsolete', 'PackSize', 'ProductCode', 'ProductDescription',\n",
       "       'ProductGroup', 'PurchaseAccount', 'ReOrderPoint', 'SellPriceTier1',\n",
       "       'SellPriceTier10', 'SellPriceTier2', 'SellPriceTier3', 'SellPriceTier4',\n",
       "       'SellPriceTier5', 'SellPriceTier6', 'SellPriceTier7', 'SellPriceTier8',\n",
       "       'SellPriceTier9', 'SourceId', 'SourceVariantParentId', 'Supplier',\n",
       "       'TaxablePurchase', 'TaxableSales', 'UnitOfMeasure', 'Weight', 'Width',\n",
       "       'XeroCostOfGoodsAccount', 'XeroSalesAccount', 'XeroSalesTaxCode',\n",
       "       'XeroSalesTaxRate', 'XeroTaxCode', 'XeroTaxRate'],\n",
       "      dtype='object')"
      ]
     },
     "execution_count": 32,
     "metadata": {},
     "output_type": "execute_result"
    }
   ],
   "source": [
    "products_df.columns"
   ]
  },
  {
   "cell_type": "code",
   "execution_count": 34,
   "metadata": {},
   "outputs": [
    {
     "ename": "IndexError",
     "evalue": "positional indexers are out-of-bounds",
     "output_type": "error",
     "traceback": [
      "\u001b[0;31m---------------------------------------------------------------------------\u001b[0m",
      "\u001b[0;31mIndexError\u001b[0m                                Traceback (most recent call last)",
      "\u001b[0;32m~/anaconda3/lib/python3.7/site-packages/pandas/core/indexing.py\u001b[0m in \u001b[0;36m_get_list_axis\u001b[0;34m(self, key, axis)\u001b[0m\n\u001b[1;32m   2199\u001b[0m         \u001b[0;32mtry\u001b[0m\u001b[0;34m:\u001b[0m\u001b[0;34m\u001b[0m\u001b[0;34m\u001b[0m\u001b[0m\n\u001b[0;32m-> 2200\u001b[0;31m             \u001b[0;32mreturn\u001b[0m \u001b[0mself\u001b[0m\u001b[0;34m.\u001b[0m\u001b[0mobj\u001b[0m\u001b[0;34m.\u001b[0m\u001b[0m_take\u001b[0m\u001b[0;34m(\u001b[0m\u001b[0mkey\u001b[0m\u001b[0;34m,\u001b[0m \u001b[0maxis\u001b[0m\u001b[0;34m=\u001b[0m\u001b[0maxis\u001b[0m\u001b[0;34m)\u001b[0m\u001b[0;34m\u001b[0m\u001b[0;34m\u001b[0m\u001b[0m\n\u001b[0m\u001b[1;32m   2201\u001b[0m         \u001b[0;32mexcept\u001b[0m \u001b[0mIndexError\u001b[0m\u001b[0;34m:\u001b[0m\u001b[0;34m\u001b[0m\u001b[0;34m\u001b[0m\u001b[0m\n",
      "\u001b[0;32m~/anaconda3/lib/python3.7/site-packages/pandas/core/generic.py\u001b[0m in \u001b[0;36m_take\u001b[0;34m(self, indices, axis, is_copy)\u001b[0m\n\u001b[1;32m   3358\u001b[0m                                    \u001b[0maxis\u001b[0m\u001b[0;34m=\u001b[0m\u001b[0mself\u001b[0m\u001b[0;34m.\u001b[0m\u001b[0m_get_block_manager_axis\u001b[0m\u001b[0;34m(\u001b[0m\u001b[0maxis\u001b[0m\u001b[0;34m)\u001b[0m\u001b[0;34m,\u001b[0m\u001b[0;34m\u001b[0m\u001b[0;34m\u001b[0m\u001b[0m\n\u001b[0;32m-> 3359\u001b[0;31m                                    verify=True)\n\u001b[0m\u001b[1;32m   3360\u001b[0m         \u001b[0mresult\u001b[0m \u001b[0;34m=\u001b[0m \u001b[0mself\u001b[0m\u001b[0;34m.\u001b[0m\u001b[0m_constructor\u001b[0m\u001b[0;34m(\u001b[0m\u001b[0mnew_data\u001b[0m\u001b[0;34m)\u001b[0m\u001b[0;34m.\u001b[0m\u001b[0m__finalize__\u001b[0m\u001b[0;34m(\u001b[0m\u001b[0mself\u001b[0m\u001b[0;34m)\u001b[0m\u001b[0;34m\u001b[0m\u001b[0;34m\u001b[0m\u001b[0m\n",
      "\u001b[0;32m~/anaconda3/lib/python3.7/site-packages/pandas/core/internals/managers.py\u001b[0m in \u001b[0;36mtake\u001b[0;34m(self, indexer, axis, verify, convert)\u001b[0m\n\u001b[1;32m   1340\u001b[0m         \u001b[0;32mif\u001b[0m \u001b[0mconvert\u001b[0m\u001b[0;34m:\u001b[0m\u001b[0;34m\u001b[0m\u001b[0;34m\u001b[0m\u001b[0m\n\u001b[0;32m-> 1341\u001b[0;31m             \u001b[0mindexer\u001b[0m \u001b[0;34m=\u001b[0m \u001b[0mmaybe_convert_indices\u001b[0m\u001b[0;34m(\u001b[0m\u001b[0mindexer\u001b[0m\u001b[0;34m,\u001b[0m \u001b[0mn\u001b[0m\u001b[0;34m)\u001b[0m\u001b[0;34m\u001b[0m\u001b[0;34m\u001b[0m\u001b[0m\n\u001b[0m\u001b[1;32m   1342\u001b[0m \u001b[0;34m\u001b[0m\u001b[0m\n",
      "\u001b[0;32m~/anaconda3/lib/python3.7/site-packages/pandas/core/indexing.py\u001b[0m in \u001b[0;36mmaybe_convert_indices\u001b[0;34m(indices, n)\u001b[0m\n\u001b[1;32m   2614\u001b[0m     \u001b[0;32mif\u001b[0m \u001b[0mmask\u001b[0m\u001b[0;34m.\u001b[0m\u001b[0many\u001b[0m\u001b[0;34m(\u001b[0m\u001b[0;34m)\u001b[0m\u001b[0;34m:\u001b[0m\u001b[0;34m\u001b[0m\u001b[0;34m\u001b[0m\u001b[0m\n\u001b[0;32m-> 2615\u001b[0;31m         \u001b[0;32mraise\u001b[0m \u001b[0mIndexError\u001b[0m\u001b[0;34m(\u001b[0m\u001b[0;34m\"indices are out-of-bounds\"\u001b[0m\u001b[0;34m)\u001b[0m\u001b[0;34m\u001b[0m\u001b[0;34m\u001b[0m\u001b[0m\n\u001b[0m\u001b[1;32m   2616\u001b[0m     \u001b[0;32mreturn\u001b[0m \u001b[0mindices\u001b[0m\u001b[0;34m\u001b[0m\u001b[0;34m\u001b[0m\u001b[0m\n",
      "\u001b[0;31mIndexError\u001b[0m: indices are out-of-bounds",
      "\nDuring handling of the above exception, another exception occurred:\n",
      "\u001b[0;31mIndexError\u001b[0m                                Traceback (most recent call last)",
      "\u001b[0;32m<ipython-input-34-d4d79c2f5466>\u001b[0m in \u001b[0;36m<module>\u001b[0;34m()\u001b[0m\n\u001b[1;32m      1\u001b[0m \u001b[0midx\u001b[0m \u001b[0;34m=\u001b[0m \u001b[0mproducts_df\u001b[0m\u001b[0;34m.\u001b[0m\u001b[0mNotes\u001b[0m\u001b[0;34m.\u001b[0m\u001b[0mdropna\u001b[0m\u001b[0;34m(\u001b[0m\u001b[0;34m)\u001b[0m\u001b[0;34m.\u001b[0m\u001b[0mindex\u001b[0m\u001b[0;34m\u001b[0m\u001b[0;34m\u001b[0m\u001b[0m\n\u001b[0;32m----> 2\u001b[0;31m \u001b[0mproducts_df\u001b[0m \u001b[0;34m=\u001b[0m \u001b[0mproducts_df\u001b[0m\u001b[0;34m.\u001b[0m\u001b[0miloc\u001b[0m\u001b[0;34m[\u001b[0m\u001b[0midx\u001b[0m\u001b[0;34m]\u001b[0m\u001b[0;34m\u001b[0m\u001b[0;34m\u001b[0m\u001b[0m\n\u001b[0m\u001b[1;32m      3\u001b[0m \u001b[0mproducts_df\u001b[0m \u001b[0;34m=\u001b[0m  \u001b[0mproducts_df\u001b[0m\u001b[0;34m[\u001b[0m\u001b[0;34m(\u001b[0m\u001b[0mproducts_df\u001b[0m\u001b[0;34m.\u001b[0m\u001b[0mNotes\u001b[0m\u001b[0;34m.\u001b[0m\u001b[0mstr\u001b[0m\u001b[0;34m.\u001b[0m\u001b[0mcontains\u001b[0m\u001b[0;34m(\u001b[0m\u001b[0;34m'Stock'\u001b[0m\u001b[0;34m)\u001b[0m\u001b[0;34m)\u001b[0m\u001b[0;34m]\u001b[0m\u001b[0;34m\u001b[0m\u001b[0;34m\u001b[0m\u001b[0m\n",
      "\u001b[0;32m~/anaconda3/lib/python3.7/site-packages/pandas/core/indexing.py\u001b[0m in \u001b[0;36m__getitem__\u001b[0;34m(self, key)\u001b[0m\n\u001b[1;32m   1498\u001b[0m \u001b[0;34m\u001b[0m\u001b[0m\n\u001b[1;32m   1499\u001b[0m             \u001b[0mmaybe_callable\u001b[0m \u001b[0;34m=\u001b[0m \u001b[0mcom\u001b[0m\u001b[0;34m.\u001b[0m\u001b[0mapply_if_callable\u001b[0m\u001b[0;34m(\u001b[0m\u001b[0mkey\u001b[0m\u001b[0;34m,\u001b[0m \u001b[0mself\u001b[0m\u001b[0;34m.\u001b[0m\u001b[0mobj\u001b[0m\u001b[0;34m)\u001b[0m\u001b[0;34m\u001b[0m\u001b[0;34m\u001b[0m\u001b[0m\n\u001b[0;32m-> 1500\u001b[0;31m             \u001b[0;32mreturn\u001b[0m \u001b[0mself\u001b[0m\u001b[0;34m.\u001b[0m\u001b[0m_getitem_axis\u001b[0m\u001b[0;34m(\u001b[0m\u001b[0mmaybe_callable\u001b[0m\u001b[0;34m,\u001b[0m \u001b[0maxis\u001b[0m\u001b[0;34m=\u001b[0m\u001b[0maxis\u001b[0m\u001b[0;34m)\u001b[0m\u001b[0;34m\u001b[0m\u001b[0;34m\u001b[0m\u001b[0m\n\u001b[0m\u001b[1;32m   1501\u001b[0m \u001b[0;34m\u001b[0m\u001b[0m\n\u001b[1;32m   1502\u001b[0m     \u001b[0;32mdef\u001b[0m \u001b[0m_is_scalar_access\u001b[0m\u001b[0;34m(\u001b[0m\u001b[0mself\u001b[0m\u001b[0;34m,\u001b[0m \u001b[0mkey\u001b[0m\u001b[0;34m)\u001b[0m\u001b[0;34m:\u001b[0m\u001b[0;34m\u001b[0m\u001b[0;34m\u001b[0m\u001b[0m\n",
      "\u001b[0;32m~/anaconda3/lib/python3.7/site-packages/pandas/core/indexing.py\u001b[0m in \u001b[0;36m_getitem_axis\u001b[0;34m(self, key, axis)\u001b[0m\n\u001b[1;32m   2219\u001b[0m         \u001b[0;31m# a list of integers\u001b[0m\u001b[0;34m\u001b[0m\u001b[0;34m\u001b[0m\u001b[0;34m\u001b[0m\u001b[0m\n\u001b[1;32m   2220\u001b[0m         \u001b[0;32melif\u001b[0m \u001b[0mis_list_like_indexer\u001b[0m\u001b[0;34m(\u001b[0m\u001b[0mkey\u001b[0m\u001b[0;34m)\u001b[0m\u001b[0;34m:\u001b[0m\u001b[0;34m\u001b[0m\u001b[0;34m\u001b[0m\u001b[0m\n\u001b[0;32m-> 2221\u001b[0;31m             \u001b[0;32mreturn\u001b[0m \u001b[0mself\u001b[0m\u001b[0;34m.\u001b[0m\u001b[0m_get_list_axis\u001b[0m\u001b[0;34m(\u001b[0m\u001b[0mkey\u001b[0m\u001b[0;34m,\u001b[0m \u001b[0maxis\u001b[0m\u001b[0;34m=\u001b[0m\u001b[0maxis\u001b[0m\u001b[0;34m)\u001b[0m\u001b[0;34m\u001b[0m\u001b[0;34m\u001b[0m\u001b[0m\n\u001b[0m\u001b[1;32m   2222\u001b[0m \u001b[0;34m\u001b[0m\u001b[0m\n\u001b[1;32m   2223\u001b[0m         \u001b[0;31m# a single integer\u001b[0m\u001b[0;34m\u001b[0m\u001b[0;34m\u001b[0m\u001b[0;34m\u001b[0m\u001b[0m\n",
      "\u001b[0;32m~/anaconda3/lib/python3.7/site-packages/pandas/core/indexing.py\u001b[0m in \u001b[0;36m_get_list_axis\u001b[0;34m(self, key, axis)\u001b[0m\n\u001b[1;32m   2201\u001b[0m         \u001b[0;32mexcept\u001b[0m \u001b[0mIndexError\u001b[0m\u001b[0;34m:\u001b[0m\u001b[0;34m\u001b[0m\u001b[0;34m\u001b[0m\u001b[0m\n\u001b[1;32m   2202\u001b[0m             \u001b[0;31m# re-raise with different error message\u001b[0m\u001b[0;34m\u001b[0m\u001b[0;34m\u001b[0m\u001b[0;34m\u001b[0m\u001b[0m\n\u001b[0;32m-> 2203\u001b[0;31m             \u001b[0;32mraise\u001b[0m \u001b[0mIndexError\u001b[0m\u001b[0;34m(\u001b[0m\u001b[0;34m\"positional indexers are out-of-bounds\"\u001b[0m\u001b[0;34m)\u001b[0m\u001b[0;34m\u001b[0m\u001b[0;34m\u001b[0m\u001b[0m\n\u001b[0m\u001b[1;32m   2204\u001b[0m \u001b[0;34m\u001b[0m\u001b[0m\n\u001b[1;32m   2205\u001b[0m     \u001b[0;32mdef\u001b[0m \u001b[0m_getitem_axis\u001b[0m\u001b[0;34m(\u001b[0m\u001b[0mself\u001b[0m\u001b[0;34m,\u001b[0m \u001b[0mkey\u001b[0m\u001b[0;34m,\u001b[0m \u001b[0maxis\u001b[0m\u001b[0;34m=\u001b[0m\u001b[0;32mNone\u001b[0m\u001b[0;34m)\u001b[0m\u001b[0;34m:\u001b[0m\u001b[0;34m\u001b[0m\u001b[0;34m\u001b[0m\u001b[0m\n",
      "\u001b[0;31mIndexError\u001b[0m: positional indexers are out-of-bounds"
     ]
    }
   ],
   "source": [
    "idx = products_df.Notes.dropna().index\n",
    "products_df = products_df.iloc[idx]\n",
    "products_df =  products_df[(products_df.Notes.str.contains('Stock'))]"
   ]
  },
  {
   "cell_type": "code",
   "execution_count": 35,
   "metadata": {
    "scrolled": true
   },
   "outputs": [
    {
     "name": "stdout",
     "output_type": "stream",
     "text": [
      "<class 'pandas.core.frame.DataFrame'>\n",
      "Int64Index: 362 entries, 3 to 7205\n",
      "Data columns (total 57 columns):\n",
      "AttributeSet              0 non-null float64\n",
      "AverageLandPrice          362 non-null float64\n",
      "Barcode                   0 non-null float64\n",
      "BinLocation               0 non-null float64\n",
      "CreatedBy                 362 non-null object\n",
      "CreatedOn                 362 non-null object\n",
      "CustomerSellPrice         0 non-null float64\n",
      "DefaultPurchasePrice      362 non-null float64\n",
      "DefaultSellPrice          362 non-null float64\n",
      "Depth                     0 non-null float64\n",
      "Guid                      362 non-null object\n",
      "Height                    0 non-null float64\n",
      "ImageUrl                  0 non-null float64\n",
      "Images                    0 non-null float64\n",
      "IsAssembledProduct        362 non-null bool\n",
      "IsBatchTracked            362 non-null bool\n",
      "IsComponent               362 non-null bool\n",
      "IsSellable                362 non-null bool\n",
      "IsSerialized              362 non-null bool\n",
      "LastCost                  306 non-null float64\n",
      "LastModifiedBy            362 non-null object\n",
      "LastModifiedOn            362 non-null object\n",
      "MaxStockAlertLevel        362 non-null float64\n",
      "MinStockAlertLevel        362 non-null float64\n",
      "NeverDiminishing          362 non-null bool\n",
      "Notes                     362 non-null object\n",
      "Obsolete                  362 non-null bool\n",
      "PackSize                  270 non-null float64\n",
      "ProductCode               362 non-null object\n",
      "ProductDescription        362 non-null object\n",
      "ProductGroup              353 non-null object\n",
      "PurchaseAccount           0 non-null object\n",
      "ReOrderPoint              0 non-null float64\n",
      "SellPriceTier1            362 non-null object\n",
      "SellPriceTier10           362 non-null object\n",
      "SellPriceTier2            362 non-null object\n",
      "SellPriceTier3            362 non-null object\n",
      "SellPriceTier4            362 non-null object\n",
      "SellPriceTier5            362 non-null object\n",
      "SellPriceTier6            362 non-null object\n",
      "SellPriceTier7            362 non-null object\n",
      "SellPriceTier8            362 non-null object\n",
      "SellPriceTier9            362 non-null object\n",
      "SourceId                  0 non-null float64\n",
      "SourceVariantParentId     0 non-null float64\n",
      "Supplier                  362 non-null object\n",
      "TaxablePurchase           282 non-null float64\n",
      "TaxableSales              282 non-null float64\n",
      "UnitOfMeasure             206 non-null object\n",
      "Weight                    0 non-null float64\n",
      "Width                     0 non-null float64\n",
      "XeroCostOfGoodsAccount    0 non-null float64\n",
      "XeroSalesAccount          0 non-null float64\n",
      "XeroSalesTaxCode          0 non-null float64\n",
      "XeroSalesTaxRate          0 non-null float64\n",
      "XeroTaxCode               0 non-null object\n",
      "XeroTaxRate               0 non-null float64\n",
      "dtypes: bool(7), float64(27), object(23)\n",
      "memory usage: 146.7+ KB\n"
     ]
    }
   ],
   "source": [
    "products_df.info()"
   ]
  },
  {
   "cell_type": "code",
   "execution_count": 36,
   "metadata": {},
   "outputs": [],
   "source": [
    "products_df = products_df[~products_df.ProductGroup.isna()]"
   ]
  },
  {
   "cell_type": "code",
   "execution_count": 37,
   "metadata": {},
   "outputs": [
    {
     "name": "stdout",
     "output_type": "stream",
     "text": [
      "<class 'pandas.core.frame.DataFrame'>\n",
      "Int64Index: 353 entries, 3 to 7205\n",
      "Data columns (total 57 columns):\n",
      "AttributeSet              0 non-null float64\n",
      "AverageLandPrice          353 non-null float64\n",
      "Barcode                   0 non-null float64\n",
      "BinLocation               0 non-null float64\n",
      "CreatedBy                 353 non-null object\n",
      "CreatedOn                 353 non-null object\n",
      "CustomerSellPrice         0 non-null float64\n",
      "DefaultPurchasePrice      353 non-null float64\n",
      "DefaultSellPrice          353 non-null float64\n",
      "Depth                     0 non-null float64\n",
      "Guid                      353 non-null object\n",
      "Height                    0 non-null float64\n",
      "ImageUrl                  0 non-null float64\n",
      "Images                    0 non-null float64\n",
      "IsAssembledProduct        353 non-null bool\n",
      "IsBatchTracked            353 non-null bool\n",
      "IsComponent               353 non-null bool\n",
      "IsSellable                353 non-null bool\n",
      "IsSerialized              353 non-null bool\n",
      "LastCost                  299 non-null float64\n",
      "LastModifiedBy            353 non-null object\n",
      "LastModifiedOn            353 non-null object\n",
      "MaxStockAlertLevel        353 non-null float64\n",
      "MinStockAlertLevel        353 non-null float64\n",
      "NeverDiminishing          353 non-null bool\n",
      "Notes                     353 non-null object\n",
      "Obsolete                  353 non-null bool\n",
      "PackSize                  264 non-null float64\n",
      "ProductCode               353 non-null object\n",
      "ProductDescription        353 non-null object\n",
      "ProductGroup              353 non-null object\n",
      "PurchaseAccount           0 non-null object\n",
      "ReOrderPoint              0 non-null float64\n",
      "SellPriceTier1            353 non-null object\n",
      "SellPriceTier10           353 non-null object\n",
      "SellPriceTier2            353 non-null object\n",
      "SellPriceTier3            353 non-null object\n",
      "SellPriceTier4            353 non-null object\n",
      "SellPriceTier5            353 non-null object\n",
      "SellPriceTier6            353 non-null object\n",
      "SellPriceTier7            353 non-null object\n",
      "SellPriceTier8            353 non-null object\n",
      "SellPriceTier9            353 non-null object\n",
      "SourceId                  0 non-null float64\n",
      "SourceVariantParentId     0 non-null float64\n",
      "Supplier                  353 non-null object\n",
      "TaxablePurchase           273 non-null float64\n",
      "TaxableSales              273 non-null float64\n",
      "UnitOfMeasure             200 non-null object\n",
      "Weight                    0 non-null float64\n",
      "Width                     0 non-null float64\n",
      "XeroCostOfGoodsAccount    0 non-null float64\n",
      "XeroSalesAccount          0 non-null float64\n",
      "XeroSalesTaxCode          0 non-null float64\n",
      "XeroSalesTaxRate          0 non-null float64\n",
      "XeroTaxCode               0 non-null object\n",
      "XeroTaxRate               0 non-null float64\n",
      "dtypes: bool(7), float64(27), object(23)\n",
      "memory usage: 143.1+ KB\n"
     ]
    }
   ],
   "source": [
    "products_df.info()"
   ]
  },
  {
   "cell_type": "code",
   "execution_count": 38,
   "metadata": {},
   "outputs": [
    {
     "name": "stderr",
     "output_type": "stream",
     "text": [
      "/Users/jon/anaconda3/lib/python3.7/site-packages/ipykernel_launcher.py:1: SettingWithCopyWarning: \n",
      "A value is trying to be set on a copy of a slice from a DataFrame\n",
      "\n",
      "See the caveats in the documentation: http://pandas.pydata.org/pandas-docs/stable/indexing.html#indexing-view-versus-copy\n",
      "  \"\"\"Entry point for launching an IPython kernel.\n"
     ]
    }
   ],
   "source": [
    "products_df.dropna(axis=1, inplace=True)"
   ]
  },
  {
   "cell_type": "code",
   "execution_count": 39,
   "metadata": {},
   "outputs": [
    {
     "name": "stdout",
     "output_type": "stream",
     "text": [
      "<class 'pandas.core.frame.DataFrame'>\n",
      "Int64Index: 353 entries, 3 to 7205\n",
      "Data columns (total 32 columns):\n",
      "AverageLandPrice        353 non-null float64\n",
      "CreatedBy               353 non-null object\n",
      "CreatedOn               353 non-null object\n",
      "DefaultPurchasePrice    353 non-null float64\n",
      "DefaultSellPrice        353 non-null float64\n",
      "Guid                    353 non-null object\n",
      "IsAssembledProduct      353 non-null bool\n",
      "IsBatchTracked          353 non-null bool\n",
      "IsComponent             353 non-null bool\n",
      "IsSellable              353 non-null bool\n",
      "IsSerialized            353 non-null bool\n",
      "LastModifiedBy          353 non-null object\n",
      "LastModifiedOn          353 non-null object\n",
      "MaxStockAlertLevel      353 non-null float64\n",
      "MinStockAlertLevel      353 non-null float64\n",
      "NeverDiminishing        353 non-null bool\n",
      "Notes                   353 non-null object\n",
      "Obsolete                353 non-null bool\n",
      "ProductCode             353 non-null object\n",
      "ProductDescription      353 non-null object\n",
      "ProductGroup            353 non-null object\n",
      "SellPriceTier1          353 non-null object\n",
      "SellPriceTier10         353 non-null object\n",
      "SellPriceTier2          353 non-null object\n",
      "SellPriceTier3          353 non-null object\n",
      "SellPriceTier4          353 non-null object\n",
      "SellPriceTier5          353 non-null object\n",
      "SellPriceTier6          353 non-null object\n",
      "SellPriceTier7          353 non-null object\n",
      "SellPriceTier8          353 non-null object\n",
      "SellPriceTier9          353 non-null object\n",
      "Supplier                353 non-null object\n",
      "dtypes: bool(7), float64(5), object(20)\n",
      "memory usage: 74.1+ KB\n"
     ]
    }
   ],
   "source": [
    "products_df.info()"
   ]
  },
  {
   "cell_type": "code",
   "execution_count": 40,
   "metadata": {},
   "outputs": [],
   "source": [
    "products_df.to_csv('stocking_products.csv', index=False)"
   ]
  },
  {
   "cell_type": "code",
   "execution_count": 41,
   "metadata": {},
   "outputs": [],
   "source": [
    "p = pd.concat([products_df,json_normalize(products_df.ProductGroup).drop(columns=['Guid'], inplace=True)], axis=1)"
   ]
  },
  {
   "cell_type": "code",
   "execution_count": 42,
   "metadata": {},
   "outputs": [],
   "source": [
    "t = pd.merge(current_inventory_df, products_df[['Guid', 'Notes']], how='left', on='Guid' )"
   ]
  },
  {
   "cell_type": "code",
   "execution_count": 43,
   "metadata": {},
   "outputs": [
    {
     "data": {
      "text/plain": [
       "Index(['AllocatedQty', 'AvailableQty', 'AvgCost', 'DaysSinceLastSale', 'Guid',\n",
       "       'LastModifiedOn', 'OnPurchase', 'ProductCode', 'ProductDescription',\n",
       "       'ProductGroupName', 'ProductGuid', 'ProductSourceId', 'QtyOnHand',\n",
       "       'TotalCost', 'Warehouse', 'WarehouseCode', 'WarehouseId', 'Notes'],\n",
       "      dtype='object')"
      ]
     },
     "execution_count": 43,
     "metadata": {},
     "output_type": "execute_result"
    }
   ],
   "source": [
    "t.columns"
   ]
  },
  {
   "cell_type": "code",
   "execution_count": 44,
   "metadata": {},
   "outputs": [
    {
     "data": {
      "text/plain": [
       "0                                        NaN\n",
       "1                                        NaN\n",
       "2                                        NaN\n",
       "3        {\"BoxQuantity\":10, \"Stock\": \"True\"}\n",
       "4        {\"BoxQuantity\":10, \"Stock\": \"True\"}\n",
       "5                                        NaN\n",
       "6        {\"BoxQuantity\":10, \"Stock\": \"True\"}\n",
       "7        {\"BoxQuantity\":10, \"Stock\": \"True\"}\n",
       "8        {\"BoxQuantity\":10, \"Stock\": \"True\"}\n",
       "9        {\"BoxQuantity\":10, \"Stock\": \"True\"}\n",
       "10       {\"BoxQuantity\":10, \"Stock\": \"True\"}\n",
       "11        {\"BoxQuantity\":5, \"Stock\": \"True\"}\n",
       "12                                       NaN\n",
       "13                                       NaN\n",
       "14                                       NaN\n",
       "15                                       NaN\n",
       "16                                       NaN\n",
       "17                                       NaN\n",
       "18                                       NaN\n",
       "19      {\"BoxQuantity\":300, \"Stock\": \"True\"}\n",
       "20      {\"BoxQuantity\":300, \"Stock\": \"True\"}\n",
       "21                                       NaN\n",
       "22      {\"BoxQuantity\":300, \"Stock\": \"True\"}\n",
       "23                                       NaN\n",
       "24      {\"BoxQuantity\":300, \"Stock\": \"True\"}\n",
       "25                                       NaN\n",
       "26                                       NaN\n",
       "27                                       NaN\n",
       "28                                       NaN\n",
       "29                                       NaN\n",
       "                        ...                 \n",
       "6676                                     NaN\n",
       "6677                                     NaN\n",
       "6678                                     NaN\n",
       "6679                                     NaN\n",
       "6680                                     NaN\n",
       "6681                                     NaN\n",
       "6682                                     NaN\n",
       "6683                                     NaN\n",
       "6684                                     NaN\n",
       "6685                                     NaN\n",
       "6686                                     NaN\n",
       "6687                       {\"Stock\": \"True\"}\n",
       "6688                                     NaN\n",
       "6689                                     NaN\n",
       "6690                                     NaN\n",
       "6691                       {\"Stock\": \"True\"}\n",
       "6692                                     NaN\n",
       "6693                                     NaN\n",
       "6694                                     NaN\n",
       "6695                                     NaN\n",
       "6696                                     NaN\n",
       "6697                                     NaN\n",
       "6698                                     NaN\n",
       "6699                                     NaN\n",
       "6700                                     NaN\n",
       "6701                                     NaN\n",
       "6702                                     NaN\n",
       "6703                                     NaN\n",
       "6704                                     NaN\n",
       "6705                                     NaN\n",
       "Name: Notes, Length: 6706, dtype: object"
      ]
     },
     "execution_count": 44,
     "metadata": {},
     "output_type": "execute_result"
    }
   ],
   "source": [
    "t.Notes"
   ]
  },
  {
   "cell_type": "code",
   "execution_count": 45,
   "metadata": {},
   "outputs": [
    {
     "data": {
      "text/html": [
       "<div>\n",
       "<style scoped>\n",
       "    .dataframe tbody tr th:only-of-type {\n",
       "        vertical-align: middle;\n",
       "    }\n",
       "\n",
       "    .dataframe tbody tr th {\n",
       "        vertical-align: top;\n",
       "    }\n",
       "\n",
       "    .dataframe thead th {\n",
       "        text-align: right;\n",
       "    }\n",
       "</style>\n",
       "<table border=\"1\" class=\"dataframe\">\n",
       "  <thead>\n",
       "    <tr style=\"text-align: right;\">\n",
       "      <th></th>\n",
       "      <th>AllocatedQty</th>\n",
       "      <th>AvailableQty</th>\n",
       "      <th>AvgCost</th>\n",
       "      <th>DaysSinceLastSale</th>\n",
       "      <th>OnPurchase</th>\n",
       "      <th>ProductSourceId</th>\n",
       "      <th>QtyOnHand</th>\n",
       "      <th>TotalCost</th>\n",
       "    </tr>\n",
       "    <tr>\n",
       "      <th>ProductGroupName</th>\n",
       "      <th></th>\n",
       "      <th></th>\n",
       "      <th></th>\n",
       "      <th></th>\n",
       "      <th></th>\n",
       "      <th></th>\n",
       "      <th></th>\n",
       "      <th></th>\n",
       "    </tr>\n",
       "  </thead>\n",
       "  <tbody>\n",
       "    <tr>\n",
       "      <th>Prefinished Flooring</th>\n",
       "      <td>2900.0</td>\n",
       "      <td>25960.0</td>\n",
       "      <td>31.829688</td>\n",
       "      <td>1302.0</td>\n",
       "      <td>100.0</td>\n",
       "      <td>0.0</td>\n",
       "      <td>28860.0</td>\n",
       "      <td>82780.702</td>\n",
       "    </tr>\n",
       "  </tbody>\n",
       "</table>\n",
       "</div>"
      ],
      "text/plain": [
       "                      AllocatedQty  AvailableQty    AvgCost  \\\n",
       "ProductGroupName                                              \n",
       "Prefinished Flooring        2900.0       25960.0  31.829688   \n",
       "\n",
       "                      DaysSinceLastSale  OnPurchase  ProductSourceId  \\\n",
       "ProductGroupName                                                       \n",
       "Prefinished Flooring             1302.0       100.0              0.0   \n",
       "\n",
       "                      QtyOnHand  TotalCost  \n",
       "ProductGroupName                            \n",
       "Prefinished Flooring    28860.0  82780.702  "
      ]
     },
     "execution_count": 45,
     "metadata": {},
     "output_type": "execute_result"
    }
   ],
   "source": [
    "t[(t.ProductGroupName=='Prefinished Flooring') & (t.Notes.str.contains(\"Stock\"))].groupby('ProductGroupName').sum()"
   ]
  },
  {
   "cell_type": "code",
   "execution_count": 46,
   "metadata": {},
   "outputs": [],
   "source": [
    "initial_inv_with_notes_df = pd.merge(initial_stock_df, products_df[['Guid', 'Notes']], how='left', on='Guid' )"
   ]
  },
  {
   "cell_type": "code",
   "execution_count": 47,
   "metadata": {
    "scrolled": true
   },
   "outputs": [
    {
     "data": {
      "text/html": [
       "<div>\n",
       "<style scoped>\n",
       "    .dataframe tbody tr th:only-of-type {\n",
       "        vertical-align: middle;\n",
       "    }\n",
       "\n",
       "    .dataframe tbody tr th {\n",
       "        vertical-align: top;\n",
       "    }\n",
       "\n",
       "    .dataframe thead th {\n",
       "        text-align: right;\n",
       "    }\n",
       "</style>\n",
       "<table border=\"1\" class=\"dataframe\">\n",
       "  <thead>\n",
       "    <tr style=\"text-align: right;\">\n",
       "      <th></th>\n",
       "      <th>AllocatedQty</th>\n",
       "      <th>AvailableQty</th>\n",
       "      <th>AvgCost</th>\n",
       "      <th>DaysSinceLastSale</th>\n",
       "      <th>OnPurchase</th>\n",
       "      <th>ProductSourceId</th>\n",
       "      <th>QtyOnHand</th>\n",
       "      <th>TotalCost</th>\n",
       "    </tr>\n",
       "    <tr>\n",
       "      <th>ProductGroupName</th>\n",
       "      <th></th>\n",
       "      <th></th>\n",
       "      <th></th>\n",
       "      <th></th>\n",
       "      <th></th>\n",
       "      <th></th>\n",
       "      <th></th>\n",
       "      <th></th>\n",
       "    </tr>\n",
       "  </thead>\n",
       "  <tbody>\n",
       "    <tr>\n",
       "      <th>Prefinished Flooring</th>\n",
       "      <td>2680.0</td>\n",
       "      <td>26780.0</td>\n",
       "      <td>33.073542</td>\n",
       "      <td>2591.0</td>\n",
       "      <td>100.0</td>\n",
       "      <td>0.0</td>\n",
       "      <td>29460.0</td>\n",
       "      <td>89315.653</td>\n",
       "    </tr>\n",
       "  </tbody>\n",
       "</table>\n",
       "</div>"
      ],
      "text/plain": [
       "                      AllocatedQty  AvailableQty    AvgCost  \\\n",
       "ProductGroupName                                              \n",
       "Prefinished Flooring        2680.0       26780.0  33.073542   \n",
       "\n",
       "                      DaysSinceLastSale  OnPurchase  ProductSourceId  \\\n",
       "ProductGroupName                                                       \n",
       "Prefinished Flooring             2591.0       100.0              0.0   \n",
       "\n",
       "                      QtyOnHand  TotalCost  \n",
       "ProductGroupName                            \n",
       "Prefinished Flooring    29460.0  89315.653  "
      ]
     },
     "execution_count": 47,
     "metadata": {},
     "output_type": "execute_result"
    }
   ],
   "source": [
    "initial_inv_with_notes_df[(initial_inv_with_notes_df.ProductGroupName=='Prefinished Flooring') & (initial_inv_with_notes_df.Notes.str.contains(\"Stock\"))].groupby('ProductGroupName').sum()"
   ]
  },
  {
   "cell_type": "code",
   "execution_count": 48,
   "metadata": {},
   "outputs": [],
   "source": [
    "dates = pd.date_range('1/1/2019','8/3/2019') "
   ]
  },
  {
   "cell_type": "code",
   "execution_count": 49,
   "metadata": {
    "scrolled": true
   },
   "outputs": [
    {
     "data": {
      "text/plain": [
       "DatetimeIndex(['2019-01-01', '2019-01-02', '2019-01-03', '2019-01-04',\n",
       "               '2019-01-05', '2019-01-06', '2019-01-07', '2019-01-08',\n",
       "               '2019-01-09', '2019-01-10',\n",
       "               ...\n",
       "               '2019-07-25', '2019-07-26', '2019-07-27', '2019-07-28',\n",
       "               '2019-07-29', '2019-07-30', '2019-07-31', '2019-08-01',\n",
       "               '2019-08-02', '2019-08-03'],\n",
       "              dtype='datetime64[ns]', length=215, freq='D')"
      ]
     },
     "execution_count": 49,
     "metadata": {},
     "output_type": "execute_result"
    }
   ],
   "source": [
    "dates"
   ]
  },
  {
   "cell_type": "code",
   "execution_count": 50,
   "metadata": {},
   "outputs": [
    {
     "ename": "ValueError",
     "evalue": "Expected object or value",
     "output_type": "error",
     "traceback": [
      "\u001b[0;31m---------------------------------------------------------------------------\u001b[0m",
      "\u001b[0;31mValueError\u001b[0m                                Traceback (most recent call last)",
      "\u001b[0;32m<ipython-input-50-1efbee707423>\u001b[0m in \u001b[0;36m<module>\u001b[0;34m()\u001b[0m\n\u001b[1;32m      7\u001b[0m     \u001b[0mdate_string\u001b[0m \u001b[0;34m=\u001b[0m \u001b[0mstr\u001b[0m\u001b[0;34m(\u001b[0m\u001b[0mdate\u001b[0m\u001b[0;34m.\u001b[0m\u001b[0myear\u001b[0m\u001b[0;34m)\u001b[0m \u001b[0;34m+\u001b[0m \u001b[0;34m'-'\u001b[0m \u001b[0;34m+\u001b[0m \u001b[0mstr\u001b[0m\u001b[0;34m(\u001b[0m\u001b[0mdate\u001b[0m\u001b[0;34m.\u001b[0m\u001b[0mmonth\u001b[0m\u001b[0;34m)\u001b[0m \u001b[0;34m+\u001b[0m\u001b[0;34m'-'\u001b[0m\u001b[0;34m+\u001b[0m\u001b[0mstr\u001b[0m\u001b[0;34m(\u001b[0m\u001b[0mdate\u001b[0m\u001b[0;34m.\u001b[0m\u001b[0mday\u001b[0m\u001b[0;34m)\u001b[0m\u001b[0;34m\u001b[0m\u001b[0;34m\u001b[0m\u001b[0m\n\u001b[1;32m      8\u001b[0m \u001b[0;31m#     soh = get_soh_as_of_date(date_string=date_string)\u001b[0m\u001b[0;34m\u001b[0m\u001b[0;34m\u001b[0m\u001b[0;34m\u001b[0m\u001b[0m\n\u001b[0;32m----> 9\u001b[0;31m     \u001b[0mtemp_df\u001b[0m \u001b[0;34m=\u001b[0m \u001b[0mpd\u001b[0m\u001b[0;34m.\u001b[0m\u001b[0mread_json\u001b[0m\u001b[0;34m(\u001b[0m\u001b[0;34m'stockOnHand_'\u001b[0m\u001b[0;34m+\u001b[0m\u001b[0mdate_string\u001b[0m\u001b[0;34m+\u001b[0m\u001b[0;34m'.json'\u001b[0m\u001b[0;34m)\u001b[0m\u001b[0;34m\u001b[0m\u001b[0;34m\u001b[0m\u001b[0m\n\u001b[0m\u001b[1;32m     10\u001b[0m     \u001b[0mtemp_df\u001b[0m \u001b[0;34m=\u001b[0m \u001b[0mpd\u001b[0m\u001b[0;34m.\u001b[0m\u001b[0mmerge\u001b[0m\u001b[0;34m(\u001b[0m\u001b[0mtemp_df\u001b[0m\u001b[0;34m,\u001b[0m\u001b[0mproducts_df\u001b[0m\u001b[0;34m[\u001b[0m\u001b[0;34m[\u001b[0m\u001b[0;34m'Guid'\u001b[0m\u001b[0;34m,\u001b[0m \u001b[0;34m'Notes'\u001b[0m\u001b[0;34m]\u001b[0m\u001b[0;34m]\u001b[0m\u001b[0;34m,\u001b[0m \u001b[0mhow\u001b[0m\u001b[0;34m=\u001b[0m\u001b[0;34m'left'\u001b[0m\u001b[0;34m,\u001b[0m \u001b[0mon\u001b[0m\u001b[0;34m=\u001b[0m\u001b[0;34m'Guid'\u001b[0m \u001b[0;34m)\u001b[0m\u001b[0;34m\u001b[0m\u001b[0;34m\u001b[0m\u001b[0m\n\u001b[1;32m     11\u001b[0m     \u001b[0midx\u001b[0m \u001b[0;34m=\u001b[0m \u001b[0mtemp_df\u001b[0m\u001b[0;34m.\u001b[0m\u001b[0mNotes\u001b[0m\u001b[0;34m.\u001b[0m\u001b[0mdropna\u001b[0m\u001b[0;34m(\u001b[0m\u001b[0;34m)\u001b[0m\u001b[0;34m.\u001b[0m\u001b[0mindex\u001b[0m\u001b[0;34m\u001b[0m\u001b[0;34m\u001b[0m\u001b[0m\n",
      "\u001b[0;32m~/anaconda3/lib/python3.7/site-packages/pandas/io/json/json.py\u001b[0m in \u001b[0;36mread_json\u001b[0;34m(path_or_buf, orient, typ, dtype, convert_axes, convert_dates, keep_default_dates, numpy, precise_float, date_unit, encoding, lines, chunksize, compression)\u001b[0m\n\u001b[1;32m    425\u001b[0m         \u001b[0;32mreturn\u001b[0m \u001b[0mjson_reader\u001b[0m\u001b[0;34m\u001b[0m\u001b[0;34m\u001b[0m\u001b[0m\n\u001b[1;32m    426\u001b[0m \u001b[0;34m\u001b[0m\u001b[0m\n\u001b[0;32m--> 427\u001b[0;31m     \u001b[0mresult\u001b[0m \u001b[0;34m=\u001b[0m \u001b[0mjson_reader\u001b[0m\u001b[0;34m.\u001b[0m\u001b[0mread\u001b[0m\u001b[0;34m(\u001b[0m\u001b[0;34m)\u001b[0m\u001b[0;34m\u001b[0m\u001b[0;34m\u001b[0m\u001b[0m\n\u001b[0m\u001b[1;32m    428\u001b[0m     \u001b[0;32mif\u001b[0m \u001b[0mshould_close\u001b[0m\u001b[0;34m:\u001b[0m\u001b[0;34m\u001b[0m\u001b[0;34m\u001b[0m\u001b[0m\n\u001b[1;32m    429\u001b[0m         \u001b[0;32mtry\u001b[0m\u001b[0;34m:\u001b[0m\u001b[0;34m\u001b[0m\u001b[0;34m\u001b[0m\u001b[0m\n",
      "\u001b[0;32m~/anaconda3/lib/python3.7/site-packages/pandas/io/json/json.py\u001b[0m in \u001b[0;36mread\u001b[0;34m(self)\u001b[0m\n\u001b[1;32m    535\u001b[0m             )\n\u001b[1;32m    536\u001b[0m         \u001b[0;32melse\u001b[0m\u001b[0;34m:\u001b[0m\u001b[0;34m\u001b[0m\u001b[0;34m\u001b[0m\u001b[0m\n\u001b[0;32m--> 537\u001b[0;31m             \u001b[0mobj\u001b[0m \u001b[0;34m=\u001b[0m \u001b[0mself\u001b[0m\u001b[0;34m.\u001b[0m\u001b[0m_get_object_parser\u001b[0m\u001b[0;34m(\u001b[0m\u001b[0mself\u001b[0m\u001b[0;34m.\u001b[0m\u001b[0mdata\u001b[0m\u001b[0;34m)\u001b[0m\u001b[0;34m\u001b[0m\u001b[0;34m\u001b[0m\u001b[0m\n\u001b[0m\u001b[1;32m    538\u001b[0m         \u001b[0mself\u001b[0m\u001b[0;34m.\u001b[0m\u001b[0mclose\u001b[0m\u001b[0;34m(\u001b[0m\u001b[0;34m)\u001b[0m\u001b[0;34m\u001b[0m\u001b[0;34m\u001b[0m\u001b[0m\n\u001b[1;32m    539\u001b[0m         \u001b[0;32mreturn\u001b[0m \u001b[0mobj\u001b[0m\u001b[0;34m\u001b[0m\u001b[0;34m\u001b[0m\u001b[0m\n",
      "\u001b[0;32m~/anaconda3/lib/python3.7/site-packages/pandas/io/json/json.py\u001b[0m in \u001b[0;36m_get_object_parser\u001b[0;34m(self, json)\u001b[0m\n\u001b[1;32m    554\u001b[0m         \u001b[0mobj\u001b[0m \u001b[0;34m=\u001b[0m \u001b[0;32mNone\u001b[0m\u001b[0;34m\u001b[0m\u001b[0;34m\u001b[0m\u001b[0m\n\u001b[1;32m    555\u001b[0m         \u001b[0;32mif\u001b[0m \u001b[0mtyp\u001b[0m \u001b[0;34m==\u001b[0m \u001b[0;34m'frame'\u001b[0m\u001b[0;34m:\u001b[0m\u001b[0;34m\u001b[0m\u001b[0;34m\u001b[0m\u001b[0m\n\u001b[0;32m--> 556\u001b[0;31m             \u001b[0mobj\u001b[0m \u001b[0;34m=\u001b[0m \u001b[0mFrameParser\u001b[0m\u001b[0;34m(\u001b[0m\u001b[0mjson\u001b[0m\u001b[0;34m,\u001b[0m \u001b[0;34m**\u001b[0m\u001b[0mkwargs\u001b[0m\u001b[0;34m)\u001b[0m\u001b[0;34m.\u001b[0m\u001b[0mparse\u001b[0m\u001b[0;34m(\u001b[0m\u001b[0;34m)\u001b[0m\u001b[0;34m\u001b[0m\u001b[0;34m\u001b[0m\u001b[0m\n\u001b[0m\u001b[1;32m    557\u001b[0m \u001b[0;34m\u001b[0m\u001b[0m\n\u001b[1;32m    558\u001b[0m         \u001b[0;32mif\u001b[0m \u001b[0mtyp\u001b[0m \u001b[0;34m==\u001b[0m \u001b[0;34m'series'\u001b[0m \u001b[0;32mor\u001b[0m \u001b[0mobj\u001b[0m \u001b[0;32mis\u001b[0m \u001b[0;32mNone\u001b[0m\u001b[0;34m:\u001b[0m\u001b[0;34m\u001b[0m\u001b[0;34m\u001b[0m\u001b[0m\n",
      "\u001b[0;32m~/anaconda3/lib/python3.7/site-packages/pandas/io/json/json.py\u001b[0m in \u001b[0;36mparse\u001b[0;34m(self)\u001b[0m\n\u001b[1;32m    650\u001b[0m \u001b[0;34m\u001b[0m\u001b[0m\n\u001b[1;32m    651\u001b[0m         \u001b[0;32melse\u001b[0m\u001b[0;34m:\u001b[0m\u001b[0;34m\u001b[0m\u001b[0;34m\u001b[0m\u001b[0m\n\u001b[0;32m--> 652\u001b[0;31m             \u001b[0mself\u001b[0m\u001b[0;34m.\u001b[0m\u001b[0m_parse_no_numpy\u001b[0m\u001b[0;34m(\u001b[0m\u001b[0;34m)\u001b[0m\u001b[0;34m\u001b[0m\u001b[0;34m\u001b[0m\u001b[0m\n\u001b[0m\u001b[1;32m    653\u001b[0m \u001b[0;34m\u001b[0m\u001b[0m\n\u001b[1;32m    654\u001b[0m         \u001b[0;32mif\u001b[0m \u001b[0mself\u001b[0m\u001b[0;34m.\u001b[0m\u001b[0mobj\u001b[0m \u001b[0;32mis\u001b[0m \u001b[0;32mNone\u001b[0m\u001b[0;34m:\u001b[0m\u001b[0;34m\u001b[0m\u001b[0;34m\u001b[0m\u001b[0m\n",
      "\u001b[0;32m~/anaconda3/lib/python3.7/site-packages/pandas/io/json/json.py\u001b[0m in \u001b[0;36m_parse_no_numpy\u001b[0;34m(self)\u001b[0m\n\u001b[1;32m    869\u001b[0m         \u001b[0;32mif\u001b[0m \u001b[0morient\u001b[0m \u001b[0;34m==\u001b[0m \u001b[0;34m\"columns\"\u001b[0m\u001b[0;34m:\u001b[0m\u001b[0;34m\u001b[0m\u001b[0;34m\u001b[0m\u001b[0m\n\u001b[1;32m    870\u001b[0m             self.obj = DataFrame(\n\u001b[0;32m--> 871\u001b[0;31m                 loads(json, precise_float=self.precise_float), dtype=None)\n\u001b[0m\u001b[1;32m    872\u001b[0m         \u001b[0;32melif\u001b[0m \u001b[0morient\u001b[0m \u001b[0;34m==\u001b[0m \u001b[0;34m\"split\"\u001b[0m\u001b[0;34m:\u001b[0m\u001b[0;34m\u001b[0m\u001b[0;34m\u001b[0m\u001b[0m\n\u001b[1;32m    873\u001b[0m             decoded = {str(k): v for k, v in compat.iteritems(\n",
      "\u001b[0;31mValueError\u001b[0m: Expected object or value"
     ]
    }
   ],
   "source": [
    "###############\n",
    "### Here we create the stocking products daily dataframe\n",
    "###############\n",
    "### stock_diff_df = pd.DataFrame()\n",
    "products_df = pd.read_csv('stocking_products.csv') # load if necessary\n",
    "stock_products_inv_value_df = pd.DataFrame([], index=dates)\n",
    "t = datetime(2019,8,3) - datetime(2019,1,1)\n",
    "for i in range(0,t.days + 1):\n",
    "    date = datetime(2019,1,1) + timedelta(i)\n",
    "    date_string = str(date.year) + '-' + str(date.month) +'-'+str(date.day)\n",
    "#     soh = get_soh_as_of_date(date_string=date_string)\n",
    "    temp_df = pd.read_json('stockOnHand_'+date_string+'.json')\n",
    "    temp_df = pd.merge(temp_df,products_df[['Guid', 'Notes']], how='left', on='Guid' )\n",
    "    idx = temp_df.Notes.dropna().index\n",
    "    temp_df = temp_df.iloc[idx]\n",
    "    temp_df =  temp_df[(temp_df.Notes.str.contains('Stock'))]\n",
    "    temp_df = temp_df[['ProductGroupName', 'TotalCost']].groupby('ProductGroupName').sum()\n",
    "    temp_df.rename(columns={'TotalCost':'TotalValueOn_' + date_string}, inplace=True)\n",
    "    stock_diff_df = pd.concat([stock_diff_df,temp_df], axis=1)"
   ]
  },
  {
   "cell_type": "code",
   "execution_count": null,
   "metadata": {},
   "outputs": [],
   "source": [
    "stock_diff_df.head()"
   ]
  },
  {
   "cell_type": "code",
   "execution_count": null,
   "metadata": {},
   "outputs": [],
   "source": [
    "stock_diff_df = stock_diff_df.T\n",
    "stock_diff_df.index = dates\n",
    "stock_diff_df.head()"
   ]
  },
  {
   "cell_type": "code",
   "execution_count": null,
   "metadata": {},
   "outputs": [],
   "source": [
    "stock_diff_df[['Prefinished Flooring']].plot()"
   ]
  },
  {
   "cell_type": "code",
   "execution_count": 51,
   "metadata": {},
   "outputs": [],
   "source": [
    "# stock_diff_df.to_csv('Stocking_product_values_by_product_group_daily.csv')\n",
    "stock_diff_df = pd.read_csv('Stocking_product_values_by_product_group_daily.csv', index_col=0)\n",
    "stock_diff_df.index = pd.to_datetime(stock_diff_df.index)"
   ]
  },
  {
   "cell_type": "code",
   "execution_count": 52,
   "metadata": {},
   "outputs": [
    {
     "data": {
      "text/html": [
       "<div>\n",
       "<style scoped>\n",
       "    .dataframe tbody tr th:only-of-type {\n",
       "        vertical-align: middle;\n",
       "    }\n",
       "\n",
       "    .dataframe tbody tr th {\n",
       "        vertical-align: top;\n",
       "    }\n",
       "\n",
       "    .dataframe thead th {\n",
       "        text-align: right;\n",
       "    }\n",
       "</style>\n",
       "<table border=\"1\" class=\"dataframe\">\n",
       "  <thead>\n",
       "    <tr style=\"text-align: right;\">\n",
       "      <th></th>\n",
       "      <th>Unnamed: 1</th>\n",
       "      <th>Adhesives</th>\n",
       "      <th>Applicators</th>\n",
       "      <th>Fasteners</th>\n",
       "      <th>Filler</th>\n",
       "      <th>Finish</th>\n",
       "      <th>Grills</th>\n",
       "      <th>Lagler Parts</th>\n",
       "      <th>Norton Misc.</th>\n",
       "      <th>Numbers</th>\n",
       "      <th>...</th>\n",
       "      <th>Sandpaper-Rolls</th>\n",
       "      <th>Sandpaper-Screens</th>\n",
       "      <th>Stair Treads</th>\n",
       "      <th>Tools</th>\n",
       "      <th>Underlayment</th>\n",
       "      <th>Unfinished Flooring</th>\n",
       "      <th>Unfinished Trim</th>\n",
       "      <th>WPC</th>\n",
       "      <th>Wickham Miscellaneous</th>\n",
       "      <th>Total</th>\n",
       "    </tr>\n",
       "  </thead>\n",
       "  <tbody>\n",
       "    <tr>\n",
       "      <th>2019-01-01</th>\n",
       "      <td>8454.329</td>\n",
       "      <td>3309.037</td>\n",
       "      <td>3873.475</td>\n",
       "      <td>14242.195</td>\n",
       "      <td>5544.759</td>\n",
       "      <td>155067.002</td>\n",
       "      <td>11261.957</td>\n",
       "      <td>2041.65</td>\n",
       "      <td>321.045</td>\n",
       "      <td>29248.006</td>\n",
       "      <td>...</td>\n",
       "      <td>3415.558</td>\n",
       "      <td>10320.467</td>\n",
       "      <td>5030.257</td>\n",
       "      <td>6779.952</td>\n",
       "      <td>14928.727</td>\n",
       "      <td>146211.693</td>\n",
       "      <td>22810.368</td>\n",
       "      <td>61176.691</td>\n",
       "      <td>3822.139</td>\n",
       "      <td>928360.885</td>\n",
       "    </tr>\n",
       "    <tr>\n",
       "      <th>2019-01-02</th>\n",
       "      <td>8454.329</td>\n",
       "      <td>3309.037</td>\n",
       "      <td>3873.475</td>\n",
       "      <td>14242.195</td>\n",
       "      <td>5544.759</td>\n",
       "      <td>155067.002</td>\n",
       "      <td>11261.957</td>\n",
       "      <td>2041.65</td>\n",
       "      <td>321.045</td>\n",
       "      <td>29248.006</td>\n",
       "      <td>...</td>\n",
       "      <td>3415.558</td>\n",
       "      <td>10320.467</td>\n",
       "      <td>5030.257</td>\n",
       "      <td>6779.952</td>\n",
       "      <td>14928.727</td>\n",
       "      <td>146211.693</td>\n",
       "      <td>22810.368</td>\n",
       "      <td>61176.691</td>\n",
       "      <td>3822.139</td>\n",
       "      <td>928360.885</td>\n",
       "    </tr>\n",
       "    <tr>\n",
       "      <th>2019-01-03</th>\n",
       "      <td>8443.459</td>\n",
       "      <td>3298.037</td>\n",
       "      <td>3839.755</td>\n",
       "      <td>14142.195</td>\n",
       "      <td>5491.199</td>\n",
       "      <td>141251.282</td>\n",
       "      <td>10751.260</td>\n",
       "      <td>2041.65</td>\n",
       "      <td>321.045</td>\n",
       "      <td>28946.506</td>\n",
       "      <td>...</td>\n",
       "      <td>3415.558</td>\n",
       "      <td>10294.977</td>\n",
       "      <td>5030.257</td>\n",
       "      <td>6711.326</td>\n",
       "      <td>14331.698</td>\n",
       "      <td>129000.346</td>\n",
       "      <td>22588.007</td>\n",
       "      <td>59625.937</td>\n",
       "      <td>3751.471</td>\n",
       "      <td>856972.822</td>\n",
       "    </tr>\n",
       "    <tr>\n",
       "      <th>2019-01-04</th>\n",
       "      <td>8213.025</td>\n",
       "      <td>3298.037</td>\n",
       "      <td>3839.755</td>\n",
       "      <td>12958.117</td>\n",
       "      <td>5420.349</td>\n",
       "      <td>135016.702</td>\n",
       "      <td>10734.348</td>\n",
       "      <td>2041.65</td>\n",
       "      <td>321.045</td>\n",
       "      <td>28946.506</td>\n",
       "      <td>...</td>\n",
       "      <td>3415.558</td>\n",
       "      <td>10294.977</td>\n",
       "      <td>5030.257</td>\n",
       "      <td>6695.945</td>\n",
       "      <td>14306.454</td>\n",
       "      <td>128838.144</td>\n",
       "      <td>22407.012</td>\n",
       "      <td>59625.937</td>\n",
       "      <td>3751.471</td>\n",
       "      <td>842738.690</td>\n",
       "    </tr>\n",
       "    <tr>\n",
       "      <th>2019-01-05</th>\n",
       "      <td>8178.540</td>\n",
       "      <td>3298.037</td>\n",
       "      <td>3746.643</td>\n",
       "      <td>12958.117</td>\n",
       "      <td>5420.349</td>\n",
       "      <td>142657.385</td>\n",
       "      <td>10722.282</td>\n",
       "      <td>2041.65</td>\n",
       "      <td>321.045</td>\n",
       "      <td>28946.506</td>\n",
       "      <td>...</td>\n",
       "      <td>3415.558</td>\n",
       "      <td>10294.977</td>\n",
       "      <td>5030.257</td>\n",
       "      <td>6695.945</td>\n",
       "      <td>14306.454</td>\n",
       "      <td>128838.144</td>\n",
       "      <td>22349.699</td>\n",
       "      <td>57027.125</td>\n",
       "      <td>3751.471</td>\n",
       "      <td>845245.963</td>\n",
       "    </tr>\n",
       "  </tbody>\n",
       "</table>\n",
       "<p>5 rows × 27 columns</p>\n",
       "</div>"
      ],
      "text/plain": [
       "            Unnamed: 1  Adhesives  Applicators  Fasteners    Filler  \\\n",
       "2019-01-01    8454.329   3309.037     3873.475  14242.195  5544.759   \n",
       "2019-01-02    8454.329   3309.037     3873.475  14242.195  5544.759   \n",
       "2019-01-03    8443.459   3298.037     3839.755  14142.195  5491.199   \n",
       "2019-01-04    8213.025   3298.037     3839.755  12958.117  5420.349   \n",
       "2019-01-05    8178.540   3298.037     3746.643  12958.117  5420.349   \n",
       "\n",
       "                Finish     Grills  Lagler Parts  Norton Misc.    Numbers  ...  \\\n",
       "2019-01-01  155067.002  11261.957       2041.65       321.045  29248.006  ...   \n",
       "2019-01-02  155067.002  11261.957       2041.65       321.045  29248.006  ...   \n",
       "2019-01-03  141251.282  10751.260       2041.65       321.045  28946.506  ...   \n",
       "2019-01-04  135016.702  10734.348       2041.65       321.045  28946.506  ...   \n",
       "2019-01-05  142657.385  10722.282       2041.65       321.045  28946.506  ...   \n",
       "\n",
       "            Sandpaper-Rolls  Sandpaper-Screens  Stair Treads     Tools  \\\n",
       "2019-01-01         3415.558          10320.467      5030.257  6779.952   \n",
       "2019-01-02         3415.558          10320.467      5030.257  6779.952   \n",
       "2019-01-03         3415.558          10294.977      5030.257  6711.326   \n",
       "2019-01-04         3415.558          10294.977      5030.257  6695.945   \n",
       "2019-01-05         3415.558          10294.977      5030.257  6695.945   \n",
       "\n",
       "            Underlayment  Unfinished Flooring  Unfinished Trim        WPC  \\\n",
       "2019-01-01     14928.727           146211.693        22810.368  61176.691   \n",
       "2019-01-02     14928.727           146211.693        22810.368  61176.691   \n",
       "2019-01-03     14331.698           129000.346        22588.007  59625.937   \n",
       "2019-01-04     14306.454           128838.144        22407.012  59625.937   \n",
       "2019-01-05     14306.454           128838.144        22349.699  57027.125   \n",
       "\n",
       "            Wickham Miscellaneous       Total  \n",
       "2019-01-01               3822.139  928360.885  \n",
       "2019-01-02               3822.139  928360.885  \n",
       "2019-01-03               3751.471  856972.822  \n",
       "2019-01-04               3751.471  842738.690  \n",
       "2019-01-05               3751.471  845245.963  \n",
       "\n",
       "[5 rows x 27 columns]"
      ]
     },
     "execution_count": 52,
     "metadata": {},
     "output_type": "execute_result"
    }
   ],
   "source": [
    "total_diff_df = pd.read_csv('product_values_by_product_group_daily.csv', index_col=0)\n",
    "total_diff_df.index = pd.to_datetime(total_diff_df.index)\n",
    "total_diff_df['Total'] = total_diff_df.sum(axis=1)\n",
    "total_diff_df.head()"
   ]
  },
  {
   "cell_type": "code",
   "execution_count": 53,
   "metadata": {},
   "outputs": [
    {
     "data": {
      "text/plain": [
       "<matplotlib.axes._subplots.AxesSubplot at 0x120b12860>"
      ]
     },
     "execution_count": 53,
     "metadata": {},
     "output_type": "execute_result"
    },
    {
     "data": {
      "image/png": "[encoded data removed]",
      "text/plain": [
       "<Figure size 432x288 with 1 Axes>"
      ]
     },
     "metadata": {
      "needs_background": "light"
     },
     "output_type": "display_data"
    }
   ],
   "source": [
    "plotting_df = pd.DataFrame(index=dates)\n",
    "# plotting_df.index = dates\n",
    "plotting_df['Non_Stock_Prefinished_Floors'] = total_diff_df['Prefinished Flooring'] - stock_diff_df['Prefinished Flooring']\n",
    "plotting_df['Stock_Prefinished_Floors'] = stock_diff_df['Prefinished Flooring']\n",
    "plotting_df['Total_Prefinished_Floors'] = total_diff_df['Prefinished Flooring']\n",
    "t_df = plotting_df.rolling(30).mean()\n",
    "t_df.columns = ['Non Stock 30 Day Moving Average', 'Stock 30 Day Moving Average', 'Total 30 Day Moving Average']\n",
    "plotting_df = pd.concat([plotting_df,t_df], axis=1)\n",
    "plotting_df.plot()"
   ]
  },
  {
   "cell_type": "code",
   "execution_count": 54,
   "metadata": {},
   "outputs": [
    {
     "data": {
      "text/plain": [
       "<matplotlib.axes._subplots.AxesSubplot at 0x1300c4940>"
      ]
     },
     "execution_count": 54,
     "metadata": {},
     "output_type": "execute_result"
    },
    {
     "data": {
      "image/png": "[encoded data removed]",
      "text/plain": [
       "<Figure size 432x288 with 1 Axes>"
      ]
     },
     "metadata": {
      "needs_background": "light"
     },
     "output_type": "display_data"
    }
   ],
   "source": [
    "total_stock_plotting_df = pd.DataFrame(index=dates)\n",
    "total_stock_plotting_df['Inventory_total'] = total_diff_df.sum(axis=1)\n",
    "total_stock_plotting_df['Inventory_total_Stock_Products'] = stock_diff_df.sum(axis=1)\n",
    "total_stock_plotting_df['Inventory_total_Non_Stock_Products'] = total_diff_df.sum(axis=1) - stock_diff_df.sum(axis=1)\n",
    "t_df = total_stock_plotting_df.rolling(30).mean()\n",
    "t_df.columns = ['Total 30 Day Moving Average', 'Stock 30 Day Moving Average', 'Non Stock 30 Day Moving Average']\n",
    "total_stock_plotting_df = pd.concat([total_stock_plotting_df,t_df], axis=1)\n",
    "total_stock_plotting_df.plot()"
   ]
  },
  {
   "cell_type": "markdown",
   "metadata": {},
   "source": [
    "## Calculating average days to sell."
   ]
  },
  {
   "cell_type": "code",
   "execution_count": 55,
   "metadata": {},
   "outputs": [],
   "source": [
    "# Calculate the average inventory value from the beginning of the year\n",
    "ew"
   ]
  },
  {
   "cell_type": "code",
   "execution_count": 56,
   "metadata": {},
   "outputs": [],
   "source": [
    "po_df = pd.read_csv('Purchase_Orders_Flattened.csv',)"
   ]
  },
  {
   "cell_type": "code",
   "execution_count": 57,
   "metadata": {},
   "outputs": [
    {
     "name": "stdout",
     "output_type": "stream",
     "text": [
      "<class 'pandas.core.frame.DataFrame'>\n",
      "RangeIndex: 1955 entries, 0 to 1954\n",
      "Data columns (total 8 columns):\n",
      "Supplier            1950 non-null object\n",
      "CreatedOn           1950 non-null object\n",
      "CompletedDate       1950 non-null object\n",
      "Time_To_Complete    1950 non-null object\n",
      "Total               1950 non-null float64\n",
      "Guid                1950 non-null object\n",
      "SupplierCode        1950 non-null object\n",
      "SupplierName        1950 non-null object\n",
      "dtypes: float64(1), object(7)\n",
      "memory usage: 122.3+ KB\n"
     ]
    }
   ],
   "source": [
    "po_df.info()"
   ]
  },
  {
   "cell_type": "code",
   "execution_count": 58,
   "metadata": {},
   "outputs": [
    {
     "data": {
      "text/html": [
       "<div>\n",
       "<style scoped>\n",
       "    .dataframe tbody tr th:only-of-type {\n",
       "        vertical-align: middle;\n",
       "    }\n",
       "\n",
       "    .dataframe tbody tr th {\n",
       "        vertical-align: top;\n",
       "    }\n",
       "\n",
       "    .dataframe thead th {\n",
       "        text-align: right;\n",
       "    }\n",
       "</style>\n",
       "<table border=\"1\" class=\"dataframe\">\n",
       "  <thead>\n",
       "    <tr style=\"text-align: right;\">\n",
       "      <th></th>\n",
       "      <th>Supplier</th>\n",
       "      <th>CreatedOn</th>\n",
       "      <th>CompletedDate</th>\n",
       "      <th>Time_To_Complete</th>\n",
       "      <th>Total</th>\n",
       "      <th>Guid</th>\n",
       "      <th>SupplierCode</th>\n",
       "      <th>SupplierName</th>\n",
       "    </tr>\n",
       "  </thead>\n",
       "  <tbody>\n",
       "    <tr>\n",
       "      <th>0</th>\n",
       "      <td>{'Guid': 'd320ea27-5022-44fe-b03a-7038f3e85d65...</td>\n",
       "      <td>2018-04-08</td>\n",
       "      <td>2018-04-09</td>\n",
       "      <td>1 days 05:37:10.548000000</td>\n",
       "      <td>8006.86</td>\n",
       "      <td>d320ea27-5022-44fe-b03a-7038f3e85d65</td>\n",
       "      <td>American OEM</td>\n",
       "      <td>American OEM</td>\n",
       "    </tr>\n",
       "    <tr>\n",
       "      <th>1</th>\n",
       "      <td>{'Guid': 'd320ea27-5022-44fe-b03a-7038f3e85d65...</td>\n",
       "      <td>2018-04-08</td>\n",
       "      <td>2018-04-09</td>\n",
       "      <td>1 days 05:30:08.766000000</td>\n",
       "      <td>440.00</td>\n",
       "      <td>d320ea27-5022-44fe-b03a-7038f3e85d65</td>\n",
       "      <td>American OEM</td>\n",
       "      <td>American OEM</td>\n",
       "    </tr>\n",
       "    <tr>\n",
       "      <th>2</th>\n",
       "      <td>{'Guid': '997d9738-72e7-4d21-a648-32d763dd990e...</td>\n",
       "      <td>2018-04-08</td>\n",
       "      <td>2018-04-23</td>\n",
       "      <td>15 days 07:14:04.960000000</td>\n",
       "      <td>1428.48</td>\n",
       "      <td>997d9738-72e7-4d21-a648-32d763dd990e</td>\n",
       "      <td>GLITSA AMERICAN, INC.</td>\n",
       "      <td>GLITSA AMERICAN, INC.</td>\n",
       "    </tr>\n",
       "    <tr>\n",
       "      <th>3</th>\n",
       "      <td>{'Guid': 'd320ea27-5022-44fe-b03a-7038f3e85d65...</td>\n",
       "      <td>2018-04-08</td>\n",
       "      <td>2018-05-14</td>\n",
       "      <td>36 days 00:39:22.999000000</td>\n",
       "      <td>432.00</td>\n",
       "      <td>d320ea27-5022-44fe-b03a-7038f3e85d65</td>\n",
       "      <td>American OEM</td>\n",
       "      <td>American OEM</td>\n",
       "    </tr>\n",
       "    <tr>\n",
       "      <th>4</th>\n",
       "      <td>{'Guid': '0871166d-a9b7-439c-afdf-3f67c82ba5c4...</td>\n",
       "      <td>2018-04-08</td>\n",
       "      <td>2018-04-25</td>\n",
       "      <td>17 days 01:34:46.965000000</td>\n",
       "      <td>2201.92</td>\n",
       "      <td>0871166d-a9b7-439c-afdf-3f67c82ba5c4</td>\n",
       "      <td>DESIGN HARDWOOD PRODUCTS, INC.</td>\n",
       "      <td>DESIGN HARDWOOD PRODUCTS, INC.</td>\n",
       "    </tr>\n",
       "  </tbody>\n",
       "</table>\n",
       "</div>"
      ],
      "text/plain": [
       "                                            Supplier   CreatedOn  \\\n",
       "0  {'Guid': 'd320ea27-5022-44fe-b03a-7038f3e85d65...  2018-04-08   \n",
       "1  {'Guid': 'd320ea27-5022-44fe-b03a-7038f3e85d65...  2018-04-08   \n",
       "2  {'Guid': '997d9738-72e7-4d21-a648-32d763dd990e...  2018-04-08   \n",
       "3  {'Guid': 'd320ea27-5022-44fe-b03a-7038f3e85d65...  2018-04-08   \n",
       "4  {'Guid': '0871166d-a9b7-439c-afdf-3f67c82ba5c4...  2018-04-08   \n",
       "\n",
       "  CompletedDate            Time_To_Complete    Total  \\\n",
       "0    2018-04-09   1 days 05:37:10.548000000  8006.86   \n",
       "1    2018-04-09   1 days 05:30:08.766000000   440.00   \n",
       "2    2018-04-23  15 days 07:14:04.960000000  1428.48   \n",
       "3    2018-05-14  36 days 00:39:22.999000000   432.00   \n",
       "4    2018-04-25  17 days 01:34:46.965000000  2201.92   \n",
       "\n",
       "                                   Guid                    SupplierCode  \\\n",
       "0  d320ea27-5022-44fe-b03a-7038f3e85d65                    American OEM   \n",
       "1  d320ea27-5022-44fe-b03a-7038f3e85d65                    American OEM   \n",
       "2  997d9738-72e7-4d21-a648-32d763dd990e           GLITSA AMERICAN, INC.   \n",
       "3  d320ea27-5022-44fe-b03a-7038f3e85d65                    American OEM   \n",
       "4  0871166d-a9b7-439c-afdf-3f67c82ba5c4  DESIGN HARDWOOD PRODUCTS, INC.   \n",
       "\n",
       "                     SupplierName  \n",
       "0                    American OEM  \n",
       "1                    American OEM  \n",
       "2           GLITSA AMERICAN, INC.  \n",
       "3                    American OEM  \n",
       "4  DESIGN HARDWOOD PRODUCTS, INC.  "
      ]
     },
     "execution_count": 58,
     "metadata": {},
     "output_type": "execute_result"
    }
   ],
   "source": [
    "po_df.head()"
   ]
  },
  {
   "cell_type": "code",
   "execution_count": 59,
   "metadata": {},
   "outputs": [],
   "source": [
    "po_df['CreatedOn'] = pd.to_datetime(po_df.CreatedOn)\n",
    "po_df['CompletedDate'] = pd.to_datetime(po_df.CompletedDate)\n",
    "po_df.CreatedOn = pd.DatetimeIndex(po_df.CreatedOn).normalize()\n",
    "po_df.CompletedDate = pd.DatetimeIndex(po_df.CompletedDate).normalize()"
   ]
  },
  {
   "cell_type": "code",
   "execution_count": 60,
   "metadata": {},
   "outputs": [],
   "source": [
    "daily_purchases_df = po_df.groupby('CompletedDate').sum()"
   ]
  },
  {
   "cell_type": "code",
   "execution_count": 61,
   "metadata": {},
   "outputs": [
    {
     "name": "stdout",
     "output_type": "stream",
     "text": [
      "<class 'pandas.core.frame.DataFrame'>\n",
      "DatetimeIndex: 308 entries, 2018-04-09 to 2019-08-02\n",
      "Data columns (total 1 columns):\n",
      "Total    308 non-null float64\n",
      "dtypes: float64(1)\n",
      "memory usage: 4.8 KB\n"
     ]
    }
   ],
   "source": [
    "daily_purchases_df.info()"
   ]
  },
  {
   "cell_type": "code",
   "execution_count": 62,
   "metadata": {},
   "outputs": [
    {
     "data": {
      "text/html": [
       "<div>\n",
       "<style scoped>\n",
       "    .dataframe tbody tr th:only-of-type {\n",
       "        vertical-align: middle;\n",
       "    }\n",
       "\n",
       "    .dataframe tbody tr th {\n",
       "        vertical-align: top;\n",
       "    }\n",
       "\n",
       "    .dataframe thead th {\n",
       "        text-align: right;\n",
       "    }\n",
       "</style>\n",
       "<table border=\"1\" class=\"dataframe\">\n",
       "  <thead>\n",
       "    <tr style=\"text-align: right;\">\n",
       "      <th></th>\n",
       "      <th>DatePurchaseTotal</th>\n",
       "    </tr>\n",
       "    <tr>\n",
       "      <th>CompletedDate</th>\n",
       "      <th></th>\n",
       "    </tr>\n",
       "  </thead>\n",
       "  <tbody>\n",
       "    <tr>\n",
       "      <th>2019-01-02</th>\n",
       "      <td>6020.88</td>\n",
       "    </tr>\n",
       "    <tr>\n",
       "      <th>2019-01-03</th>\n",
       "      <td>40.00</td>\n",
       "    </tr>\n",
       "    <tr>\n",
       "      <th>2019-01-04</th>\n",
       "      <td>10596.74</td>\n",
       "    </tr>\n",
       "    <tr>\n",
       "      <th>2019-01-07</th>\n",
       "      <td>4848.10</td>\n",
       "    </tr>\n",
       "    <tr>\n",
       "      <th>2019-01-08</th>\n",
       "      <td>4617.92</td>\n",
       "    </tr>\n",
       "    <tr>\n",
       "      <th>2019-01-10</th>\n",
       "      <td>579.22</td>\n",
       "    </tr>\n",
       "    <tr>\n",
       "      <th>2019-01-11</th>\n",
       "      <td>9936.74</td>\n",
       "    </tr>\n",
       "    <tr>\n",
       "      <th>2019-01-14</th>\n",
       "      <td>659.22</td>\n",
       "    </tr>\n",
       "    <tr>\n",
       "      <th>2019-01-15</th>\n",
       "      <td>2313.23</td>\n",
       "    </tr>\n",
       "    <tr>\n",
       "      <th>2019-01-16</th>\n",
       "      <td>49487.20</td>\n",
       "    </tr>\n",
       "    <tr>\n",
       "      <th>2019-01-17</th>\n",
       "      <td>7079.86</td>\n",
       "    </tr>\n",
       "    <tr>\n",
       "      <th>2019-01-18</th>\n",
       "      <td>5915.76</td>\n",
       "    </tr>\n",
       "    <tr>\n",
       "      <th>2019-01-21</th>\n",
       "      <td>2253.80</td>\n",
       "    </tr>\n",
       "    <tr>\n",
       "      <th>2019-01-22</th>\n",
       "      <td>1242.19</td>\n",
       "    </tr>\n",
       "    <tr>\n",
       "      <th>2019-01-23</th>\n",
       "      <td>55832.95</td>\n",
       "    </tr>\n",
       "    <tr>\n",
       "      <th>2019-01-24</th>\n",
       "      <td>4633.79</td>\n",
       "    </tr>\n",
       "    <tr>\n",
       "      <th>2019-01-25</th>\n",
       "      <td>19041.96</td>\n",
       "    </tr>\n",
       "    <tr>\n",
       "      <th>2019-01-28</th>\n",
       "      <td>55768.20</td>\n",
       "    </tr>\n",
       "    <tr>\n",
       "      <th>2019-01-29</th>\n",
       "      <td>953.09</td>\n",
       "    </tr>\n",
       "    <tr>\n",
       "      <th>2019-01-30</th>\n",
       "      <td>8171.44</td>\n",
       "    </tr>\n",
       "    <tr>\n",
       "      <th>2019-01-31</th>\n",
       "      <td>8371.66</td>\n",
       "    </tr>\n",
       "    <tr>\n",
       "      <th>2019-02-01</th>\n",
       "      <td>18138.25</td>\n",
       "    </tr>\n",
       "    <tr>\n",
       "      <th>2019-02-04</th>\n",
       "      <td>1547.90</td>\n",
       "    </tr>\n",
       "    <tr>\n",
       "      <th>2019-02-05</th>\n",
       "      <td>2887.02</td>\n",
       "    </tr>\n",
       "    <tr>\n",
       "      <th>2019-02-07</th>\n",
       "      <td>54761.70</td>\n",
       "    </tr>\n",
       "    <tr>\n",
       "      <th>2019-02-08</th>\n",
       "      <td>14641.90</td>\n",
       "    </tr>\n",
       "    <tr>\n",
       "      <th>2019-02-11</th>\n",
       "      <td>3688.94</td>\n",
       "    </tr>\n",
       "    <tr>\n",
       "      <th>2019-02-14</th>\n",
       "      <td>6601.99</td>\n",
       "    </tr>\n",
       "    <tr>\n",
       "      <th>2019-02-15</th>\n",
       "      <td>10468.17</td>\n",
       "    </tr>\n",
       "    <tr>\n",
       "      <th>2019-02-18</th>\n",
       "      <td>265.00</td>\n",
       "    </tr>\n",
       "    <tr>\n",
       "      <th>...</th>\n",
       "      <td>...</td>\n",
       "    </tr>\n",
       "    <tr>\n",
       "      <th>2019-06-14</th>\n",
       "      <td>3770.43</td>\n",
       "    </tr>\n",
       "    <tr>\n",
       "      <th>2019-06-17</th>\n",
       "      <td>3896.71</td>\n",
       "    </tr>\n",
       "    <tr>\n",
       "      <th>2019-06-18</th>\n",
       "      <td>3238.92</td>\n",
       "    </tr>\n",
       "    <tr>\n",
       "      <th>2019-06-20</th>\n",
       "      <td>13320.55</td>\n",
       "    </tr>\n",
       "    <tr>\n",
       "      <th>2019-06-21</th>\n",
       "      <td>30211.93</td>\n",
       "    </tr>\n",
       "    <tr>\n",
       "      <th>2019-06-24</th>\n",
       "      <td>12445.25</td>\n",
       "    </tr>\n",
       "    <tr>\n",
       "      <th>2019-06-26</th>\n",
       "      <td>16453.94</td>\n",
       "    </tr>\n",
       "    <tr>\n",
       "      <th>2019-06-27</th>\n",
       "      <td>18344.31</td>\n",
       "    </tr>\n",
       "    <tr>\n",
       "      <th>2019-06-28</th>\n",
       "      <td>8533.20</td>\n",
       "    </tr>\n",
       "    <tr>\n",
       "      <th>2019-07-01</th>\n",
       "      <td>7305.35</td>\n",
       "    </tr>\n",
       "    <tr>\n",
       "      <th>2019-07-02</th>\n",
       "      <td>6983.46</td>\n",
       "    </tr>\n",
       "    <tr>\n",
       "      <th>2019-07-03</th>\n",
       "      <td>3778.20</td>\n",
       "    </tr>\n",
       "    <tr>\n",
       "      <th>2019-07-08</th>\n",
       "      <td>3038.22</td>\n",
       "    </tr>\n",
       "    <tr>\n",
       "      <th>2019-07-09</th>\n",
       "      <td>1878.06</td>\n",
       "    </tr>\n",
       "    <tr>\n",
       "      <th>2019-07-10</th>\n",
       "      <td>63218.56</td>\n",
       "    </tr>\n",
       "    <tr>\n",
       "      <th>2019-07-12</th>\n",
       "      <td>56086.52</td>\n",
       "    </tr>\n",
       "    <tr>\n",
       "      <th>2019-07-15</th>\n",
       "      <td>5254.90</td>\n",
       "    </tr>\n",
       "    <tr>\n",
       "      <th>2019-07-16</th>\n",
       "      <td>76670.73</td>\n",
       "    </tr>\n",
       "    <tr>\n",
       "      <th>2019-07-17</th>\n",
       "      <td>1327.81</td>\n",
       "    </tr>\n",
       "    <tr>\n",
       "      <th>2019-07-18</th>\n",
       "      <td>2382.43</td>\n",
       "    </tr>\n",
       "    <tr>\n",
       "      <th>2019-07-19</th>\n",
       "      <td>7040.27</td>\n",
       "    </tr>\n",
       "    <tr>\n",
       "      <th>2019-07-24</th>\n",
       "      <td>51100.18</td>\n",
       "    </tr>\n",
       "    <tr>\n",
       "      <th>2019-07-25</th>\n",
       "      <td>8211.36</td>\n",
       "    </tr>\n",
       "    <tr>\n",
       "      <th>2019-07-26</th>\n",
       "      <td>967.46</td>\n",
       "    </tr>\n",
       "    <tr>\n",
       "      <th>2019-07-27</th>\n",
       "      <td>355.00</td>\n",
       "    </tr>\n",
       "    <tr>\n",
       "      <th>2019-07-29</th>\n",
       "      <td>14899.94</td>\n",
       "    </tr>\n",
       "    <tr>\n",
       "      <th>2019-07-30</th>\n",
       "      <td>47277.15</td>\n",
       "    </tr>\n",
       "    <tr>\n",
       "      <th>2019-07-31</th>\n",
       "      <td>24910.46</td>\n",
       "    </tr>\n",
       "    <tr>\n",
       "      <th>2019-08-01</th>\n",
       "      <td>6679.58</td>\n",
       "    </tr>\n",
       "    <tr>\n",
       "      <th>2019-08-02</th>\n",
       "      <td>7355.12</td>\n",
       "    </tr>\n",
       "  </tbody>\n",
       "</table>\n",
       "<p>138 rows × 1 columns</p>\n",
       "</div>"
      ],
      "text/plain": [
       "               DatePurchaseTotal\n",
       "CompletedDate                   \n",
       "2019-01-02               6020.88\n",
       "2019-01-03                 40.00\n",
       "2019-01-04              10596.74\n",
       "2019-01-07               4848.10\n",
       "2019-01-08               4617.92\n",
       "2019-01-10                579.22\n",
       "2019-01-11               9936.74\n",
       "2019-01-14                659.22\n",
       "2019-01-15               2313.23\n",
       "2019-01-16              49487.20\n",
       "2019-01-17               7079.86\n",
       "2019-01-18               5915.76\n",
       "2019-01-21               2253.80\n",
       "2019-01-22               1242.19\n",
       "2019-01-23              55832.95\n",
       "2019-01-24               4633.79\n",
       "2019-01-25              19041.96\n",
       "2019-01-28              55768.20\n",
       "2019-01-29                953.09\n",
       "2019-01-30               8171.44\n",
       "2019-01-31               8371.66\n",
       "2019-02-01              18138.25\n",
       "2019-02-04               1547.90\n",
       "2019-02-05               2887.02\n",
       "2019-02-07              54761.70\n",
       "2019-02-08              14641.90\n",
       "2019-02-11               3688.94\n",
       "2019-02-14               6601.99\n",
       "2019-02-15              10468.17\n",
       "2019-02-18                265.00\n",
       "...                          ...\n",
       "2019-06-14               3770.43\n",
       "2019-06-17               3896.71\n",
       "2019-06-18               3238.92\n",
       "2019-06-20              13320.55\n",
       "2019-06-21              30211.93\n",
       "2019-06-24              12445.25\n",
       "2019-06-26              16453.94\n",
       "2019-06-27              18344.31\n",
       "2019-06-28               8533.20\n",
       "2019-07-01               7305.35\n",
       "2019-07-02               6983.46\n",
       "2019-07-03               3778.20\n",
       "2019-07-08               3038.22\n",
       "2019-07-09               1878.06\n",
       "2019-07-10              63218.56\n",
       "2019-07-12              56086.52\n",
       "2019-07-15               5254.90\n",
       "2019-07-16              76670.73\n",
       "2019-07-17               1327.81\n",
       "2019-07-18               2382.43\n",
       "2019-07-19               7040.27\n",
       "2019-07-24              51100.18\n",
       "2019-07-25               8211.36\n",
       "2019-07-26                967.46\n",
       "2019-07-27                355.00\n",
       "2019-07-29              14899.94\n",
       "2019-07-30              47277.15\n",
       "2019-07-31              24910.46\n",
       "2019-08-01               6679.58\n",
       "2019-08-02               7355.12\n",
       "\n",
       "[138 rows x 1 columns]"
      ]
     },
     "execution_count": 62,
     "metadata": {},
     "output_type": "execute_result"
    }
   ],
   "source": [
    "daily_purchases_df.columns=['DatePurchaseTotal']\n",
    "daily_purchases_df[datetime(2019,1,1):]"
   ]
  },
  {
   "cell_type": "code",
   "execution_count": 63,
   "metadata": {},
   "outputs": [],
   "source": [
    "daily_inv_val_with_purchases_df = pd.merge(total_diff_df, daily_purchases_df, how='left',left_index=True, right_index=True)"
   ]
  },
  {
   "cell_type": "code",
   "execution_count": 64,
   "metadata": {},
   "outputs": [],
   "source": [
    "daily_inv_val_with_purchases_df.DatePurchaseTotal=daily_inv_val_with_purchases_df.DatePurchaseTotal.fillna(value=0.0)"
   ]
  },
  {
   "cell_type": "code",
   "execution_count": 65,
   "metadata": {},
   "outputs": [],
   "source": [
    "# Get the inventory total values for each day\n",
    "p = daily_inv_val_with_purchases_df.Total.values"
   ]
  },
  {
   "cell_type": "code",
   "execution_count": 66,
   "metadata": {},
   "outputs": [
    {
     "data": {
      "text/plain": [
       "215"
      ]
     },
     "execution_count": 66,
     "metadata": {},
     "output_type": "execute_result"
    }
   ],
   "source": [
    "len(p)"
   ]
  },
  {
   "cell_type": "code",
   "execution_count": 67,
   "metadata": {
    "scrolled": true
   },
   "outputs": [
    {
     "data": {
      "text/plain": [
       "215"
      ]
     },
     "execution_count": 67,
     "metadata": {},
     "output_type": "execute_result"
    }
   ],
   "source": [
    "len(p)"
   ]
  },
  {
   "cell_type": "code",
   "execution_count": 68,
   "metadata": {},
   "outputs": [
    {
     "data": {
      "text/plain": [
       "928360.8850000001"
      ]
     },
     "execution_count": 68,
     "metadata": {},
     "output_type": "execute_result"
    }
   ],
   "source": [
    "p[0]"
   ]
  },
  {
   "cell_type": "code",
   "execution_count": 69,
   "metadata": {},
   "outputs": [],
   "source": [
    "# Remove the first value, and append a zero value to the end of the array\n",
    "np.delete(p, 0)\n",
    "np.append(p,np.array([0]))\n",
    "daily_inv_val_with_purchases_df['Next_Day_Inventory'] = p"
   ]
  },
  {
   "cell_type": "code",
   "execution_count": 70,
   "metadata": {},
   "outputs": [],
   "source": [
    "# Calculate cogs = initial inventory + purchases - final inventory\n",
    "daily_cost_of_goods_sold = daily_inv_val_with_purchases_df.Total + daily_inv_val_with_purchases_df.DatePurchaseTotal - daily_inv_val_with_purchases_df.Next_Day_Inventory"
   ]
  },
  {
   "cell_type": "code",
   "execution_count": 72,
   "metadata": {},
   "outputs": [],
   "source": [
    "daily_inv_val_with_purchases_df['COGS'] = daily_cost_of_goods_sold.cumsum()"
   ]
  },
  {
   "cell_type": "code",
   "execution_count": 73,
   "metadata": {},
   "outputs": [],
   "source": [
    "daily_inv_val_with_purchases_df['InventoryTurns'] = daily_inv_val_with_purchases_df.COGS / daily_inv_val_with_purchases_df.AverageInventory \n"
   ]
  },
  {
   "cell_type": "code",
   "execution_count": 74,
   "metadata": {},
   "outputs": [],
   "source": [
    "daily_inv_val_with_purchases_df['time_delta'] = daily_inv_val_with_purchases_df.index - datetime(2019,1,1)\n",
    "\n",
    "# daily_inv_val_with_purchases_df['AverageDaysToSell'] = daily_inv_val_with_purchases_df.InventoryTurns"
   ]
  },
  {
   "cell_type": "code",
   "execution_count": 75,
   "metadata": {
    "scrolled": true
   },
   "outputs": [
    {
     "name": "stderr",
     "output_type": "stream",
     "text": [
      "/Users/jon/anaconda3/lib/python3.7/site-packages/pandas/core/arrays/timedeltas.py:523: RuntimeWarning: invalid value encountered in true_divide\n",
      "  result = self._data / other\n"
     ]
    }
   ],
   "source": [
    "daily_inv_val_with_purchases_df['AverageDaysToSell'] = daily_inv_val_with_purchases_df.time_delta / daily_inv_val_with_purchases_df.InventoryTurns\n"
   ]
  },
  {
   "cell_type": "code",
   "execution_count": 76,
   "metadata": {
    "scrolled": false
   },
   "outputs": [
    {
     "data": {
      "text/plain": [
       "2019-01-01                        NaT\n",
       "2019-01-02   154 days 04:33:56.058516\n",
       "2019-01-03   294 days 13:36:06.961365\n",
       "2019-01-04   159 days 11:39:09.834850\n",
       "2019-01-05   212 days 22:45:42.637567\n",
       "2019-01-06   266 days 04:27:08.296959\n",
       "2019-01-07   247 days 09:56:27.019713\n",
       "2019-01-08   236 days 16:53:23.521591\n",
       "2019-01-09   269 days 08:53:01.114301\n",
       "2019-01-10   295 days 09:44:03.155617\n",
       "2019-01-11   239 days 06:45:18.611338\n",
       "2019-01-12   261 days 11:22:53.508531\n",
       "2019-01-13   285 days 05:52:14.736580\n",
       "2019-01-14   303 days 13:16:59.208264\n",
       "2019-01-15   306 days 15:26:38.497770\n",
       "2019-01-16   145 days 20:49:57.911295\n",
       "2019-01-17   148 days 00:28:13.362244\n",
       "2019-01-18   147 days 05:51:33.013852\n",
       "2019-01-19   155 days 10:34:16.537430\n",
       "2019-01-20   164 days 01:49:30.789509\n",
       "2019-01-21   168 days 23:33:02.457121\n",
       "2019-01-22   175 days 03:54:34.899907\n",
       "2019-01-23   119 days 12:42:51.340225\n",
       "2019-01-24   124 days 18:13:33.594502\n",
       "2019-01-25   116 days 00:24:29.326280\n",
       "2019-01-26   121 days 12:56:27.991975\n",
       "2019-01-27   126 days 09:37:07.511654\n",
       "2019-01-28   100 days 20:54:25.660420\n",
       "2019-01-29   107 days 02:41:21.699436\n",
       "2019-01-30   106 days 20:02:31.492614\n",
       "                       ...           \n",
       "2019-07-05    96 days 17:24:52.218322\n",
       "2019-07-06    97 days 05:57:45.689773\n",
       "2019-07-07    97 days 18:30:39.161223\n",
       "2019-07-08    98 days 02:41:51.086986\n",
       "2019-07-09    97 days 20:11:54.289476\n",
       "2019-07-10    94 days 16:53:43.530188\n",
       "2019-07-11    94 days 20:57:11.110532\n",
       "2019-07-12    92 days 06:42:49.554257\n",
       "2019-07-13    95 days 21:37:09.019136\n",
       "2019-07-14    96 days 09:32:40.775712\n",
       "2019-07-15    96 days 14:33:54.453563\n",
       "2019-07-16    93 days 02:19:20.319398\n",
       "2019-07-17    96 days 01:00:04.693814\n",
       "2019-07-18    95 days 15:43:00.434331\n",
       "2019-07-19    95 days 09:29:54.353452\n",
       "2019-07-20    94 days 03:17:03.241454\n",
       "2019-07-21    94 days 14:34:50.357661\n",
       "2019-07-22    95 days 01:52:37.473868\n",
       "2019-07-23    94 days 21:50:17.582638\n",
       "2019-07-24    91 days 22:26:54.956507\n",
       "2019-07-25    93 days 15:59:04.402369\n",
       "2019-07-26    94 days 05:23:02.067373\n",
       "2019-07-27    94 days 04:12:28.334265\n",
       "2019-07-28    94 days 15:07:36.297233\n",
       "2019-07-29    94 days 08:27:08.740292\n",
       "2019-07-30    91 days 19:25:54.975746\n",
       "2019-07-31    92 days 17:50:27.477238\n",
       "2019-08-01    93 days 06:35:11.773934\n",
       "2019-08-02    92 days 23:40:22.443693\n",
       "2019-08-03    92 days 23:32:12.369612\n",
       "Name: AverageDaysToSell, Length: 215, dtype: timedelta64[ns]"
      ]
     },
     "execution_count": 76,
     "metadata": {},
     "output_type": "execute_result"
    }
   ],
   "source": [
    "daily_inv_val_with_purchases_df.AverageDaysToSell"
   ]
  },
  {
   "cell_type": "code",
   "execution_count": 77,
   "metadata": {},
   "outputs": [
    {
     "data": {
      "text/plain": [
       "Timedelta('154 days 04:33:56.058516')"
      ]
     },
     "execution_count": 77,
     "metadata": {},
     "output_type": "execute_result"
    }
   ],
   "source": [
    "daily_inv_val_with_purchases_df.AverageDaysToSell.iloc[1:]\n",
    "daily_inv_val_with_purchases_df.AverageDaysToSell.iloc[1]"
   ]
  },
  {
   "cell_type": "code",
   "execution_count": 80,
   "metadata": {
    "scrolled": false
   },
   "outputs": [
    {
     "data": {
      "text/plain": [
       "[<matplotlib.lines.Line2D at 0x13f3f7b70>]"
      ]
     },
     "execution_count": 80,
     "metadata": {},
     "output_type": "execute_result"
    },
    {
     "data": {
      "image/png": "[encoded data removed]",
      "text/plain": [
       "<Figure size 432x288 with 1 Axes>"
      ]
     },
     "metadata": {
      "needs_background": "light"
     },
     "output_type": "display_data"
    }
   ],
   "source": [
    "plt.plot(daily_inv_val_with_purchases_df.AverageDaysToSell.iloc[30:].apply(lambda x: x.days))"
   ]
  },
  {
   "cell_type": "code",
   "execution_count": null,
   "metadata": {},
   "outputs": [],
   "source": []
  }
 ],
 "metadata": {
  "kernelspec": {
   "display_name": "Python 3",
   "language": "python",
   "name": "python3"
  },
  "language_info": {
   "codemirror_mode": {
    "name": "ipython",
    "version": 3
   },
   "file_extension": ".py",
   "mimetype": "text/x-python",
   "name": "python",
   "nbconvert_exporter": "python",
   "pygments_lexer": "ipython3",
   "version": "3.7.3"
  },
  "latex_envs": {
   "LaTeX_envs_menu_present": true,
   "autoclose": false,
   "autocomplete": true,
   "bibliofile": "biblio.bib",
   "cite_by": "apalike",
   "current_citInitial": 1,
   "eqLabelWithNumbers": true,
   "eqNumInitial": 1,
   "hotkeys": {
    "equation": "Ctrl-E",
    "itemize": "Ctrl-I"
   },
   "labels_anchors": false,
   "latex_user_defs": false,
   "report_style_numbering": false,
   "user_envs_cfg": false
  }
 },
 "nbformat": 4,
 "nbformat_minor": 2
}
